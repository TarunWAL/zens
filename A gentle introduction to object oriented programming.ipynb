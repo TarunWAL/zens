{
 "cells": [
  {
   "cell_type": "code",
   "execution_count": 1,
   "id": "8085c4d0",
   "metadata": {},
   "outputs": [],
   "source": [
    "class Point:\n",
    "    pass"
   ]
  },
  {
   "cell_type": "code",
   "execution_count": 2,
   "id": "1b33117c",
   "metadata": {},
   "outputs": [
    {
     "data": {
      "text/plain": [
       "type"
      ]
     },
     "execution_count": 2,
     "metadata": {},
     "output_type": "execute_result"
    }
   ],
   "source": [
    "type(Point)"
   ]
  },
  {
   "cell_type": "code",
   "execution_count": 3,
   "id": "df29bc7a",
   "metadata": {},
   "outputs": [
    {
     "data": {
      "text/plain": [
       "type"
      ]
     },
     "execution_count": 3,
     "metadata": {},
     "output_type": "execute_result"
    }
   ],
   "source": [
    "type(type)"
   ]
  },
  {
   "cell_type": "code",
   "execution_count": 4,
   "id": "38aceb91",
   "metadata": {},
   "outputs": [],
   "source": [
    "p = Point()"
   ]
  },
  {
   "cell_type": "code",
   "execution_count": 5,
   "id": "899ecc9c",
   "metadata": {},
   "outputs": [
    {
     "data": {
      "text/plain": [
       "<__main__.Point at 0x190be878e50>"
      ]
     },
     "execution_count": 5,
     "metadata": {},
     "output_type": "execute_result"
    }
   ],
   "source": [
    "p"
   ]
  },
  {
   "cell_type": "code",
   "execution_count": 6,
   "id": "61c0d068",
   "metadata": {},
   "outputs": [
    {
     "data": {
      "text/plain": [
       "(1721183473232, 1721172506048)"
      ]
     },
     "execution_count": 6,
     "metadata": {},
     "output_type": "execute_result"
    }
   ],
   "source": [
    "id(p), id(Point)"
   ]
  },
  {
   "cell_type": "code",
   "execution_count": 7,
   "id": "31a5b136",
   "metadata": {},
   "outputs": [
    {
     "data": {
      "text/plain": [
       "{}"
      ]
     },
     "execution_count": 7,
     "metadata": {},
     "output_type": "execute_result"
    }
   ],
   "source": [
    "p.__dict__"
   ]
  },
  {
   "cell_type": "code",
   "execution_count": 8,
   "id": "fb3545f3",
   "metadata": {},
   "outputs": [],
   "source": [
    "p.x = 10\n",
    "p.y = 20"
   ]
  },
  {
   "cell_type": "code",
   "execution_count": 9,
   "id": "61e2ff3a",
   "metadata": {},
   "outputs": [
    {
     "data": {
      "text/plain": [
       "{'x': 10, 'y': 20}"
      ]
     },
     "execution_count": 9,
     "metadata": {},
     "output_type": "execute_result"
    }
   ],
   "source": [
    "p.__dict__"
   ]
  },
  {
   "cell_type": "code",
   "execution_count": 10,
   "id": "03e53144",
   "metadata": {},
   "outputs": [],
   "source": [
    "class Student:\n",
    "    def __new__(self):\n",
    "        print('Object Created')\n",
    "        \n",
    "    def __init__(self):\n",
    "        print(' Object Initialized')\n",
    "    \n",
    "    "
   ]
  },
  {
   "cell_type": "code",
   "execution_count": 11,
   "id": "d593dce0",
   "metadata": {},
   "outputs": [
    {
     "name": "stdout",
     "output_type": "stream",
     "text": [
      "Object Created\n"
     ]
    }
   ],
   "source": [
    "s = Student()"
   ]
  },
  {
   "cell_type": "code",
   "execution_count": 12,
   "id": "9f459f24",
   "metadata": {},
   "outputs": [],
   "source": [
    "class Student:\n",
    "    \n",
    "    def __init__(self,name):\n",
    "        self.name = name \n",
    "        print('Object initialized')\n",
    "    \n",
    "    def get_details(self):\n",
    "        print(' Student name = {}'.format(self.name))\n",
    "        \n",
    "    def my_print(self,val):\n",
    "        return type(val)"
   ]
  },
  {
   "cell_type": "code",
   "execution_count": 13,
   "id": "c56681f2",
   "metadata": {},
   "outputs": [
    {
     "ename": "TypeError",
     "evalue": "__init__() missing 1 required positional argument: 'name'",
     "output_type": "error",
     "traceback": [
      "\u001b[1;31m---------------------------------------------------------------------------\u001b[0m",
      "\u001b[1;31mTypeError\u001b[0m                                 Traceback (most recent call last)",
      "\u001b[1;32m<ipython-input-13-906bfe3cbabc>\u001b[0m in \u001b[0;36m<module>\u001b[1;34m\u001b[0m\n\u001b[1;32m----> 1\u001b[1;33m \u001b[0ms1\u001b[0m \u001b[1;33m=\u001b[0m \u001b[0mStudent\u001b[0m\u001b[1;33m(\u001b[0m\u001b[1;33m)\u001b[0m\u001b[1;33m\u001b[0m\u001b[1;33m\u001b[0m\u001b[0m\n\u001b[0m",
      "\u001b[1;31mTypeError\u001b[0m: __init__() missing 1 required positional argument: 'name'"
     ]
    }
   ],
   "source": [
    "s1 = Student()"
   ]
  },
  {
   "cell_type": "code",
   "execution_count": 14,
   "id": "2c376f28",
   "metadata": {},
   "outputs": [
    {
     "name": "stdout",
     "output_type": "stream",
     "text": [
      "Object initialized\n",
      "Object initialized\n"
     ]
    }
   ],
   "source": [
    "s1 = Student('Rahul')\n",
    "s2 = Student('Shiva')"
   ]
  },
  {
   "cell_type": "code",
   "execution_count": 15,
   "id": "6c139526",
   "metadata": {},
   "outputs": [
    {
     "data": {
      "text/plain": [
       "(<__main__.Student at 0x190be878ee0>, <__main__.Student at 0x190be878160>)"
      ]
     },
     "execution_count": 15,
     "metadata": {},
     "output_type": "execute_result"
    }
   ],
   "source": [
    "s1, s2"
   ]
  },
  {
   "cell_type": "code",
   "execution_count": 16,
   "id": "60de171f",
   "metadata": {},
   "outputs": [
    {
     "data": {
      "text/plain": [
       "<bound method Student.get_details of <__main__.Student object at 0x00000190BE878EE0>>"
      ]
     },
     "execution_count": 16,
     "metadata": {},
     "output_type": "execute_result"
    }
   ],
   "source": [
    "s1.get_details"
   ]
  },
  {
   "cell_type": "code",
   "execution_count": 17,
   "id": "9d1b765a",
   "metadata": {},
   "outputs": [
    {
     "name": "stdout",
     "output_type": "stream",
     "text": [
      " Student name = Rahul\n"
     ]
    }
   ],
   "source": [
    "s1.get_details()"
   ]
  },
  {
   "cell_type": "code",
   "execution_count": 18,
   "id": "dd020abb",
   "metadata": {},
   "outputs": [
    {
     "name": "stdout",
     "output_type": "stream",
     "text": [
      " Student name = Shiva\n"
     ]
    }
   ],
   "source": [
    "s2.get_details()"
   ]
  },
  {
   "cell_type": "code",
   "execution_count": 19,
   "id": "875287ae",
   "metadata": {},
   "outputs": [
    {
     "data": {
      "text/plain": [
       "int"
      ]
     },
     "execution_count": 19,
     "metadata": {},
     "output_type": "execute_result"
    }
   ],
   "source": [
    "s1.my_print(10)"
   ]
  },
  {
   "cell_type": "code",
   "execution_count": 21,
   "id": "facc9475",
   "metadata": {},
   "outputs": [
    {
     "data": {
      "text/plain": [
       "str"
      ]
     },
     "execution_count": 21,
     "metadata": {},
     "output_type": "execute_result"
    }
   ],
   "source": [
    "s2.my_print('rahul')"
   ]
  },
  {
   "cell_type": "code",
   "execution_count": 22,
   "id": "459c89c1",
   "metadata": {},
   "outputs": [],
   "source": [
    "class Training:\n",
    "    language = 'python'\n",
    "    def say_hello():\n",
    "        print('Hello from {}'.format(Training.language))"
   ]
  },
  {
   "cell_type": "code",
   "execution_count": 23,
   "id": "1ca80e47",
   "metadata": {},
   "outputs": [
    {
     "name": "stdout",
     "output_type": "stream",
     "text": [
      "['__class__', '__delattr__', '__dict__', '__dir__', '__doc__', '__eq__', '__format__', '__ge__', '__getattribute__', '__gt__', '__hash__', '__init__', '__init_subclass__', '__le__', '__lt__', '__module__', '__ne__', '__new__', '__reduce__', '__reduce_ex__', '__repr__', '__setattr__', '__sizeof__', '__str__', '__subclasshook__', '__weakref__', 'language', 'say_hello']\n"
     ]
    }
   ],
   "source": [
    "print(dir(Training))"
   ]
  },
  {
   "cell_type": "code",
   "execution_count": 24,
   "id": "f7522cbf",
   "metadata": {},
   "outputs": [
    {
     "data": {
      "text/plain": [
       "mappingproxy({'__module__': '__main__',\n",
       "              'language': 'python',\n",
       "              'say_hello': <function __main__.Training.say_hello()>,\n",
       "              '__dict__': <attribute '__dict__' of 'Training' objects>,\n",
       "              '__weakref__': <attribute '__weakref__' of 'Training' objects>,\n",
       "              '__doc__': None})"
      ]
     },
     "execution_count": 24,
     "metadata": {},
     "output_type": "execute_result"
    }
   ],
   "source": [
    "Training.__dict__"
   ]
  },
  {
   "cell_type": "code",
   "execution_count": 25,
   "id": "7b3cd1f7",
   "metadata": {},
   "outputs": [
    {
     "data": {
      "text/plain": [
       "'python'"
      ]
     },
     "execution_count": 25,
     "metadata": {},
     "output_type": "execute_result"
    }
   ],
   "source": [
    "Training.__dict__['language']"
   ]
  },
  {
   "cell_type": "code",
   "execution_count": 26,
   "id": "256fd4ed",
   "metadata": {},
   "outputs": [
    {
     "data": {
      "text/plain": [
       "<function __main__.Training.say_hello()>"
      ]
     },
     "execution_count": 26,
     "metadata": {},
     "output_type": "execute_result"
    }
   ],
   "source": [
    "Training.__dict__['say_hello']"
   ]
  },
  {
   "cell_type": "code",
   "execution_count": 27,
   "id": "3f855e92",
   "metadata": {},
   "outputs": [
    {
     "name": "stdout",
     "output_type": "stream",
     "text": [
      "Hello from python\n"
     ]
    }
   ],
   "source": [
    "Training.__dict__['say_hello']()"
   ]
  },
  {
   "cell_type": "code",
   "execution_count": 28,
   "id": "c8b0315d",
   "metadata": {},
   "outputs": [
    {
     "name": "stdout",
     "output_type": "stream",
     "text": [
      "Hello from python\n"
     ]
    }
   ],
   "source": [
    "Training.say_hello()"
   ]
  },
  {
   "cell_type": "code",
   "execution_count": 29,
   "id": "3724e19e",
   "metadata": {},
   "outputs": [
    {
     "data": {
      "text/plain": [
       "<function __main__.Training.say_hello()>"
      ]
     },
     "execution_count": 29,
     "metadata": {},
     "output_type": "execute_result"
    }
   ],
   "source": [
    "Training.say_hello"
   ]
  },
  {
   "cell_type": "code",
   "execution_count": 30,
   "id": "ce9cd0fa",
   "metadata": {},
   "outputs": [],
   "source": [
    "class Point:\n",
    "    version = '1.0.0' # Shareable class attribute\n",
    "    def __init__(self,x,y):\n",
    "        self.x = x \n",
    "        self.y = y\n",
    "        \n",
    "    def set_cordinate(self,x,y):\n",
    "        self.x = x \n",
    "        self.y = y\n",
    "        \n",
    "    def get_cordinate(self):\n",
    "        return self.x,self.y"
   ]
  },
  {
   "cell_type": "code",
   "execution_count": 31,
   "id": "8f576d65",
   "metadata": {},
   "outputs": [
    {
     "data": {
      "text/plain": [
       "__main__.Point"
      ]
     },
     "execution_count": 31,
     "metadata": {},
     "output_type": "execute_result"
    }
   ],
   "source": [
    "Point"
   ]
  },
  {
   "cell_type": "code",
   "execution_count": 32,
   "id": "02387b04",
   "metadata": {},
   "outputs": [
    {
     "data": {
      "text/plain": [
       "mappingproxy({'__module__': '__main__',\n",
       "              'version': '1.0.0',\n",
       "              '__init__': <function __main__.Point.__init__(self, x, y)>,\n",
       "              'set_cordinate': <function __main__.Point.set_cordinate(self, x, y)>,\n",
       "              'get_cordinate': <function __main__.Point.get_cordinate(self)>,\n",
       "              '__dict__': <attribute '__dict__' of 'Point' objects>,\n",
       "              '__weakref__': <attribute '__weakref__' of 'Point' objects>,\n",
       "              '__doc__': None})"
      ]
     },
     "execution_count": 32,
     "metadata": {},
     "output_type": "execute_result"
    }
   ],
   "source": [
    "Point.__dict__"
   ]
  },
  {
   "cell_type": "code",
   "execution_count": 33,
   "id": "ccd0b5af",
   "metadata": {},
   "outputs": [],
   "source": [
    "p1 = Point(0,0)\n",
    "p2 = Point(0,1)\n",
    "p3 = Point(1,0)"
   ]
  },
  {
   "cell_type": "code",
   "execution_count": 34,
   "id": "ba1ad826",
   "metadata": {},
   "outputs": [
    {
     "data": {
      "text/plain": [
       "(<__main__.Point at 0x190be9777f0>,\n",
       " <__main__.Point at 0x190be977ca0>,\n",
       " <__main__.Point at 0x190be977f70>)"
      ]
     },
     "execution_count": 34,
     "metadata": {},
     "output_type": "execute_result"
    }
   ],
   "source": [
    "p1,p2,p3"
   ]
  },
  {
   "cell_type": "code",
   "execution_count": 36,
   "id": "8f2481ff",
   "metadata": {},
   "outputs": [
    {
     "data": {
      "text/plain": [
       "('1.0.0', '1.0.0', '1.0.0')"
      ]
     },
     "execution_count": 36,
     "metadata": {},
     "output_type": "execute_result"
    }
   ],
   "source": [
    "p1.version, p2.version, p3.version"
   ]
  },
  {
   "cell_type": "code",
   "execution_count": 37,
   "id": "cc655531",
   "metadata": {},
   "outputs": [
    {
     "data": {
      "text/plain": [
       "(0, 0)"
      ]
     },
     "execution_count": 37,
     "metadata": {},
     "output_type": "execute_result"
    }
   ],
   "source": [
    "p1.get_cordinate()"
   ]
  },
  {
   "cell_type": "code",
   "execution_count": 38,
   "id": "1fb6af58",
   "metadata": {},
   "outputs": [
    {
     "data": {
      "text/plain": [
       "(0, 1)"
      ]
     },
     "execution_count": 38,
     "metadata": {},
     "output_type": "execute_result"
    }
   ],
   "source": [
    "p2.get_cordinate()"
   ]
  },
  {
   "cell_type": "code",
   "execution_count": 39,
   "id": "9a5296ea",
   "metadata": {},
   "outputs": [
    {
     "data": {
      "text/plain": [
       "(1, 0)"
      ]
     },
     "execution_count": 39,
     "metadata": {},
     "output_type": "execute_result"
    }
   ],
   "source": [
    "p3.get_cordinate()"
   ]
  },
  {
   "cell_type": "code",
   "execution_count": 40,
   "id": "1e950522",
   "metadata": {},
   "outputs": [
    {
     "data": {
      "text/plain": [
       "<bound method Point.get_cordinate of <__main__.Point object at 0x00000190BE9777F0>>"
      ]
     },
     "execution_count": 40,
     "metadata": {},
     "output_type": "execute_result"
    }
   ],
   "source": [
    "p1.get_cordinate"
   ]
  },
  {
   "cell_type": "code",
   "execution_count": 41,
   "id": "265279e0",
   "metadata": {},
   "outputs": [
    {
     "data": {
      "text/plain": [
       "<function __main__.Point.get_cordinate(self)>"
      ]
     },
     "execution_count": 41,
     "metadata": {},
     "output_type": "execute_result"
    }
   ],
   "source": [
    "Point.get_cordinate"
   ]
  },
  {
   "cell_type": "code",
   "execution_count": 42,
   "id": "eb30787d",
   "metadata": {},
   "outputs": [
    {
     "ename": "TypeError",
     "evalue": "get_cordinate() missing 1 required positional argument: 'self'",
     "output_type": "error",
     "traceback": [
      "\u001b[1;31m---------------------------------------------------------------------------\u001b[0m",
      "\u001b[1;31mTypeError\u001b[0m                                 Traceback (most recent call last)",
      "\u001b[1;32m<ipython-input-42-81ed7b52be41>\u001b[0m in \u001b[0;36m<module>\u001b[1;34m\u001b[0m\n\u001b[1;32m----> 1\u001b[1;33m \u001b[0mPoint\u001b[0m\u001b[1;33m.\u001b[0m\u001b[0mget_cordinate\u001b[0m\u001b[1;33m(\u001b[0m\u001b[1;33m)\u001b[0m\u001b[1;33m\u001b[0m\u001b[1;33m\u001b[0m\u001b[0m\n\u001b[0m",
      "\u001b[1;31mTypeError\u001b[0m: get_cordinate() missing 1 required positional argument: 'self'"
     ]
    }
   ],
   "source": [
    "Point.get_cordinate()"
   ]
  },
  {
   "cell_type": "code",
   "execution_count": 43,
   "id": "93839cdb",
   "metadata": {},
   "outputs": [
    {
     "data": {
      "text/plain": [
       "(0, 0)"
      ]
     },
     "execution_count": 43,
     "metadata": {},
     "output_type": "execute_result"
    }
   ],
   "source": [
    "Point.get_cordinate(p1)"
   ]
  },
  {
   "cell_type": "code",
   "execution_count": 44,
   "id": "62f0f384",
   "metadata": {},
   "outputs": [
    {
     "data": {
      "text/plain": [
       "(0, 1)"
      ]
     },
     "execution_count": 44,
     "metadata": {},
     "output_type": "execute_result"
    }
   ],
   "source": [
    "Point.get_cordinate(p2)"
   ]
  },
  {
   "cell_type": "code",
   "execution_count": 45,
   "id": "c3046303",
   "metadata": {},
   "outputs": [
    {
     "data": {
      "text/plain": [
       "(1, 0)"
      ]
     },
     "execution_count": 45,
     "metadata": {},
     "output_type": "execute_result"
    }
   ],
   "source": [
    "Point.get_cordinate(p3)"
   ]
  },
  {
   "cell_type": "code",
   "execution_count": 46,
   "id": "355a1d71",
   "metadata": {},
   "outputs": [],
   "source": [
    "class Test:\n",
    "    def test():\n",
    "        print('test')"
   ]
  },
  {
   "cell_type": "code",
   "execution_count": 47,
   "id": "7e236a9d",
   "metadata": {},
   "outputs": [],
   "source": [
    "t = Test()"
   ]
  },
  {
   "cell_type": "code",
   "execution_count": 48,
   "id": "0fb3e677",
   "metadata": {},
   "outputs": [
    {
     "data": {
      "text/plain": [
       "<__main__.Test at 0x190be977f10>"
      ]
     },
     "execution_count": 48,
     "metadata": {},
     "output_type": "execute_result"
    }
   ],
   "source": [
    "t"
   ]
  },
  {
   "cell_type": "code",
   "execution_count": 50,
   "id": "03ec7282",
   "metadata": {},
   "outputs": [
    {
     "name": "stdout",
     "output_type": "stream",
     "text": [
      "['__class__', '__delattr__', '__dict__', '__dir__', '__doc__', '__eq__', '__format__', '__ge__', '__getattribute__', '__gt__', '__hash__', '__init__', '__init_subclass__', '__le__', '__lt__', '__module__', '__ne__', '__new__', '__reduce__', '__reduce_ex__', '__repr__', '__setattr__', '__sizeof__', '__str__', '__subclasshook__', '__weakref__', 'test']\n"
     ]
    }
   ],
   "source": [
    "print(dir(t))"
   ]
  },
  {
   "cell_type": "code",
   "execution_count": 51,
   "id": "965d5e4d",
   "metadata": {},
   "outputs": [
    {
     "data": {
      "text/plain": [
       "{}"
      ]
     },
     "execution_count": 51,
     "metadata": {},
     "output_type": "execute_result"
    }
   ],
   "source": [
    "t.__dict__"
   ]
  },
  {
   "cell_type": "code",
   "execution_count": 52,
   "id": "c42e8a95",
   "metadata": {},
   "outputs": [
    {
     "data": {
      "text/plain": [
       "<bound method Test.test of <__main__.Test object at 0x00000190BE977F10>>"
      ]
     },
     "execution_count": 52,
     "metadata": {},
     "output_type": "execute_result"
    }
   ],
   "source": [
    "t.test"
   ]
  },
  {
   "cell_type": "code",
   "execution_count": 53,
   "id": "33618007",
   "metadata": {},
   "outputs": [
    {
     "ename": "TypeError",
     "evalue": "test() takes 0 positional arguments but 1 was given",
     "output_type": "error",
     "traceback": [
      "\u001b[1;31m---------------------------------------------------------------------------\u001b[0m",
      "\u001b[1;31mTypeError\u001b[0m                                 Traceback (most recent call last)",
      "\u001b[1;32m<ipython-input-53-2444fbb25997>\u001b[0m in \u001b[0;36m<module>\u001b[1;34m\u001b[0m\n\u001b[1;32m----> 1\u001b[1;33m \u001b[0mt\u001b[0m\u001b[1;33m.\u001b[0m\u001b[0mtest\u001b[0m\u001b[1;33m(\u001b[0m\u001b[1;33m)\u001b[0m\u001b[1;33m\u001b[0m\u001b[1;33m\u001b[0m\u001b[0m\n\u001b[0m",
      "\u001b[1;31mTypeError\u001b[0m: test() takes 0 positional arguments but 1 was given"
     ]
    }
   ],
   "source": [
    "t.test()"
   ]
  },
  {
   "cell_type": "markdown",
   "id": "810c333e",
   "metadata": {},
   "source": [
    "`className.func(object)`"
   ]
  },
  {
   "cell_type": "code",
   "execution_count": 54,
   "id": "8d95279d",
   "metadata": {},
   "outputs": [
    {
     "name": "stdout",
     "output_type": "stream",
     "text": [
      "test\n"
     ]
    }
   ],
   "source": [
    "Test.test()"
   ]
  },
  {
   "cell_type": "code",
   "execution_count": 55,
   "id": "ed35e835",
   "metadata": {},
   "outputs": [],
   "source": [
    "class Test:\n",
    "    def __new__(self):\n",
    "        print('Object created')\n",
    "    def __del__(self):\n",
    "        print('Object destroyed')\n",
    "        \n",
    "    "
   ]
  },
  {
   "cell_type": "code",
   "execution_count": 58,
   "id": "d6c10ead",
   "metadata": {},
   "outputs": [
    {
     "name": "stdout",
     "output_type": "stream",
     "text": [
      "Object created\n"
     ]
    }
   ],
   "source": [
    "t = Test()"
   ]
  },
  {
   "cell_type": "code",
   "execution_count": 60,
   "id": "00208cfa",
   "metadata": {},
   "outputs": [
    {
     "name": "stdout",
     "output_type": "stream",
     "text": [
      "Object destroyed\n"
     ]
    }
   ],
   "source": [
    "Test.__del__(t)"
   ]
  },
  {
   "cell_type": "code",
   "execution_count": 65,
   "id": "fd08cf31",
   "metadata": {},
   "outputs": [],
   "source": [
    "class Employee:\n",
    "    \n",
    "    def __init__(self,name,age,designation):\n",
    "        self.name = name \n",
    "        self.age = age\n",
    "        self.designation = designation \n",
    "    \n",
    " "
   ]
  },
  {
   "cell_type": "code",
   "execution_count": 66,
   "id": "c0a06f7a",
   "metadata": {},
   "outputs": [],
   "source": [
    "e = Employee('rahul',42,'Trainer')"
   ]
  },
  {
   "cell_type": "code",
   "execution_count": 67,
   "id": "4d7f06d1",
   "metadata": {},
   "outputs": [
    {
     "data": {
      "text/plain": [
       "<__main__.Employee at 0x190be977490>"
      ]
     },
     "execution_count": 67,
     "metadata": {},
     "output_type": "execute_result"
    }
   ],
   "source": [
    "e"
   ]
  },
  {
   "cell_type": "code",
   "execution_count": null,
   "id": "48553f90",
   "metadata": {},
   "outputs": [],
   "source": []
  },
  {
   "cell_type": "code",
   "execution_count": 71,
   "id": "0db1797c",
   "metadata": {},
   "outputs": [],
   "source": [
    "class Employee:\n",
    "    \n",
    "    def __init__(self,name,age,designation):\n",
    "        self.name = name \n",
    "        self.age = age\n",
    "        self.designation = designation \n",
    "    \n",
    "    def __repr__(self):\n",
    "        return 'Object representation'\n",
    "    \n",
    "    def __str__(self):\n",
    "        return 'String representation'\n",
    "    \n",
    "    \n",
    "    "
   ]
  },
  {
   "cell_type": "code",
   "execution_count": 72,
   "id": "8772d5ee",
   "metadata": {},
   "outputs": [],
   "source": [
    "e1 = Employee('a',20,'abc')\n",
    "e2 = Employee('b',30,'xyz')\n"
   ]
  },
  {
   "cell_type": "code",
   "execution_count": 73,
   "id": "3af7e4b1",
   "metadata": {},
   "outputs": [
    {
     "data": {
      "text/plain": [
       "Object representation"
      ]
     },
     "execution_count": 73,
     "metadata": {},
     "output_type": "execute_result"
    }
   ],
   "source": [
    "e1"
   ]
  },
  {
   "cell_type": "code",
   "execution_count": 74,
   "id": "2ba31639",
   "metadata": {},
   "outputs": [
    {
     "name": "stdout",
     "output_type": "stream",
     "text": [
      "String representation\n"
     ]
    }
   ],
   "source": [
    "print(e1)"
   ]
  },
  {
   "cell_type": "code",
   "execution_count": 75,
   "id": "ab4c36db",
   "metadata": {},
   "outputs": [
    {
     "data": {
      "text/plain": [
       "'String representation'"
      ]
     },
     "execution_count": 75,
     "metadata": {},
     "output_type": "execute_result"
    }
   ],
   "source": [
    "str(e1)"
   ]
  },
  {
   "cell_type": "code",
   "execution_count": 76,
   "id": "d88b0130",
   "metadata": {},
   "outputs": [
    {
     "data": {
      "text/plain": [
       "'Object representation'"
      ]
     },
     "execution_count": 76,
     "metadata": {},
     "output_type": "execute_result"
    }
   ],
   "source": [
    "repr(e1)"
   ]
  },
  {
   "cell_type": "code",
   "execution_count": 77,
   "id": "34b7ef6e",
   "metadata": {},
   "outputs": [
    {
     "ename": "TypeError",
     "evalue": "'Employee' object is not callable",
     "output_type": "error",
     "traceback": [
      "\u001b[1;31m---------------------------------------------------------------------------\u001b[0m",
      "\u001b[1;31mTypeError\u001b[0m                                 Traceback (most recent call last)",
      "\u001b[1;32m<ipython-input-77-d0fdadc935bf>\u001b[0m in \u001b[0;36m<module>\u001b[1;34m\u001b[0m\n\u001b[1;32m----> 1\u001b[1;33m \u001b[0me1\u001b[0m\u001b[1;33m(\u001b[0m\u001b[1;33m)\u001b[0m\u001b[1;33m\u001b[0m\u001b[1;33m\u001b[0m\u001b[0m\n\u001b[0m",
      "\u001b[1;31mTypeError\u001b[0m: 'Employee' object is not callable"
     ]
    }
   ],
   "source": [
    "e1()"
   ]
  },
  {
   "cell_type": "code",
   "execution_count": 78,
   "id": "08a0a659",
   "metadata": {},
   "outputs": [
    {
     "data": {
      "text/plain": [
       "<function callable(obj, /)>"
      ]
     },
     "execution_count": 78,
     "metadata": {},
     "output_type": "execute_result"
    }
   ],
   "source": [
    "callable"
   ]
  },
  {
   "cell_type": "code",
   "execution_count": 79,
   "id": "43bab064",
   "metadata": {},
   "outputs": [
    {
     "data": {
      "text/plain": [
       "True"
      ]
     },
     "execution_count": 79,
     "metadata": {},
     "output_type": "execute_result"
    }
   ],
   "source": [
    "callable(print)"
   ]
  },
  {
   "cell_type": "code",
   "execution_count": 80,
   "id": "42317342",
   "metadata": {},
   "outputs": [
    {
     "data": {
      "text/plain": [
       "True"
      ]
     },
     "execution_count": 80,
     "metadata": {},
     "output_type": "execute_result"
    }
   ],
   "source": [
    "callable(int)"
   ]
  },
  {
   "cell_type": "code",
   "execution_count": 81,
   "id": "da8644a5",
   "metadata": {},
   "outputs": [
    {
     "data": {
      "text/plain": [
       "0"
      ]
     },
     "execution_count": 81,
     "metadata": {},
     "output_type": "execute_result"
    }
   ],
   "source": [
    "int()"
   ]
  },
  {
   "cell_type": "code",
   "execution_count": 82,
   "id": "b184166b",
   "metadata": {},
   "outputs": [
    {
     "data": {
      "text/plain": [
       "False"
      ]
     },
     "execution_count": 82,
     "metadata": {},
     "output_type": "execute_result"
    }
   ],
   "source": [
    "callable(2)"
   ]
  },
  {
   "cell_type": "code",
   "execution_count": 83,
   "id": "df6b8157",
   "metadata": {},
   "outputs": [
    {
     "name": "stderr",
     "output_type": "stream",
     "text": [
      "<>:1: SyntaxWarning: 'int' object is not callable; perhaps you missed a comma?\n",
      "<>:1: SyntaxWarning: 'int' object is not callable; perhaps you missed a comma?\n",
      "<ipython-input-83-c69d3a57c0fc>:1: SyntaxWarning: 'int' object is not callable; perhaps you missed a comma?\n",
      "  2()\n"
     ]
    },
    {
     "ename": "TypeError",
     "evalue": "'int' object is not callable",
     "output_type": "error",
     "traceback": [
      "\u001b[1;31m---------------------------------------------------------------------------\u001b[0m",
      "\u001b[1;31mTypeError\u001b[0m                                 Traceback (most recent call last)",
      "\u001b[1;32m<ipython-input-83-c69d3a57c0fc>\u001b[0m in \u001b[0;36m<module>\u001b[1;34m\u001b[0m\n\u001b[1;32m----> 1\u001b[1;33m \u001b[1;36m2\u001b[0m\u001b[1;33m(\u001b[0m\u001b[1;33m)\u001b[0m\u001b[1;33m\u001b[0m\u001b[1;33m\u001b[0m\u001b[0m\n\u001b[0m",
      "\u001b[1;31mTypeError\u001b[0m: 'int' object is not callable"
     ]
    }
   ],
   "source": [
    "2()"
   ]
  },
  {
   "cell_type": "code",
   "execution_count": 84,
   "id": "fbff8807",
   "metadata": {},
   "outputs": [
    {
     "name": "stdout",
     "output_type": "stream",
     "text": [
      "['__class__', '__delattr__', '__dict__', '__dir__', '__doc__', '__eq__', '__format__', '__ge__', '__getattribute__', '__gt__', '__hash__', '__init__', '__init_subclass__', '__le__', '__lt__', '__module__', '__ne__', '__new__', '__reduce__', '__reduce_ex__', '__repr__', '__setattr__', '__sizeof__', '__str__', '__subclasshook__', '__weakref__']\n"
     ]
    }
   ],
   "source": [
    "print(dir(Employee))\n"
   ]
  },
  {
   "cell_type": "code",
   "execution_count": 90,
   "id": "fda00913",
   "metadata": {},
   "outputs": [],
   "source": [
    "class Square:\n",
    "    def __init__(self,num):\n",
    "        print('Initialized')\n",
    "        self.num = num \n",
    "        self.do_it()\n",
    "        \n",
    "    def do_it(self):\n",
    "        self.result = self.num * self.num \n",
    "        print(self.result)\n",
    "        return self.result\n",
    "    \n",
    "    def __call__(self,num=0):\n",
    "        self.result = self.num * self.num \n",
    "        return self.result\n",
    "        \n",
    "    \n",
    "    "
   ]
  },
  {
   "cell_type": "code",
   "execution_count": 91,
   "id": "21a7bc81",
   "metadata": {},
   "outputs": [
    {
     "name": "stdout",
     "output_type": "stream",
     "text": [
      "Initialized\n",
      "100\n"
     ]
    }
   ],
   "source": [
    "s = Square(10)"
   ]
  },
  {
   "cell_type": "code",
   "execution_count": 92,
   "id": "18dfad27",
   "metadata": {},
   "outputs": [
    {
     "data": {
      "text/plain": [
       "100"
      ]
     },
     "execution_count": 92,
     "metadata": {},
     "output_type": "execute_result"
    }
   ],
   "source": [
    "s()"
   ]
  },
  {
   "cell_type": "code",
   "execution_count": 93,
   "id": "582e4f59",
   "metadata": {},
   "outputs": [
    {
     "data": {
      "text/plain": [
       "True"
      ]
     },
     "execution_count": 93,
     "metadata": {},
     "output_type": "execute_result"
    }
   ],
   "source": [
    "callable(s)"
   ]
  },
  {
   "cell_type": "code",
   "execution_count": 94,
   "id": "3439c7e0",
   "metadata": {},
   "outputs": [],
   "source": [
    "l = [1,2,3,4]\n"
   ]
  },
  {
   "cell_type": "code",
   "execution_count": 95,
   "id": "7d6c03aa",
   "metadata": {},
   "outputs": [
    {
     "data": {
      "text/plain": [
       "[1, 2, 3, 4]"
      ]
     },
     "execution_count": 95,
     "metadata": {},
     "output_type": "execute_result"
    }
   ],
   "source": [
    "l"
   ]
  },
  {
   "cell_type": "code",
   "execution_count": 96,
   "id": "9daecd0e",
   "metadata": {},
   "outputs": [
    {
     "data": {
      "text/plain": [
       "1"
      ]
     },
     "execution_count": 96,
     "metadata": {},
     "output_type": "execute_result"
    }
   ],
   "source": [
    "l[0]"
   ]
  },
  {
   "cell_type": "code",
   "execution_count": 97,
   "id": "4e95de94",
   "metadata": {},
   "outputs": [
    {
     "name": "stdout",
     "output_type": "stream",
     "text": [
      "['__add__', '__class__', '__class_getitem__', '__contains__', '__delattr__', '__delitem__', '__dir__', '__doc__', '__eq__', '__format__', '__ge__', '__getattribute__', '__getitem__', '__gt__', '__hash__', '__iadd__', '__imul__', '__init__', '__init_subclass__', '__iter__', '__le__', '__len__', '__lt__', '__mul__', '__ne__', '__new__', '__reduce__', '__reduce_ex__', '__repr__', '__reversed__', '__rmul__', '__setattr__', '__setitem__', '__sizeof__', '__str__', '__subclasshook__', 'append', 'clear', 'copy', 'count', 'extend', 'index', 'insert', 'pop', 'remove', 'reverse', 'sort']\n"
     ]
    }
   ],
   "source": [
    "print(dir(l))"
   ]
  },
  {
   "cell_type": "code",
   "execution_count": 100,
   "id": "20416aeb",
   "metadata": {},
   "outputs": [
    {
     "data": {
      "text/plain": [
       "True"
      ]
     },
     "execution_count": 100,
     "metadata": {},
     "output_type": "execute_result"
    }
   ],
   "source": [
    "l.__getitem__(3) == l[3]"
   ]
  },
  {
   "cell_type": "code",
   "execution_count": 101,
   "id": "d710d699",
   "metadata": {},
   "outputs": [],
   "source": [
    "d = {'name':'Rahul','age':42}"
   ]
  },
  {
   "cell_type": "code",
   "execution_count": 102,
   "id": "35b2e454",
   "metadata": {},
   "outputs": [
    {
     "ename": "KeyError",
     "evalue": "0",
     "output_type": "error",
     "traceback": [
      "\u001b[1;31m---------------------------------------------------------------------------\u001b[0m",
      "\u001b[1;31mKeyError\u001b[0m                                  Traceback (most recent call last)",
      "\u001b[1;32m<ipython-input-102-123a9cc6df61>\u001b[0m in \u001b[0;36m<module>\u001b[1;34m\u001b[0m\n\u001b[1;32m----> 1\u001b[1;33m \u001b[0md\u001b[0m\u001b[1;33m[\u001b[0m\u001b[1;36m0\u001b[0m\u001b[1;33m]\u001b[0m\u001b[1;33m\u001b[0m\u001b[1;33m\u001b[0m\u001b[0m\n\u001b[0m",
      "\u001b[1;31mKeyError\u001b[0m: 0"
     ]
    }
   ],
   "source": [
    "d[0]"
   ]
  },
  {
   "cell_type": "markdown",
   "id": "28726217",
   "metadata": {},
   "source": [
    "# Try creating your own custom sequence type containers\n"
   ]
  },
  {
   "cell_type": "code",
   "execution_count": null,
   "id": "af7daa1a",
   "metadata": {},
   "outputs": [],
   "source": []
  }
 ],
 "metadata": {
  "kernelspec": {
   "display_name": "Python 3",
   "language": "python",
   "name": "python3"
  },
  "language_info": {
   "codemirror_mode": {
    "name": "ipython",
    "version": 3
   },
   "file_extension": ".py",
   "mimetype": "text/x-python",
   "name": "python",
   "nbconvert_exporter": "python",
   "pygments_lexer": "ipython3",
   "version": "3.9.6"
  }
 },
 "nbformat": 4,
 "nbformat_minor": 5
}
