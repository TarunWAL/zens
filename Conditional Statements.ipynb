{
 "cells": [
  {
   "cell_type": "markdown",
   "id": "db739e02",
   "metadata": {},
   "source": [
    "# Conditional Statements \n",
    "## Control Flow \n"
   ]
  },
  {
   "cell_type": "markdown",
   "id": "ccd59cc1",
   "metadata": {},
   "source": [
    "` Are statemetns that are executed only when a certain condition is met . Conditons are usually in ` \n",
    "\n",
    "` the form of if statements. The decision, in most cases, depends on the value of the variable of arithmetic `\n",
    "\n",
    "` expression . All the expressions are evaluation to either True of False `"
   ]
  },
  {
   "cell_type": "markdown",
   "id": "a4d27e60",
   "metadata": {},
   "source": [
    "Syntax : \n",
    "    \n",
    "    if condition:\n",
    "        stat_1\n",
    "        stat_2 \n",
    "        ...\n",
    "    "
   ]
  },
  {
   "cell_type": "code",
   "execution_count": 1,
   "id": "b622b119",
   "metadata": {},
   "outputs": [
    {
     "name": "stdout",
     "output_type": "stream",
     "text": [
      "Equal \n",
      "End of program\n"
     ]
    }
   ],
   "source": [
    "n = 10 \n",
    "if n == 10 :\n",
    "    print('Equal ')\n",
    "    \n",
    "print('End of program')"
   ]
  },
  {
   "cell_type": "code",
   "execution_count": 2,
   "id": "624891d5",
   "metadata": {},
   "outputs": [
    {
     "data": {
      "text/plain": [
       "False"
      ]
     },
     "execution_count": 2,
     "metadata": {},
     "output_type": "execute_result"
    }
   ],
   "source": [
    "n > 10 "
   ]
  },
  {
   "cell_type": "code",
   "execution_count": 3,
   "id": "3b2ca98c",
   "metadata": {},
   "outputs": [
    {
     "data": {
      "text/plain": [
       "True"
      ]
     },
     "execution_count": 3,
     "metadata": {},
     "output_type": "execute_result"
    }
   ],
   "source": [
    "n <=10"
   ]
  },
  {
   "cell_type": "code",
   "execution_count": 5,
   "id": "c595dbcd",
   "metadata": {},
   "outputs": [
    {
     "name": "stdout",
     "output_type": "stream",
     "text": [
      "True\n"
     ]
    }
   ],
   "source": [
    "if -101:\n",
    "    print('True')\n",
    "else:\n",
    "    print(' In the else part')\n"
   ]
  },
  {
   "cell_type": "code",
   "execution_count": 6,
   "id": "72e037ca",
   "metadata": {},
   "outputs": [
    {
     "name": "stdout",
     "output_type": "stream",
     "text": [
      " In the else part\n"
     ]
    }
   ],
   "source": [
    "if 0:\n",
    "    print('True')\n",
    "else:\n",
    "    print(' In the else part')"
   ]
  },
  {
   "cell_type": "code",
   "execution_count": 7,
   "id": "d7c278a7",
   "metadata": {},
   "outputs": [
    {
     "name": "stdout",
     "output_type": "stream",
     "text": [
      " num = 10 , address = 0x2985d066a50 \n"
     ]
    }
   ],
   "source": [
    "num = 10 \n",
    "if num == 10:\n",
    "    print(' num = {} , address = {} '.format(num,hex(id(num))))\n",
    "    "
   ]
  },
  {
   "cell_type": "code",
   "execution_count": 8,
   "id": "02bd1c20",
   "metadata": {},
   "outputs": [
    {
     "name": "stdout",
     "output_type": "stream",
     "text": [
      " num = 10 , address = 0x2985d066a50 \n",
      "******************************** End of program ********************************\n"
     ]
    }
   ],
   "source": [
    "num = 10 \n",
    "if num == 10:\n",
    "    print(' num = {} , address = {} '.format(num,hex(id(num))))\n",
    "print(' End of program '.center(80,'*'))"
   ]
  },
  {
   "cell_type": "code",
   "execution_count": 9,
   "id": "0bb2125e",
   "metadata": {},
   "outputs": [
    {
     "name": "stdout",
     "output_type": "stream",
     "text": [
      "Help on method_descriptor:\n",
      "\n",
      "center(self, width, fillchar=' ', /)\n",
      "    Return a centered string of length width.\n",
      "    \n",
      "    Padding is done using the specified fill character (default is a space).\n",
      "\n"
     ]
    },
    {
     "data": {
      "text/plain": [
       "(None,\n",
       " 'Return a centered string of length width.\\n\\nPadding is done using the specified fill character (default is a space).')"
      ]
     },
     "execution_count": 9,
     "metadata": {},
     "output_type": "execute_result"
    }
   ],
   "source": [
    "help(str.center), str.center.__doc__"
   ]
  },
  {
   "cell_type": "code",
   "execution_count": 10,
   "id": "5452023f",
   "metadata": {},
   "outputs": [
    {
     "name": "stdout",
     "output_type": "stream",
     "text": [
      "===========================================End of program===========================================\n"
     ]
    }
   ],
   "source": [
    "num = 10 \n",
    "if num != 10:\n",
    "    print(' num = {} , address = {} '.format(num,hex(id(num))))\n",
    "print('End of program'.center(100,'='))"
   ]
  },
  {
   "cell_type": "code",
   "execution_count": 11,
   "id": "8c698374",
   "metadata": {},
   "outputs": [
    {
     "name": "stdout",
     "output_type": "stream",
     "text": [
      "30\n"
     ]
    }
   ],
   "source": [
    "# Finding max of 3 numbers \n",
    "a = 10 \n",
    "b = 20 \n",
    "c = 30 \n",
    "\n",
    "if a > b and a > c:\n",
    "    print(a)\n",
    "elif b >a and b>c:\n",
    "    print(b)\n",
    "else:\n",
    "    print(c)\n"
   ]
  },
  {
   "cell_type": "code",
   "execution_count": 13,
   "id": "f5d6c6a2",
   "metadata": {},
   "outputs": [
    {
     "name": "stdout",
     "output_type": "stream",
     "text": [
      "First number20\n",
      "Second  number30\n",
      "Third number10\n",
      "30\n"
     ]
    }
   ],
   "source": [
    "# Try to take user input ( 3 numbers ) and then find the max \n",
    "a = int(input('First number'))\n",
    "b = int(input('Second  number'))\n",
    "c = int(input('Third number'))\n",
    "\n",
    "if a > b and a > c:\n",
    "    print(a)\n",
    "elif b >a and b>c:\n",
    "    print(b)\n",
    "else:\n",
    "    print(c)\n"
   ]
  },
  {
   "cell_type": "code",
   "execution_count": 15,
   "id": "d246b8bc",
   "metadata": {},
   "outputs": [
    {
     "data": {
      "text/plain": [
       "True"
      ]
     },
     "execution_count": 15,
     "metadata": {},
     "output_type": "execute_result"
    }
   ],
   "source": [
    "'rahul' == 'rahul'"
   ]
  },
  {
   "cell_type": "code",
   "execution_count": 19,
   "id": "8eb5d851",
   "metadata": {},
   "outputs": [
    {
     "data": {
      "text/plain": [
       "True"
      ]
     },
     "execution_count": 19,
     "metadata": {},
     "output_type": "execute_result"
    }
   ],
   "source": [
    "[1,2] ==[1,2]"
   ]
  },
  {
   "cell_type": "code",
   "execution_count": 20,
   "id": "6fa22c59",
   "metadata": {},
   "outputs": [
    {
     "name": "stdout",
     "output_type": "stream",
     "text": [
      "First_list id = 2853492842944 and second_list id = 2853492842944\n"
     ]
    }
   ],
   "source": [
    "first_list = [100,200]\n",
    "second_list = first_list\n",
    "print('First_list id = {} and second_list id = {}'.format(id(first_list), id(second_list)))"
   ]
  },
  {
   "cell_type": "code",
   "execution_count": 21,
   "id": "50783544",
   "metadata": {},
   "outputs": [
    {
     "data": {
      "text/plain": [
       "True"
      ]
     },
     "execution_count": 21,
     "metadata": {},
     "output_type": "execute_result"
    }
   ],
   "source": [
    "first_list == second_list \n",
    "# first_list is second_list "
   ]
  },
  {
   "cell_type": "code",
   "execution_count": 22,
   "id": "fa1d1146",
   "metadata": {},
   "outputs": [
    {
     "data": {
      "text/plain": [
       "True"
      ]
     },
     "execution_count": 22,
     "metadata": {},
     "output_type": "execute_result"
    }
   ],
   "source": [
    "first_list is second_list "
   ]
  },
  {
   "cell_type": "code",
   "execution_count": 23,
   "id": "566928a9",
   "metadata": {},
   "outputs": [
    {
     "data": {
      "text/plain": [
       "(2853492672320, 2853492572032, dict, dict)"
      ]
     },
     "execution_count": 23,
     "metadata": {},
     "output_type": "execute_result"
    }
   ],
   "source": [
    "d1 = {0:'First',1:'Second'}\n",
    "d2 = {0:'First',1:'Second'}\n",
    "id(d1), id(d2), type(d1), type(d2)"
   ]
  },
  {
   "cell_type": "code",
   "execution_count": 24,
   "id": "b4df8b61",
   "metadata": {},
   "outputs": [
    {
     "data": {
      "text/plain": [
       "False"
      ]
     },
     "execution_count": 24,
     "metadata": {},
     "output_type": "execute_result"
    }
   ],
   "source": [
    "d1 is d2"
   ]
  },
  {
   "cell_type": "code",
   "execution_count": 25,
   "id": "180f0297",
   "metadata": {},
   "outputs": [
    {
     "data": {
      "text/plain": [
       "True"
      ]
     },
     "execution_count": 25,
     "metadata": {},
     "output_type": "execute_result"
    }
   ],
   "source": [
    "d1 == d2"
   ]
  },
  {
   "cell_type": "code",
   "execution_count": 28,
   "id": "e8181ef9",
   "metadata": {},
   "outputs": [],
   "source": [
    "pass"
   ]
  },
  {
   "cell_type": "code",
   "execution_count": 29,
   "id": "6a2e7fcc",
   "metadata": {},
   "outputs": [
    {
     "name": "stdout",
     "output_type": "stream",
     "text": [
      "1\n",
      "2\n",
      "3\n",
      "4\n",
      "5\n",
      "6\n",
      "7\n",
      "8\n",
      "9\n",
      "---------------------------------End of program---------------------------------\n"
     ]
    }
   ],
   "source": [
    "n = 1\n",
    "while n<10:\n",
    "    print(n)\n",
    "    n+=1\n",
    "print('End of program'.center(80,'-'))"
   ]
  },
  {
   "cell_type": "code",
   "execution_count": 1,
   "id": "3d3c6022",
   "metadata": {},
   "outputs": [
    {
     "name": "stdout",
     "output_type": "stream",
     "text": [
      "---------------------------------End of program---------------------------------\n"
     ]
    }
   ],
   "source": [
    "n = 1\n",
    "while 0:\n",
    "    print(n)\n",
    "    n+=1\n",
    "print('End of program'.center(80,'-'))"
   ]
  },
  {
   "cell_type": "code",
   "execution_count": null,
   "id": "aaa8ff42",
   "metadata": {},
   "outputs": [],
   "source": []
  }
 ],
 "metadata": {
  "kernelspec": {
   "display_name": "Python 3",
   "language": "python",
   "name": "python3"
  },
  "language_info": {
   "codemirror_mode": {
    "name": "ipython",
    "version": 3
   },
   "file_extension": ".py",
   "mimetype": "text/x-python",
   "name": "python",
   "nbconvert_exporter": "python",
   "pygments_lexer": "ipython3",
   "version": "3.9.6"
  }
 },
 "nbformat": 4,
 "nbformat_minor": 5
}
