{
 "cells": [
  {
   "cell_type": "markdown",
   "id": "3925575a",
   "metadata": {},
   "source": [
    "# Packing and Unpacking  \n",
    "    "
   ]
  },
  {
   "cell_type": "code",
   "execution_count": 1,
   "id": "5c262326",
   "metadata": {},
   "outputs": [],
   "source": [
    "e1 = 'sunny'\n",
    "e2 = [1,2,3]\n",
    "e3 = 100,200,'sunny','python',3.8\n",
    "e4 = {'first_name':'Rahul', 'second_name':'Somani'}"
   ]
  },
  {
   "cell_type": "code",
   "execution_count": 2,
   "id": "498bdd7a",
   "metadata": {},
   "outputs": [
    {
     "name": "stdout",
     "output_type": "stream",
     "text": [
      "s\n",
      "u\n",
      "n\n",
      "n\n",
      "y\n"
     ]
    }
   ],
   "source": [
    "for item in e1:\n",
    "    print(item)\n",
    "    "
   ]
  },
  {
   "cell_type": "code",
   "execution_count": 3,
   "id": "e9ead9a3",
   "metadata": {},
   "outputs": [],
   "source": [
    "a,b,c,d,e = e1"
   ]
  },
  {
   "cell_type": "code",
   "execution_count": 4,
   "id": "edea8e62",
   "metadata": {},
   "outputs": [
    {
     "data": {
      "text/plain": [
       "'s'"
      ]
     },
     "execution_count": 4,
     "metadata": {},
     "output_type": "execute_result"
    }
   ],
   "source": [
    "a"
   ]
  },
  {
   "cell_type": "code",
   "execution_count": 5,
   "id": "b2e54b8b",
   "metadata": {},
   "outputs": [
    {
     "data": {
      "text/plain": [
       "'u'"
      ]
     },
     "execution_count": 5,
     "metadata": {},
     "output_type": "execute_result"
    }
   ],
   "source": [
    "b"
   ]
  },
  {
   "cell_type": "code",
   "execution_count": 6,
   "id": "65a53f4a",
   "metadata": {},
   "outputs": [
    {
     "data": {
      "text/plain": [
       "'n'"
      ]
     },
     "execution_count": 6,
     "metadata": {},
     "output_type": "execute_result"
    }
   ],
   "source": [
    "c"
   ]
  },
  {
   "cell_type": "code",
   "execution_count": 7,
   "id": "e55b1447",
   "metadata": {},
   "outputs": [
    {
     "data": {
      "text/plain": [
       "'n'"
      ]
     },
     "execution_count": 7,
     "metadata": {},
     "output_type": "execute_result"
    }
   ],
   "source": [
    "d"
   ]
  },
  {
   "cell_type": "code",
   "execution_count": 8,
   "id": "b3c43ed0",
   "metadata": {},
   "outputs": [
    {
     "data": {
      "text/plain": [
       "'y'"
      ]
     },
     "execution_count": 8,
     "metadata": {},
     "output_type": "execute_result"
    }
   ],
   "source": [
    "e"
   ]
  },
  {
   "cell_type": "code",
   "execution_count": 9,
   "id": "af49cf14",
   "metadata": {},
   "outputs": [],
   "source": [
    "e3 = 100,200,'sunny','python',3.8\n",
    "# Will try to unpack e3 \n",
    "\n",
    "first,second,third,fourth,fifth = e3\n"
   ]
  },
  {
   "cell_type": "code",
   "execution_count": 10,
   "id": "6d3ba0b2",
   "metadata": {},
   "outputs": [
    {
     "data": {
      "text/plain": [
       "100"
      ]
     },
     "execution_count": 10,
     "metadata": {},
     "output_type": "execute_result"
    }
   ],
   "source": [
    "first"
   ]
  },
  {
   "cell_type": "code",
   "execution_count": 11,
   "id": "b425a900",
   "metadata": {},
   "outputs": [
    {
     "data": {
      "text/plain": [
       "3.8"
      ]
     },
     "execution_count": 11,
     "metadata": {},
     "output_type": "execute_result"
    }
   ],
   "source": [
    "fifth "
   ]
  },
  {
   "cell_type": "code",
   "execution_count": 12,
   "id": "db112555",
   "metadata": {},
   "outputs": [
    {
     "ename": "ValueError",
     "evalue": "too many values to unpack (expected 4)",
     "output_type": "error",
     "traceback": [
      "\u001b[1;31m---------------------------------------------------------------------------\u001b[0m",
      "\u001b[1;31mValueError\u001b[0m                                Traceback (most recent call last)",
      "\u001b[1;32m<ipython-input-12-3c3c16e9b98d>\u001b[0m in \u001b[0;36m<module>\u001b[1;34m\u001b[0m\n\u001b[0;32m      2\u001b[0m \u001b[1;31m# Will try to unpack e3\u001b[0m\u001b[1;33m\u001b[0m\u001b[1;33m\u001b[0m\u001b[1;33m\u001b[0m\u001b[0m\n\u001b[0;32m      3\u001b[0m \u001b[1;33m\u001b[0m\u001b[0m\n\u001b[1;32m----> 4\u001b[1;33m \u001b[0mfirst\u001b[0m\u001b[1;33m,\u001b[0m\u001b[0msecond\u001b[0m\u001b[1;33m,\u001b[0m\u001b[0mthird\u001b[0m\u001b[1;33m,\u001b[0m\u001b[0mfourth\u001b[0m \u001b[1;33m=\u001b[0m \u001b[0me3\u001b[0m\u001b[1;33m\u001b[0m\u001b[1;33m\u001b[0m\u001b[0m\n\u001b[0m",
      "\u001b[1;31mValueError\u001b[0m: too many values to unpack (expected 4)"
     ]
    }
   ],
   "source": [
    "e3 = 100,200,'sunny','python',3.8\n",
    "# Will try to unpack e3 \n",
    "\n",
    "first,second,third,fourth = e3\n"
   ]
  },
  {
   "cell_type": "code",
   "execution_count": 13,
   "id": "dfaee509",
   "metadata": {},
   "outputs": [],
   "source": [
    "l = [1,2,3,'python']"
   ]
  },
  {
   "cell_type": "code",
   "execution_count": 14,
   "id": "7b6ca4fb",
   "metadata": {},
   "outputs": [
    {
     "data": {
      "text/plain": [
       "[1, 2, 3, 'python']"
      ]
     },
     "execution_count": 14,
     "metadata": {},
     "output_type": "execute_result"
    }
   ],
   "source": [
    "l"
   ]
  },
  {
   "cell_type": "code",
   "execution_count": 15,
   "id": "af8e1d67",
   "metadata": {},
   "outputs": [],
   "source": [
    "a, c, *b = l  "
   ]
  },
  {
   "cell_type": "code",
   "execution_count": 16,
   "id": "d42032b0",
   "metadata": {},
   "outputs": [
    {
     "data": {
      "text/plain": [
       "(1, 2)"
      ]
     },
     "execution_count": 16,
     "metadata": {},
     "output_type": "execute_result"
    }
   ],
   "source": [
    "a,c"
   ]
  },
  {
   "cell_type": "code",
   "execution_count": 17,
   "id": "2e8c5c67",
   "metadata": {},
   "outputs": [
    {
     "data": {
      "text/plain": [
       "[3, 'python']"
      ]
     },
     "execution_count": 17,
     "metadata": {},
     "output_type": "execute_result"
    }
   ],
   "source": [
    "b"
   ]
  },
  {
   "cell_type": "code",
   "execution_count": 19,
   "id": "2b77797a",
   "metadata": {},
   "outputs": [
    {
     "data": {
      "text/plain": [
       "list"
      ]
     },
     "execution_count": 19,
     "metadata": {},
     "output_type": "execute_result"
    }
   ],
   "source": [
    "type(b)"
   ]
  },
  {
   "cell_type": "code",
   "execution_count": 20,
   "id": "af54ebe6",
   "metadata": {},
   "outputs": [],
   "source": [
    "a ,*b ,c = l "
   ]
  },
  {
   "cell_type": "code",
   "execution_count": 21,
   "id": "dd506289",
   "metadata": {},
   "outputs": [
    {
     "data": {
      "text/plain": [
       "(1, 'python')"
      ]
     },
     "execution_count": 21,
     "metadata": {},
     "output_type": "execute_result"
    }
   ],
   "source": [
    "a,c"
   ]
  },
  {
   "cell_type": "code",
   "execution_count": 22,
   "id": "936e681c",
   "metadata": {},
   "outputs": [
    {
     "data": {
      "text/plain": [
       "[2, 3]"
      ]
     },
     "execution_count": 22,
     "metadata": {},
     "output_type": "execute_result"
    }
   ],
   "source": [
    "b"
   ]
  },
  {
   "cell_type": "code",
   "execution_count": 23,
   "id": "6ee70c9b",
   "metadata": {},
   "outputs": [
    {
     "ename": "SyntaxError",
     "evalue": "multiple starred expressions in assignment (<ipython-input-23-573d5b183389>, line 1)",
     "output_type": "error",
     "traceback": [
      "\u001b[1;36m  File \u001b[1;32m\"<ipython-input-23-573d5b183389>\"\u001b[1;36m, line \u001b[1;32m1\u001b[0m\n\u001b[1;33m    a, *b , c , *d = l\u001b[0m\n\u001b[1;37m    ^\u001b[0m\n\u001b[1;31mSyntaxError\u001b[0m\u001b[1;31m:\u001b[0m multiple starred expressions in assignment\n"
     ]
    }
   ],
   "source": [
    "a, *b , c , *d = l "
   ]
  },
  {
   "cell_type": "code",
   "execution_count": 24,
   "id": "a3d91ee7",
   "metadata": {},
   "outputs": [],
   "source": [
    "a, *b , (*c,d) = l "
   ]
  },
  {
   "cell_type": "code",
   "execution_count": 27,
   "id": "e032cdb1",
   "metadata": {},
   "outputs": [
    {
     "data": {
      "text/plain": [
       "[1, 2, 3, 'python']"
      ]
     },
     "execution_count": 27,
     "metadata": {},
     "output_type": "execute_result"
    }
   ],
   "source": [
    "l"
   ]
  },
  {
   "cell_type": "code",
   "execution_count": 28,
   "id": "6f8b3269",
   "metadata": {},
   "outputs": [
    {
     "data": {
      "text/plain": [
       "1"
      ]
     },
     "execution_count": 28,
     "metadata": {},
     "output_type": "execute_result"
    }
   ],
   "source": [
    "a"
   ]
  },
  {
   "cell_type": "code",
   "execution_count": 29,
   "id": "130e99d0",
   "metadata": {},
   "outputs": [
    {
     "data": {
      "text/plain": [
       "[2, 3]"
      ]
     },
     "execution_count": 29,
     "metadata": {},
     "output_type": "execute_result"
    }
   ],
   "source": [
    "b "
   ]
  },
  {
   "cell_type": "code",
   "execution_count": 30,
   "id": "48b1ba97",
   "metadata": {},
   "outputs": [
    {
     "data": {
      "text/plain": [
       "'n'"
      ]
     },
     "execution_count": 30,
     "metadata": {},
     "output_type": "execute_result"
    }
   ],
   "source": [
    "d"
   ]
  },
  {
   "cell_type": "code",
   "execution_count": 31,
   "id": "9db58d88",
   "metadata": {},
   "outputs": [
    {
     "data": {
      "text/plain": [
       "['p', 'y', 't', 'h', 'o']"
      ]
     },
     "execution_count": 31,
     "metadata": {},
     "output_type": "execute_result"
    }
   ],
   "source": [
    "c"
   ]
  },
  {
   "cell_type": "code",
   "execution_count": 32,
   "id": "73f79757",
   "metadata": {},
   "outputs": [],
   "source": [
    "l2 = [1,2,3,4,5,6]\n",
    "a,b = l2[0], l2[1:]"
   ]
  },
  {
   "cell_type": "code",
   "execution_count": 33,
   "id": "171c5488",
   "metadata": {},
   "outputs": [
    {
     "name": "stdout",
     "output_type": "stream",
     "text": [
      "1\n",
      "[2, 3, 4, 5, 6]\n"
     ]
    }
   ],
   "source": [
    "print(a)\n",
    "print(b)"
   ]
  },
  {
   "cell_type": "markdown",
   "id": "fb190b4f",
   "metadata": {},
   "source": [
    "# Function arguments ( parameter vs argument)"
   ]
  },
  {
   "cell_type": "markdown",
   "id": "a1357e62",
   "metadata": {},
   "source": [
    "## Postional and Keyword arguments "
   ]
  },
  {
   "cell_type": "code",
   "execution_count": 41,
   "id": "42905bbc",
   "metadata": {},
   "outputs": [],
   "source": [
    "def my_func(a,b):\n",
    "    print(\"a: {1}, b: {0}\".format(a,b))"
   ]
  },
  {
   "cell_type": "code",
   "execution_count": 36,
   "id": "5a6afa35",
   "metadata": {},
   "outputs": [
    {
     "data": {
      "text/plain": [
       "<function __main__.my_func(a, b)>"
      ]
     },
     "execution_count": 36,
     "metadata": {},
     "output_type": "execute_result"
    }
   ],
   "source": [
    "my_func"
   ]
  },
  {
   "cell_type": "code",
   "execution_count": 42,
   "id": "3f838755",
   "metadata": {},
   "outputs": [
    {
     "name": "stdout",
     "output_type": "stream",
     "text": [
      "a: 20, b: 10\n"
     ]
    }
   ],
   "source": [
    "my_func(10,20)"
   ]
  },
  {
   "cell_type": "code",
   "execution_count": 39,
   "id": "b63efc06",
   "metadata": {},
   "outputs": [],
   "source": [
    "def my_func(a,b):\n",
    "    print(\"a: {}, b: {}\".format(a,b))"
   ]
  },
  {
   "cell_type": "code",
   "execution_count": 40,
   "id": "e6320e8b",
   "metadata": {},
   "outputs": [
    {
     "name": "stdout",
     "output_type": "stream",
     "text": [
      "a: 1, b: 23\n"
     ]
    }
   ],
   "source": [
    "my_func(1,23)"
   ]
  },
  {
   "cell_type": "code",
   "execution_count": 43,
   "id": "49684923",
   "metadata": {},
   "outputs": [
    {
     "data": {
      "text/plain": [
       "{'__name__': '__main__',\n",
       " '__doc__': 'Automatically created module for IPython interactive environment',\n",
       " '__package__': None,\n",
       " '__loader__': None,\n",
       " '__spec__': None,\n",
       " '__builtin__': <module 'builtins' (built-in)>,\n",
       " '__builtins__': <module 'builtins' (built-in)>,\n",
       " '_ih': ['',\n",
       "  \"e1 = 'sunny'\\ne2 = [1,2,3]\\ne3 = 100,200,'sunny','python',3.8\\ne4 = {'first_name':'Rahul', 'second_name':'Somani'}\",\n",
       "  'for item in e1:\\n    print(item)\\n    ',\n",
       "  'a,b,c,d,e = e1',\n",
       "  'a',\n",
       "  'b',\n",
       "  'c',\n",
       "  'd',\n",
       "  'e',\n",
       "  \"e3 = 100,200,'sunny','python',3.8\\n# Will try to unpack e3 \\n\\nfirst,second,third,fourth,fifth = e3\",\n",
       "  'first',\n",
       "  'fifth ',\n",
       "  \"e3 = 100,200,'sunny','python',3.8\\n# Will try to unpack e3 \\n\\nfirst,second,third,fourth = e3\",\n",
       "  \"l = [1,2,3,'python']\",\n",
       "  'l',\n",
       "  'a, c, *b = l  ',\n",
       "  'a,c',\n",
       "  'b',\n",
       "  'type(b|)',\n",
       "  'type(b)',\n",
       "  'a ,*b ,c = l ',\n",
       "  'a,c',\n",
       "  'b',\n",
       "  'a, *b , c , *d = l ',\n",
       "  'a, *b , (*c,d) = l ',\n",
       "  'a',\n",
       "  'b',\n",
       "  'l',\n",
       "  'a',\n",
       "  'b ',\n",
       "  'd',\n",
       "  'c',\n",
       "  'l2 = [1,2,3,4,5,6]\\na,b = l2[0], l2[1:]',\n",
       "  'print(a)\\nprint(b)',\n",
       "  'def my_func(a,b):\\n    print(\"a: {0}\", b: {1}\".format(a,b))',\n",
       "  'def my_func(a,b):\\n    print(\"a: {0}, b: {1}\".format(a,b))',\n",
       "  'my_func',\n",
       "  'my_func(10,20|)',\n",
       "  'my_func(10,20)',\n",
       "  'def my_func(a,b):\\n    print(\"a: {}, b: {}\".format(a,b))',\n",
       "  'my_func(1,23)',\n",
       "  'def my_func(a,b):\\n    print(\"a: {1}, b: {0}\".format(a,b))',\n",
       "  'my_func(10,20)',\n",
       "  'globals()'],\n",
       " '_oh': {4: 's',\n",
       "  5: 'u',\n",
       "  6: 'n',\n",
       "  7: 'n',\n",
       "  8: 'y',\n",
       "  10: 100,\n",
       "  11: 3.8,\n",
       "  14: [1, 2, 3, 'python'],\n",
       "  16: (1, 2),\n",
       "  17: [3, 'python'],\n",
       "  19: list,\n",
       "  21: (1, 'python'),\n",
       "  22: [2, 3],\n",
       "  25: 1,\n",
       "  26: [2, 3],\n",
       "  27: [1, 2, 3, 'python'],\n",
       "  28: 1,\n",
       "  29: [2, 3],\n",
       "  30: 'n',\n",
       "  31: ['p', 'y', 't', 'h', 'o'],\n",
       "  36: <function __main__.my_func(a, b)>},\n",
       " '_dh': ['C:\\\\Users\\\\soman\\\\zen'],\n",
       " 'In': ['',\n",
       "  \"e1 = 'sunny'\\ne2 = [1,2,3]\\ne3 = 100,200,'sunny','python',3.8\\ne4 = {'first_name':'Rahul', 'second_name':'Somani'}\",\n",
       "  'for item in e1:\\n    print(item)\\n    ',\n",
       "  'a,b,c,d,e = e1',\n",
       "  'a',\n",
       "  'b',\n",
       "  'c',\n",
       "  'd',\n",
       "  'e',\n",
       "  \"e3 = 100,200,'sunny','python',3.8\\n# Will try to unpack e3 \\n\\nfirst,second,third,fourth,fifth = e3\",\n",
       "  'first',\n",
       "  'fifth ',\n",
       "  \"e3 = 100,200,'sunny','python',3.8\\n# Will try to unpack e3 \\n\\nfirst,second,third,fourth = e3\",\n",
       "  \"l = [1,2,3,'python']\",\n",
       "  'l',\n",
       "  'a, c, *b = l  ',\n",
       "  'a,c',\n",
       "  'b',\n",
       "  'type(b|)',\n",
       "  'type(b)',\n",
       "  'a ,*b ,c = l ',\n",
       "  'a,c',\n",
       "  'b',\n",
       "  'a, *b , c , *d = l ',\n",
       "  'a, *b , (*c,d) = l ',\n",
       "  'a',\n",
       "  'b',\n",
       "  'l',\n",
       "  'a',\n",
       "  'b ',\n",
       "  'd',\n",
       "  'c',\n",
       "  'l2 = [1,2,3,4,5,6]\\na,b = l2[0], l2[1:]',\n",
       "  'print(a)\\nprint(b)',\n",
       "  'def my_func(a,b):\\n    print(\"a: {0}\", b: {1}\".format(a,b))',\n",
       "  'def my_func(a,b):\\n    print(\"a: {0}, b: {1}\".format(a,b))',\n",
       "  'my_func',\n",
       "  'my_func(10,20|)',\n",
       "  'my_func(10,20)',\n",
       "  'def my_func(a,b):\\n    print(\"a: {}, b: {}\".format(a,b))',\n",
       "  'my_func(1,23)',\n",
       "  'def my_func(a,b):\\n    print(\"a: {1}, b: {0}\".format(a,b))',\n",
       "  'my_func(10,20)',\n",
       "  'globals()'],\n",
       " 'Out': {4: 's',\n",
       "  5: 'u',\n",
       "  6: 'n',\n",
       "  7: 'n',\n",
       "  8: 'y',\n",
       "  10: 100,\n",
       "  11: 3.8,\n",
       "  14: [1, 2, 3, 'python'],\n",
       "  16: (1, 2),\n",
       "  17: [3, 'python'],\n",
       "  19: list,\n",
       "  21: (1, 'python'),\n",
       "  22: [2, 3],\n",
       "  25: 1,\n",
       "  26: [2, 3],\n",
       "  27: [1, 2, 3, 'python'],\n",
       "  28: 1,\n",
       "  29: [2, 3],\n",
       "  30: 'n',\n",
       "  31: ['p', 'y', 't', 'h', 'o'],\n",
       "  36: <function __main__.my_func(a, b)>},\n",
       " 'get_ipython': <bound method InteractiveShell.get_ipython of <ipykernel.zmqshell.ZMQInteractiveShell object at 0x000001888DA4D790>>,\n",
       " 'exit': <IPython.core.autocall.ZMQExitAutocall at 0x1888da4d5b0>,\n",
       " 'quit': <IPython.core.autocall.ZMQExitAutocall at 0x1888da4d5b0>,\n",
       " '_': <function __main__.my_func(a, b)>,\n",
       " '__': ['p', 'y', 't', 'h', 'o'],\n",
       " '___': 'n',\n",
       " '_i': 'my_func(10,20)',\n",
       " '_ii': 'def my_func(a,b):\\n    print(\"a: {1}, b: {0}\".format(a,b))',\n",
       " '_iii': 'my_func(1,23)',\n",
       " '_i1': \"e1 = 'sunny'\\ne2 = [1,2,3]\\ne3 = 100,200,'sunny','python',3.8\\ne4 = {'first_name':'Rahul', 'second_name':'Somani'}\",\n",
       " 'e1': 'sunny',\n",
       " 'e2': [1, 2, 3],\n",
       " 'e3': (100, 200, 'sunny', 'python', 3.8),\n",
       " 'e4': {'first_name': 'Rahul', 'second_name': 'Somani'},\n",
       " '_i2': 'for item in e1:\\n    print(item)\\n    ',\n",
       " 'item': 'y',\n",
       " '_i3': 'a,b,c,d,e = e1',\n",
       " 'a': 1,\n",
       " 'b': [2, 3, 4, 5, 6],\n",
       " 'c': ['p', 'y', 't', 'h', 'o'],\n",
       " 'd': 'n',\n",
       " 'e': 'y',\n",
       " '_i4': 'a',\n",
       " '_4': 's',\n",
       " '_i5': 'b',\n",
       " '_5': 'u',\n",
       " '_i6': 'c',\n",
       " '_6': 'n',\n",
       " '_i7': 'd',\n",
       " '_7': 'n',\n",
       " '_i8': 'e',\n",
       " '_8': 'y',\n",
       " '_i9': \"e3 = 100,200,'sunny','python',3.8\\n# Will try to unpack e3 \\n\\nfirst,second,third,fourth,fifth = e3\",\n",
       " 'first': 100,\n",
       " 'second': 200,\n",
       " 'third': 'sunny',\n",
       " 'fourth': 'python',\n",
       " 'fifth': 3.8,\n",
       " '_i10': 'first',\n",
       " '_10': 100,\n",
       " '_i11': 'fifth ',\n",
       " '_11': 3.8,\n",
       " '_i12': \"e3 = 100,200,'sunny','python',3.8\\n# Will try to unpack e3 \\n\\nfirst,second,third,fourth = e3\",\n",
       " '_i13': \"l = [1,2,3,'python']\",\n",
       " 'l': [1, 2, 3, 'python'],\n",
       " '_i14': 'l',\n",
       " '_14': [1, 2, 3, 'python'],\n",
       " '_i15': 'a, c, *b = l  ',\n",
       " '_i16': 'a,c',\n",
       " '_16': (1, 2),\n",
       " '_i17': 'b',\n",
       " '_17': [3, 'python'],\n",
       " '_i18': 'type(b|)',\n",
       " '_i19': 'type(b)',\n",
       " '_19': list,\n",
       " '_i20': 'a ,*b ,c = l ',\n",
       " '_i21': 'a,c',\n",
       " '_21': (1, 'python'),\n",
       " '_i22': 'b',\n",
       " '_22': [2, 3],\n",
       " '_i23': 'a, *b , c , *d = l ',\n",
       " '_i24': 'a, *b , (*c,d) = l ',\n",
       " '_i25': 'a',\n",
       " '_25': 1,\n",
       " '_i26': 'b',\n",
       " '_26': [2, 3],\n",
       " '_i27': 'l',\n",
       " '_27': [1, 2, 3, 'python'],\n",
       " '_i28': 'a',\n",
       " '_28': 1,\n",
       " '_i29': 'b ',\n",
       " '_29': [2, 3],\n",
       " '_i30': 'd',\n",
       " '_30': 'n',\n",
       " '_i31': 'c',\n",
       " '_31': ['p', 'y', 't', 'h', 'o'],\n",
       " '_i32': 'l2 = [1,2,3,4,5,6]\\na,b = l2[0], l2[1:]',\n",
       " 'l2': [1, 2, 3, 4, 5, 6],\n",
       " '_i33': 'print(a)\\nprint(b)',\n",
       " '_i34': 'def my_func(a,b):\\n    print(\"a: {0}\", b: {1}\".format(a,b))',\n",
       " '_i35': 'def my_func(a,b):\\n    print(\"a: {0}, b: {1}\".format(a,b))',\n",
       " 'my_func': <function __main__.my_func(a, b)>,\n",
       " '_i36': 'my_func',\n",
       " '_36': <function __main__.my_func(a, b)>,\n",
       " '_i37': 'my_func(10,20|)',\n",
       " '_i38': 'my_func(10,20)',\n",
       " '_i39': 'def my_func(a,b):\\n    print(\"a: {}, b: {}\".format(a,b))',\n",
       " '_i40': 'my_func(1,23)',\n",
       " '_i41': 'def my_func(a,b):\\n    print(\"a: {1}, b: {0}\".format(a,b))',\n",
       " '_i42': 'my_func(10,20)',\n",
       " '_i43': 'globals()'}"
      ]
     },
     "execution_count": 43,
     "metadata": {},
     "output_type": "execute_result"
    }
   ],
   "source": [
    "globals()"
   ]
  },
  {
   "cell_type": "code",
   "execution_count": 44,
   "id": "5b043fd9",
   "metadata": {},
   "outputs": [
    {
     "data": {
      "text/plain": [
       "dict"
      ]
     },
     "execution_count": 44,
     "metadata": {},
     "output_type": "execute_result"
    }
   ],
   "source": [
    "type(globals())"
   ]
  },
  {
   "cell_type": "code",
   "execution_count": 45,
   "id": "dabd9dae",
   "metadata": {},
   "outputs": [
    {
     "data": {
      "text/plain": [
       "<function __main__.my_func(a, b)>"
      ]
     },
     "execution_count": 45,
     "metadata": {},
     "output_type": "execute_result"
    }
   ],
   "source": [
    "globals()['my_func']"
   ]
  },
  {
   "cell_type": "code",
   "execution_count": 47,
   "id": "5ee17131",
   "metadata": {},
   "outputs": [
    {
     "name": "stdout",
     "output_type": "stream",
     "text": [
      "a: 209, b: 10\n"
     ]
    }
   ],
   "source": [
    "globals()['my_func'](10,209)"
   ]
  },
  {
   "cell_type": "code",
   "execution_count": 48,
   "id": "7c09cf94",
   "metadata": {},
   "outputs": [],
   "source": [
    "del my_func"
   ]
  },
  {
   "cell_type": "code",
   "execution_count": 49,
   "id": "6be1e61b",
   "metadata": {},
   "outputs": [],
   "source": [
    "def my_func(a,b=10):\n",
    "    print(f'a= {a} and b = {b}')"
   ]
  },
  {
   "cell_type": "code",
   "execution_count": 50,
   "id": "ebd3c3ae",
   "metadata": {},
   "outputs": [
    {
     "name": "stdout",
     "output_type": "stream",
     "text": [
      "a= 100 and b = 2009\n"
     ]
    }
   ],
   "source": [
    "my_func(100,2009)"
   ]
  },
  {
   "cell_type": "code",
   "execution_count": 52,
   "id": "dcb82e25",
   "metadata": {},
   "outputs": [
    {
     "name": "stdout",
     "output_type": "stream",
     "text": [
      "a= 100 and b = 10\n"
     ]
    }
   ],
   "source": [
    "my_func(100)"
   ]
  },
  {
   "cell_type": "code",
   "execution_count": 53,
   "id": "57d56656",
   "metadata": {},
   "outputs": [
    {
     "name": "stdout",
     "output_type": "stream",
     "text": [
      "a= rahul and b = 100\n"
     ]
    }
   ],
   "source": [
    "my_func('rahul',b=100)"
   ]
  },
  {
   "cell_type": "code",
   "execution_count": 54,
   "id": "da0b8094",
   "metadata": {},
   "outputs": [
    {
     "name": "stdout",
     "output_type": "stream",
     "text": [
      "a= rahul and b = somani\n"
     ]
    }
   ],
   "source": [
    "my_func('rahul',b='somani')"
   ]
  },
  {
   "cell_type": "code",
   "execution_count": 55,
   "id": "9b9906e2",
   "metadata": {},
   "outputs": [
    {
     "name": "stdout",
     "output_type": "stream",
     "text": [
      "a= rahul and b = somani\n"
     ]
    }
   ],
   "source": [
    "my_func('rahul','somani')"
   ]
  },
  {
   "cell_type": "code",
   "execution_count": 56,
   "id": "286a9f41",
   "metadata": {},
   "outputs": [],
   "source": [
    "del my_func"
   ]
  },
  {
   "cell_type": "code",
   "execution_count": 57,
   "id": "a1fb41c0",
   "metadata": {},
   "outputs": [],
   "source": [
    "def my_func(a,b=10,c=20):\n",
    "    print(\"a:{0} b:{1} c:{2}\".format(a,b,c))"
   ]
  },
  {
   "cell_type": "code",
   "execution_count": 58,
   "id": "3ccdb9c1",
   "metadata": {},
   "outputs": [
    {
     "name": "stdout",
     "output_type": "stream",
     "text": [
      "a:rahul b:10 c:20\n"
     ]
    }
   ],
   "source": [
    "my_func('rahul')"
   ]
  },
  {
   "cell_type": "code",
   "execution_count": 59,
   "id": "75bda17f",
   "metadata": {},
   "outputs": [
    {
     "name": "stdout",
     "output_type": "stream",
     "text": [
      "a:rahul b:10 c:20\n"
     ]
    }
   ],
   "source": [
    "my_func(a='rahul')"
   ]
  },
  {
   "cell_type": "code",
   "execution_count": 60,
   "id": "2534aa48",
   "metadata": {},
   "outputs": [
    {
     "name": "stdout",
     "output_type": "stream",
     "text": [
      "a:20 b:10 c:100\n"
     ]
    }
   ],
   "source": [
    "my_func(a=20,c=100)"
   ]
  },
  {
   "cell_type": "code",
   "execution_count": 61,
   "id": "d03ba115",
   "metadata": {},
   "outputs": [
    {
     "name": "stdout",
     "output_type": "stream",
     "text": [
      "a:10 b:2.7 c:90\n"
     ]
    }
   ],
   "source": [
    "my_func(10,2.7,90)"
   ]
  },
  {
   "cell_type": "code",
   "execution_count": 62,
   "id": "e08eeebc",
   "metadata": {},
   "outputs": [
    {
     "ename": "SyntaxError",
     "evalue": "non-default argument follows default argument (<ipython-input-62-80d35b615a94>, line 1)",
     "output_type": "error",
     "traceback": [
      "\u001b[1;36m  File \u001b[1;32m\"<ipython-input-62-80d35b615a94>\"\u001b[1;36m, line \u001b[1;32m1\u001b[0m\n\u001b[1;33m    def my_func(a=10,b,c):\u001b[0m\n\u001b[1;37m                       ^\u001b[0m\n\u001b[1;31mSyntaxError\u001b[0m\u001b[1;31m:\u001b[0m non-default argument follows default argument\n"
     ]
    }
   ],
   "source": [
    "def my_func(a=10,b,c):\n",
    "    print(a,b,c)"
   ]
  },
  {
   "cell_type": "code",
   "execution_count": 63,
   "id": "dcc81b23",
   "metadata": {},
   "outputs": [
    {
     "ename": "SyntaxError",
     "evalue": "non-default argument follows default argument (<ipython-input-63-e498d8c5d246>, line 1)",
     "output_type": "error",
     "traceback": [
      "\u001b[1;36m  File \u001b[1;32m\"<ipython-input-63-e498d8c5d246>\"\u001b[1;36m, line \u001b[1;32m1\u001b[0m\n\u001b[1;33m    def my_func(a=10,b=2.4,c):\u001b[0m\n\u001b[1;37m                            ^\u001b[0m\n\u001b[1;31mSyntaxError\u001b[0m\u001b[1;31m:\u001b[0m non-default argument follows default argument\n"
     ]
    }
   ],
   "source": [
    "def my_func(a=10,b=2.4,c):\n",
    "    print(a,b,c)"
   ]
  },
  {
   "cell_type": "code",
   "execution_count": 64,
   "id": "a661a379",
   "metadata": {},
   "outputs": [],
   "source": [
    "def my_func(a=10,b=2.4,c='so'):\n",
    "    print(a,b,c)"
   ]
  },
  {
   "cell_type": "code",
   "execution_count": 65,
   "id": "b13726af",
   "metadata": {},
   "outputs": [
    {
     "name": "stdout",
     "output_type": "stream",
     "text": [
      "10 2.4 so\n"
     ]
    }
   ],
   "source": [
    "my_func()"
   ]
  },
  {
   "cell_type": "code",
   "execution_count": 66,
   "id": "b76ca6f7",
   "metadata": {},
   "outputs": [
    {
     "name": "stdout",
     "output_type": "stream",
     "text": [
      "20 30 so\n"
     ]
    }
   ],
   "source": [
    "my_func(20,30)"
   ]
  },
  {
   "cell_type": "code",
   "execution_count": 67,
   "id": "ddcd53bf",
   "metadata": {},
   "outputs": [
    {
     "name": "stdout",
     "output_type": "stream",
     "text": [
      "['__annotations__', '__call__', '__class__', '__closure__', '__code__', '__defaults__', '__delattr__', '__dict__', '__dir__', '__doc__', '__eq__', '__format__', '__ge__', '__get__', '__getattribute__', '__globals__', '__gt__', '__hash__', '__init__', '__init_subclass__', '__kwdefaults__', '__le__', '__lt__', '__module__', '__name__', '__ne__', '__new__', '__qualname__', '__reduce__', '__reduce_ex__', '__repr__', '__setattr__', '__sizeof__', '__str__', '__subclasshook__']\n"
     ]
    }
   ],
   "source": [
    "print(dir(my_func))"
   ]
  },
  {
   "cell_type": "code",
   "execution_count": 69,
   "id": "3b42dbe2",
   "metadata": {},
   "outputs": [
    {
     "data": {
      "text/plain": [
       "'my_func'"
      ]
     },
     "execution_count": 69,
     "metadata": {},
     "output_type": "execute_result"
    }
   ],
   "source": [
    "my_func.__qualname__\n"
   ]
  },
  {
   "cell_type": "code",
   "execution_count": 70,
   "id": "658efa42",
   "metadata": {},
   "outputs": [
    {
     "data": {
      "text/plain": [
       "<code object my_func at 0x000001888DBC5240, file \"<ipython-input-64-7fcc17951209>\", line 1>"
      ]
     },
     "execution_count": 70,
     "metadata": {},
     "output_type": "execute_result"
    }
   ],
   "source": [
    "my_func.__code__"
   ]
  },
  {
   "cell_type": "code",
   "execution_count": 71,
   "id": "009efde8",
   "metadata": {},
   "outputs": [
    {
     "name": "stdout",
     "output_type": "stream",
     "text": [
      "['__class__', '__delattr__', '__dir__', '__doc__', '__eq__', '__format__', '__ge__', '__getattribute__', '__gt__', '__hash__', '__init__', '__init_subclass__', '__le__', '__lt__', '__ne__', '__new__', '__reduce__', '__reduce_ex__', '__repr__', '__setattr__', '__sizeof__', '__str__', '__subclasshook__', 'co_argcount', 'co_cellvars', 'co_code', 'co_consts', 'co_filename', 'co_firstlineno', 'co_flags', 'co_freevars', 'co_kwonlyargcount', 'co_lnotab', 'co_name', 'co_names', 'co_nlocals', 'co_posonlyargcount', 'co_stacksize', 'co_varnames', 'replace']\n"
     ]
    }
   ],
   "source": [
    "print(dir(my_func.__code__))"
   ]
  },
  {
   "cell_type": "code",
   "execution_count": 74,
   "id": "26ca1f71",
   "metadata": {},
   "outputs": [
    {
     "data": {
      "text/plain": [
       "3"
      ]
     },
     "execution_count": 74,
     "metadata": {},
     "output_type": "execute_result"
    }
   ],
   "source": [
    "my_func.__code__.co_argcount"
   ]
  },
  {
   "cell_type": "code",
   "execution_count": 75,
   "id": "f9c49d70",
   "metadata": {},
   "outputs": [
    {
     "data": {
      "text/plain": [
       "('print',)"
      ]
     },
     "execution_count": 75,
     "metadata": {},
     "output_type": "execute_result"
    }
   ],
   "source": [
    "my_func.__code__.co_names # Think about it "
   ]
  },
  {
   "cell_type": "code",
   "execution_count": 77,
   "id": "61a9f32d",
   "metadata": {},
   "outputs": [
    {
     "data": {
      "text/plain": [
       "0"
      ]
     },
     "execution_count": 77,
     "metadata": {},
     "output_type": "execute_result"
    }
   ],
   "source": [
    "my_func.__code__.co_kwonlyargcount"
   ]
  },
  {
   "cell_type": "markdown",
   "id": "fd4c5b1f",
   "metadata": {},
   "source": [
    "# Anonymous Functions \n",
    "` lambda arg:return value `\n"
   ]
  },
  {
   "cell_type": "code",
   "execution_count": 78,
   "id": "add0969a",
   "metadata": {},
   "outputs": [],
   "source": [
    "def adder(a,b):\n",
    "    return a+b"
   ]
  },
  {
   "cell_type": "code",
   "execution_count": 79,
   "id": "d2ef1185",
   "metadata": {},
   "outputs": [
    {
     "data": {
      "text/plain": [
       "30"
      ]
     },
     "execution_count": 79,
     "metadata": {},
     "output_type": "execute_result"
    }
   ],
   "source": [
    "adder(10,20)"
   ]
  },
  {
   "cell_type": "code",
   "execution_count": 80,
   "id": "5c2ffccd",
   "metadata": {},
   "outputs": [
    {
     "data": {
      "text/plain": [
       "<function __main__.<lambda>(a, b)>"
      ]
     },
     "execution_count": 80,
     "metadata": {},
     "output_type": "execute_result"
    }
   ],
   "source": [
    "lambda a,b:a+b"
   ]
  },
  {
   "cell_type": "code",
   "execution_count": 81,
   "id": "ac98c4a7",
   "metadata": {},
   "outputs": [],
   "source": [
    "f = lambda a,b:a+b"
   ]
  },
  {
   "cell_type": "code",
   "execution_count": 82,
   "id": "c15060c4",
   "metadata": {},
   "outputs": [
    {
     "data": {
      "text/plain": [
       "<function __main__.<lambda>(a, b)>"
      ]
     },
     "execution_count": 82,
     "metadata": {},
     "output_type": "execute_result"
    }
   ],
   "source": [
    "f"
   ]
  },
  {
   "cell_type": "code",
   "execution_count": 83,
   "id": "0212a2ae",
   "metadata": {},
   "outputs": [
    {
     "data": {
      "text/plain": [
       "50"
      ]
     },
     "execution_count": 83,
     "metadata": {},
     "output_type": "execute_result"
    }
   ],
   "source": [
    "f(20,30)"
   ]
  },
  {
   "cell_type": "markdown",
   "id": "e44ce93d",
   "metadata": {},
   "source": [
    "` Some more meat `"
   ]
  },
  {
   "cell_type": "code",
   "execution_count": null,
   "id": "fd1ac573",
   "metadata": {},
   "outputs": [],
   "source": [
    "\n"
   ]
  }
 ],
 "metadata": {
  "kernelspec": {
   "display_name": "Python 3",
   "language": "python",
   "name": "python3"
  },
  "language_info": {
   "codemirror_mode": {
    "name": "ipython",
    "version": 3
   },
   "file_extension": ".py",
   "mimetype": "text/x-python",
   "name": "python",
   "nbconvert_exporter": "python",
   "pygments_lexer": "ipython3",
   "version": "3.9.6"
  }
 },
 "nbformat": 4,
 "nbformat_minor": 5
}
