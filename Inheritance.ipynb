{
 "cells": [
  {
   "cell_type": "code",
   "execution_count": 2,
   "id": "a8de0fb5",
   "metadata": {},
   "outputs": [],
   "source": [
    "class Vehicle(object):\n",
    "    pass \n",
    "class Car(Vehicle):\n",
    "    pass\n",
    "class SmallCars(Car):\n",
    "    pass\n",
    "class Auto(SmallCars):\n",
    "    pass \n",
    "\n"
   ]
  },
  {
   "cell_type": "code",
   "execution_count": 3,
   "id": "c9b904b3",
   "metadata": {},
   "outputs": [
    {
     "data": {
      "text/plain": [
       "(__main__.Vehicle, __main__.Car, __main__.SmallCars, __main__.Auto)"
      ]
     },
     "execution_count": 3,
     "metadata": {},
     "output_type": "execute_result"
    }
   ],
   "source": [
    "Vehicle, Car, SmallCars, Auto"
   ]
  },
  {
   "cell_type": "code",
   "execution_count": 4,
   "id": "87c736ef",
   "metadata": {},
   "outputs": [
    {
     "data": {
      "text/plain": [
       "True"
      ]
     },
     "execution_count": 4,
     "metadata": {},
     "output_type": "execute_result"
    }
   ],
   "source": [
    "issubclass(Vehicle,object)"
   ]
  },
  {
   "cell_type": "code",
   "execution_count": 6,
   "id": "ccc5bd14",
   "metadata": {},
   "outputs": [
    {
     "data": {
      "text/plain": [
       "True"
      ]
     },
     "execution_count": 6,
     "metadata": {},
     "output_type": "execute_result"
    }
   ],
   "source": [
    "issubclass(SmallCars,Car)"
   ]
  },
  {
   "cell_type": "code",
   "execution_count": 7,
   "id": "fcdd0207",
   "metadata": {},
   "outputs": [
    {
     "data": {
      "text/plain": [
       "True"
      ]
     },
     "execution_count": 7,
     "metadata": {},
     "output_type": "execute_result"
    }
   ],
   "source": [
    "issubclass(SmallCars,Car)"
   ]
  },
  {
   "cell_type": "code",
   "execution_count": 8,
   "id": "f882272d",
   "metadata": {},
   "outputs": [
    {
     "data": {
      "text/plain": [
       "False"
      ]
     },
     "execution_count": 8,
     "metadata": {},
     "output_type": "execute_result"
    }
   ],
   "source": [
    "issubclass(Car,SmallCars)"
   ]
  },
  {
   "cell_type": "code",
   "execution_count": 9,
   "id": "76178616",
   "metadata": {},
   "outputs": [],
   "source": [
    "class Vehicle(object):\n",
    "    pass \n",
    "class Car(Vehicle):\n",
    "    pass\n",
    "class SmallCars(Car):\n",
    "    pass\n",
    "class Auto(SmallCars):\n",
    "    pass \n",
    "\n",
    "v = Vehicle()\n",
    "c = Car()\n",
    "s = SmallCars()\n",
    "a = Auto()"
   ]
  },
  {
   "cell_type": "code",
   "execution_count": 10,
   "id": "6fbe3d18",
   "metadata": {},
   "outputs": [
    {
     "data": {
      "text/plain": [
       "(<__main__.Vehicle at 0x23a3cb9a2b0>,\n",
       " <__main__.Car at 0x23a3cc2e5e0>,\n",
       " <__main__.SmallCars at 0x23a3cb9a130>,\n",
       " <__main__.Auto at 0x23a3cc2edf0>)"
      ]
     },
     "execution_count": 10,
     "metadata": {},
     "output_type": "execute_result"
    }
   ],
   "source": [
    "v ,c ,s,a"
   ]
  },
  {
   "cell_type": "code",
   "execution_count": 11,
   "id": "9d397dc4",
   "metadata": {},
   "outputs": [
    {
     "data": {
      "text/plain": [
       "False"
      ]
     },
     "execution_count": 11,
     "metadata": {},
     "output_type": "execute_result"
    }
   ],
   "source": [
    "isinstance(v,type)"
   ]
  },
  {
   "cell_type": "code",
   "execution_count": 12,
   "id": "43616769",
   "metadata": {},
   "outputs": [
    {
     "data": {
      "text/plain": [
       "True"
      ]
     },
     "execution_count": 12,
     "metadata": {},
     "output_type": "execute_result"
    }
   ],
   "source": [
    "isinstance(a,Vehicle)"
   ]
  },
  {
   "cell_type": "code",
   "execution_count": 14,
   "id": "4b52437f",
   "metadata": {},
   "outputs": [],
   "source": [
    "pass"
   ]
  },
  {
   "cell_type": "code",
   "execution_count": 16,
   "id": "2576c1ea",
   "metadata": {},
   "outputs": [],
   "source": [
    "class A:\n",
    "    n = 0\n",
    "    def result(self):\n",
    "        print('Result section')\n",
    "    def bark(self):\n",
    "        print('Barks')"
   ]
  },
  {
   "cell_type": "code",
   "execution_count": 19,
   "id": "aaacb3f1",
   "metadata": {},
   "outputs": [],
   "source": [
    "class D(A):\n",
    "    def bark(self):\n",
    "        print('Dog barking')\n",
    "        "
   ]
  },
  {
   "cell_type": "code",
   "execution_count": 20,
   "id": "25f1b9e8",
   "metadata": {},
   "outputs": [],
   "source": [
    "a = A()\n",
    "d = D()\n"
   ]
  },
  {
   "cell_type": "code",
   "execution_count": 21,
   "id": "988b557d",
   "metadata": {},
   "outputs": [
    {
     "data": {
      "text/plain": [
       "<__main__.D at 0x23a3cb9ae20>"
      ]
     },
     "execution_count": 21,
     "metadata": {},
     "output_type": "execute_result"
    }
   ],
   "source": [
    "d"
   ]
  },
  {
   "cell_type": "code",
   "execution_count": 22,
   "id": "628c6b2b",
   "metadata": {},
   "outputs": [
    {
     "name": "stdout",
     "output_type": "stream",
     "text": [
      "Dog barking\n"
     ]
    }
   ],
   "source": [
    "d.bark()"
   ]
  },
  {
   "cell_type": "code",
   "execution_count": 23,
   "id": "84fff104",
   "metadata": {},
   "outputs": [
    {
     "data": {
      "text/plain": [
       "mappingproxy({'__module__': '__main__',\n",
       "              'n': 0,\n",
       "              'result': <function __main__.A.result(self)>,\n",
       "              'bark': <function __main__.A.bark(self)>,\n",
       "              '__dict__': <attribute '__dict__' of 'A' objects>,\n",
       "              '__weakref__': <attribute '__weakref__' of 'A' objects>,\n",
       "              '__doc__': None})"
      ]
     },
     "execution_count": 23,
     "metadata": {},
     "output_type": "execute_result"
    }
   ],
   "source": [
    "A.__dict__"
   ]
  },
  {
   "cell_type": "code",
   "execution_count": 24,
   "id": "697dd3f8",
   "metadata": {},
   "outputs": [
    {
     "data": {
      "text/plain": [
       "mappingproxy({'__module__': '__main__',\n",
       "              'bark': <function __main__.D.bark(self)>,\n",
       "              '__doc__': None})"
      ]
     },
     "execution_count": 24,
     "metadata": {},
     "output_type": "execute_result"
    }
   ],
   "source": [
    "D.__dict__"
   ]
  },
  {
   "cell_type": "code",
   "execution_count": null,
   "id": "b4b9757b",
   "metadata": {},
   "outputs": [],
   "source": [
    "# Python example to show the working of multiple\n",
    "# inheritance\n",
    "class Base1(object):\n",
    "\tdef __init__(self):\n",
    "\t\tself.str1 = \"Geek1\"\n",
    "\t\tprint(\"Base1\")\n",
    "\n",
    "class Base2(object):\n",
    "\tdef __init__(self):\n",
    "\t\tself.str2 = \"Geek2\"\t\n",
    "\t\tprint(\"Base2\")\n",
    "\n",
    "class Derived(Base1, Base2):\n",
    "\tdef __init__(self):\n",
    "\t\t\n",
    "\t\t# Calling constructors of Base1\n",
    "\t\t# and Base2 classes\n",
    "\t\tBase1.__init__(self)\n",
    "\t\tBase2.__init__(self)\n",
    "\t\tprint(\"Derived\")\n",
    "\t\t\n",
    "\tdef printStrs(self):\n",
    "\t\tprint(self.str1, self.str2)\n",
    "\t\t\n",
    "\n",
    "ob = Derived()\n",
    "ob.printStrs()\n"
   ]
  },
  {
   "cell_type": "markdown",
   "id": "050bd19f",
   "metadata": {},
   "source": [
    "Sunny "
   ]
  },
  {
   "cell_type": "code",
   "execution_count": null,
   "id": "02e2dfec",
   "metadata": {},
   "outputs": [],
   "source": [
    "import sqlite3 as sql\n",
    "con = sql.connect('testdb.db') \n",
    "con.execute('create table if not exists Employee(name text, age int)')\n",
    "\n",
    "class Employee:\n",
    "    def __init__(self, name, age):\n",
    "        self.name=name\n",
    "        self.age=age\n",
    "        con.execute(f'insert into Employee VALUES(\"{name}\",\"{age}\")')\n",
    "        \n",
    "    def delete(self):\n",
    "        con.execute(f'delete from Employee where name=\"{self.name}\"')\n",
    "       \n",
    "    def update(self, age):\n",
    "        con.execute(f'update Employee set age=\"{age}\" where name=\"{self.n}\")"
   ]
  }
 ],
 "metadata": {
  "kernelspec": {
   "display_name": "Python 3",
   "language": "python",
   "name": "python3"
  },
  "language_info": {
   "codemirror_mode": {
    "name": "ipython",
    "version": 3
   },
   "file_extension": ".py",
   "mimetype": "text/x-python",
   "name": "python",
   "nbconvert_exporter": "python",
   "pygments_lexer": "ipython3",
   "version": "3.9.6"
  }
 },
 "nbformat": 4,
 "nbformat_minor": 5
}
