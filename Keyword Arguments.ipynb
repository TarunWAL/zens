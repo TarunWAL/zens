{
 "cells": [
  {
   "cell_type": "markdown",
   "id": "0d0b1f42",
   "metadata": {},
   "source": [
    "Variable number of positional arguments ( usually represented as *args)\n",
    "\n",
    "Keyword only arguments ( usually represented **kwargs)"
   ]
  },
  {
   "cell_type": "code",
   "execution_count": 1,
   "id": "1d88ff31",
   "metadata": {},
   "outputs": [],
   "source": [
    "def func(*args):\n",
    "    print('Total number of postional arguments = {}'.format(len(args)))\n",
    "    print(' Type of args = {}'.format(type(args)))\n",
    "    print(args)"
   ]
  },
  {
   "cell_type": "code",
   "execution_count": 2,
   "id": "3bed7f04",
   "metadata": {},
   "outputs": [
    {
     "data": {
      "text/plain": [
       "<function __main__.func(*args)>"
      ]
     },
     "execution_count": 2,
     "metadata": {},
     "output_type": "execute_result"
    }
   ],
   "source": [
    "func"
   ]
  },
  {
   "cell_type": "code",
   "execution_count": 3,
   "id": "b2f1bf9d",
   "metadata": {},
   "outputs": [
    {
     "name": "stdout",
     "output_type": "stream",
     "text": [
      "Total number of postional arguments = 0\n",
      " Type of args = <class 'tuple'>\n",
      "()\n"
     ]
    }
   ],
   "source": [
    "func()"
   ]
  },
  {
   "cell_type": "code",
   "execution_count": 4,
   "id": "739af0a7",
   "metadata": {},
   "outputs": [
    {
     "name": "stdout",
     "output_type": "stream",
     "text": [
      "Total number of postional arguments = 3\n",
      " Type of args = <class 'tuple'>\n",
      "(1, 2, 3)\n"
     ]
    }
   ],
   "source": [
    "func(1,2,3)"
   ]
  },
  {
   "cell_type": "code",
   "execution_count": 5,
   "id": "1114973d",
   "metadata": {},
   "outputs": [],
   "source": [
    "def func(*a):\n",
    "    print('Total number of postional arguments = {}'.format(len(a)))\n",
    "    print(' Type of args = {}'.format(type(a)))\n",
    "    print(a)"
   ]
  },
  {
   "cell_type": "code",
   "execution_count": 6,
   "id": "58ff58ce",
   "metadata": {},
   "outputs": [
    {
     "name": "stdout",
     "output_type": "stream",
     "text": [
      "Total number of postional arguments = 2\n",
      " Type of args = <class 'tuple'>\n",
      "('rahul', 'somani')\n"
     ]
    }
   ],
   "source": [
    "func('rahul','somani')"
   ]
  },
  {
   "cell_type": "code",
   "execution_count": 9,
   "id": "8863e804",
   "metadata": {},
   "outputs": [],
   "source": [
    "def func(*,d,**kwargs):\n",
    "    print(d,kwargs)\n",
    "    print(type(kwargs))"
   ]
  },
  {
   "cell_type": "code",
   "execution_count": 10,
   "id": "89df549a",
   "metadata": {},
   "outputs": [
    {
     "name": "stdout",
     "output_type": "stream",
     "text": [
      "3 {'a': 1, 'c': 5}\n",
      "<class 'dict'>\n"
     ]
    }
   ],
   "source": [
    "func(a=1,d=3,c=5)"
   ]
  },
  {
   "cell_type": "code",
   "execution_count": 11,
   "id": "e6605cb1",
   "metadata": {},
   "outputs": [],
   "source": [
    "def func(*args,**kwargs):\n",
    "    print(args,kwargs)"
   ]
  },
  {
   "cell_type": "code",
   "execution_count": 12,
   "id": "f0793853",
   "metadata": {},
   "outputs": [
    {
     "name": "stdout",
     "output_type": "stream",
     "text": [
      "(1, 2, 3) {'fname': 'rahul', 'lname': 'somani'}\n"
     ]
    }
   ],
   "source": [
    "func(1,2,3,fname='rahul',lname='somani')"
   ]
  },
  {
   "cell_type": "code",
   "execution_count": 13,
   "id": "6fb60af4",
   "metadata": {},
   "outputs": [
    {
     "name": "stdout",
     "output_type": "stream",
     "text": [
      "() {}\n"
     ]
    }
   ],
   "source": [
    "func()"
   ]
  },
  {
   "cell_type": "code",
   "execution_count": 14,
   "id": "338342e7",
   "metadata": {},
   "outputs": [],
   "source": [
    "def func(*_,**k):\n",
    "    print(_,k)"
   ]
  },
  {
   "cell_type": "code",
   "execution_count": 15,
   "id": "5c973aa8",
   "metadata": {},
   "outputs": [
    {
     "name": "stdout",
     "output_type": "stream",
     "text": [
      "(1, 2, 3) {'name': 'rahul', 'age': 42}\n"
     ]
    }
   ],
   "source": [
    "func(1,2,3,name='rahul',age=42)"
   ]
  },
  {
   "cell_type": "code",
   "execution_count": 16,
   "id": "f6a9f9b3",
   "metadata": {},
   "outputs": [
    {
     "data": {
      "text/plain": [
       "<function __main__.func(*args)>"
      ]
     },
     "execution_count": 16,
     "metadata": {},
     "output_type": "execute_result"
    }
   ],
   "source": [
    "# Ponder \n",
    "_"
   ]
  },
  {
   "cell_type": "code",
   "execution_count": 17,
   "id": "7e8722c8",
   "metadata": {},
   "outputs": [],
   "source": [
    "# Try to find out the number of times a function has been called \n",
    "def counter(fn):\n",
    "    cnt = 0 \n",
    "    def inner(*args,**kwargs):\n",
    "        nonlocal cnt \n",
    "        cnt+=1\n",
    "        print('Function {} called {} times'.format(fn.__name__,cnt))\n",
    "        return fn(*args,**kwargs)\n",
    "    return inner "
   ]
  },
  {
   "cell_type": "code",
   "execution_count": 18,
   "id": "c0056c52",
   "metadata": {},
   "outputs": [],
   "source": [
    "def add(a,b):\n",
    "    return a+b\n"
   ]
  },
  {
   "cell_type": "code",
   "execution_count": 19,
   "id": "d2e14a35",
   "metadata": {},
   "outputs": [],
   "source": [
    "def mult(a,b):\n",
    "    return a*b"
   ]
  },
  {
   "cell_type": "code",
   "execution_count": 20,
   "id": "4a5ea76d",
   "metadata": {},
   "outputs": [
    {
     "data": {
      "text/plain": [
       "(<function __main__.counter(fn)>,\n",
       " <function __main__.add(a, b)>,\n",
       " <function __main__.mult(a, b)>)"
      ]
     },
     "execution_count": 20,
     "metadata": {},
     "output_type": "execute_result"
    }
   ],
   "source": [
    "counter,add,mult"
   ]
  },
  {
   "cell_type": "code",
   "execution_count": 22,
   "id": "361d3a19",
   "metadata": {},
   "outputs": [],
   "source": [
    "add = counter(add)"
   ]
  },
  {
   "cell_type": "code",
   "execution_count": 23,
   "id": "2ee23035",
   "metadata": {},
   "outputs": [
    {
     "name": "stdout",
     "output_type": "stream",
     "text": [
      "Function add called 1 times\n"
     ]
    },
    {
     "data": {
      "text/plain": [
       "6"
      ]
     },
     "execution_count": 23,
     "metadata": {},
     "output_type": "execute_result"
    }
   ],
   "source": [
    "add(2,4)"
   ]
  },
  {
   "cell_type": "code",
   "execution_count": 25,
   "id": "7bcdb5a0",
   "metadata": {},
   "outputs": [
    {
     "name": "stdout",
     "output_type": "stream",
     "text": [
      "Function add called 3 times\n"
     ]
    },
    {
     "data": {
      "text/plain": [
       "2"
      ]
     },
     "execution_count": 25,
     "metadata": {},
     "output_type": "execute_result"
    }
   ],
   "source": [
    "add(1,1)"
   ]
  },
  {
   "cell_type": "code",
   "execution_count": null,
   "id": "433670ef",
   "metadata": {},
   "outputs": [],
   "source": []
  }
 ],
 "metadata": {
  "kernelspec": {
   "display_name": "Python 3",
   "language": "python",
   "name": "python3"
  },
  "language_info": {
   "codemirror_mode": {
    "name": "ipython",
    "version": 3
   },
   "file_extension": ".py",
   "mimetype": "text/x-python",
   "name": "python",
   "nbconvert_exporter": "python",
   "pygments_lexer": "ipython3",
   "version": "3.9.6"
  }
 },
 "nbformat": 4,
 "nbformat_minor": 5
}
