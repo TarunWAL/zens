{
 "cells": [
  {
   "cell_type": "markdown",
   "id": "275d91eb",
   "metadata": {},
   "source": [
    "# Regular Expressions \n",
    "` The re module `\n"
   ]
  },
  {
   "cell_type": "code",
   "execution_count": 1,
   "id": "669d3994",
   "metadata": {},
   "outputs": [],
   "source": [
    "import re "
   ]
  },
  {
   "cell_type": "code",
   "execution_count": 2,
   "id": "8f140851",
   "metadata": {},
   "outputs": [
    {
     "data": {
      "text/plain": [
       "module"
      ]
     },
     "execution_count": 2,
     "metadata": {},
     "output_type": "execute_result"
    }
   ],
   "source": [
    "type(re)"
   ]
  },
  {
   "cell_type": "code",
   "execution_count": 3,
   "id": "ef650beb",
   "metadata": {},
   "outputs": [
    {
     "data": {
      "text/plain": [
       "<module 're' from 'c:\\\\users\\\\soman\\\\appdata\\\\local\\\\programs\\\\python\\\\python39\\\\lib\\\\re.py'>"
      ]
     },
     "execution_count": 3,
     "metadata": {},
     "output_type": "execute_result"
    }
   ],
   "source": [
    "re"
   ]
  },
  {
   "cell_type": "code",
   "execution_count": 4,
   "id": "057cc020",
   "metadata": {},
   "outputs": [
    {
     "name": "stdout",
     "output_type": "stream",
     "text": [
      "['A', 'ASCII', 'DEBUG', 'DOTALL', 'I', 'IGNORECASE', 'L', 'LOCALE', 'M', 'MULTILINE', 'Match', 'Pattern', 'RegexFlag', 'S', 'Scanner', 'T', 'TEMPLATE', 'U', 'UNICODE', 'VERBOSE', 'X', '_MAXCACHE', '__all__', '__builtins__', '__cached__', '__doc__', '__file__', '__loader__', '__name__', '__package__', '__spec__', '__version__', '_cache', '_compile', '_compile_repl', '_expand', '_locale', '_pickle', '_special_chars_map', '_subx', 'compile', 'copyreg', 'enum', 'error', 'escape', 'findall', 'finditer', 'fullmatch', 'functools', 'match', 'purge', 'search', 'split', 'sre_compile', 'sre_parse', 'sub', 'subn', 'template']\t"
     ]
    }
   ],
   "source": [
    "print(dir(re),end='\\t')"
   ]
  },
  {
   "cell_type": "markdown",
   "id": "52cbf99d",
   "metadata": {},
   "source": [
    "The re module is used to search,modify,substitute/ replace a piece of data. \n",
    "Entirely written in c \n",
    "Very efficient "
   ]
  },
  {
   "cell_type": "markdown",
   "id": "784df4af",
   "metadata": {},
   "source": [
    "# Problem statement \n",
    "Given a string, find for a digit in that string "
   ]
  },
  {
   "cell_type": "code",
   "execution_count": 6,
   "id": "a5bed14f",
   "metadata": {},
   "outputs": [],
   "source": [
    "def _isdigit(text):\n",
    "    \"\"\"Look for an integer and returns a boolean\"\"\"\n",
    "    for i in text:\n",
    "        if type(i) == int:\n",
    "            return True\n",
    "        return False"
   ]
  },
  {
   "cell_type": "code",
   "execution_count": 7,
   "id": "b644b4e0",
   "metadata": {},
   "outputs": [
    {
     "data": {
      "text/plain": [
       "False"
      ]
     },
     "execution_count": 7,
     "metadata": {},
     "output_type": "execute_result"
    }
   ],
   "source": [
    "_isdigit(\"rahul\")"
   ]
  },
  {
   "cell_type": "code",
   "execution_count": 8,
   "id": "7f3214a4",
   "metadata": {},
   "outputs": [
    {
     "data": {
      "text/plain": [
       "False"
      ]
     },
     "execution_count": 8,
     "metadata": {},
     "output_type": "execute_result"
    }
   ],
   "source": [
    "_isdigit(\"rahul23\")"
   ]
  },
  {
   "cell_type": "code",
   "execution_count": 9,
   "id": "284796f3",
   "metadata": {},
   "outputs": [
    {
     "ename": "TypeError",
     "evalue": "'int' object is not iterable",
     "output_type": "error",
     "traceback": [
      "\u001b[1;31m---------------------------------------------------------------------------\u001b[0m",
      "\u001b[1;31mTypeError\u001b[0m                                 Traceback (most recent call last)",
      "\u001b[1;32m<ipython-input-9-6d180ba8d539>\u001b[0m in \u001b[0;36m<module>\u001b[1;34m\u001b[0m\n\u001b[1;32m----> 1\u001b[1;33m \u001b[0m_isdigit\u001b[0m\u001b[1;33m(\u001b[0m\u001b[1;36m23\u001b[0m\u001b[1;33m)\u001b[0m\u001b[1;33m\u001b[0m\u001b[1;33m\u001b[0m\u001b[0m\n\u001b[0m",
      "\u001b[1;32m<ipython-input-6-d562f87f3467>\u001b[0m in \u001b[0;36m_isdigit\u001b[1;34m(text)\u001b[0m\n\u001b[0;32m      1\u001b[0m \u001b[1;32mdef\u001b[0m \u001b[0m_isdigit\u001b[0m\u001b[1;33m(\u001b[0m\u001b[0mtext\u001b[0m\u001b[1;33m)\u001b[0m\u001b[1;33m:\u001b[0m\u001b[1;33m\u001b[0m\u001b[1;33m\u001b[0m\u001b[0m\n\u001b[0;32m      2\u001b[0m     \u001b[1;34m\"\"\"Look for an integer and returns a boolean\"\"\"\u001b[0m\u001b[1;33m\u001b[0m\u001b[1;33m\u001b[0m\u001b[0m\n\u001b[1;32m----> 3\u001b[1;33m     \u001b[1;32mfor\u001b[0m \u001b[0mi\u001b[0m \u001b[1;32min\u001b[0m \u001b[0mtext\u001b[0m\u001b[1;33m:\u001b[0m\u001b[1;33m\u001b[0m\u001b[1;33m\u001b[0m\u001b[0m\n\u001b[0m\u001b[0;32m      4\u001b[0m         \u001b[1;32mif\u001b[0m \u001b[0mtype\u001b[0m\u001b[1;33m(\u001b[0m\u001b[0mi\u001b[0m\u001b[1;33m)\u001b[0m \u001b[1;33m==\u001b[0m \u001b[0mint\u001b[0m\u001b[1;33m:\u001b[0m\u001b[1;33m\u001b[0m\u001b[1;33m\u001b[0m\u001b[0m\n\u001b[0;32m      5\u001b[0m             \u001b[1;32mreturn\u001b[0m \u001b[1;32mTrue\u001b[0m\u001b[1;33m\u001b[0m\u001b[1;33m\u001b[0m\u001b[0m\n",
      "\u001b[1;31mTypeError\u001b[0m: 'int' object is not iterable"
     ]
    }
   ],
   "source": [
    "_isdigit(23)"
   ]
  },
  {
   "cell_type": "code",
   "execution_count": 10,
   "id": "a34dc833",
   "metadata": {},
   "outputs": [
    {
     "name": "stdout",
     "output_type": "stream",
     "text": [
      "c:\u0007nkur\n",
      "ame\n"
     ]
    }
   ],
   "source": [
    "c = 'c:\\ankur\\name'\n",
    "print(c)"
   ]
  },
  {
   "cell_type": "markdown",
   "id": "18dbe613",
   "metadata": {},
   "source": [
    "Raw String "
   ]
  },
  {
   "cell_type": "code",
   "execution_count": 11,
   "id": "75c353e5",
   "metadata": {},
   "outputs": [
    {
     "name": "stdout",
     "output_type": "stream",
     "text": [
      "c:\\ankur\\name\n"
     ]
    }
   ],
   "source": [
    "c = r'c:\\ankur\\name'\n",
    "print(c)"
   ]
  },
  {
   "cell_type": "code",
   "execution_count": 12,
   "id": "527597b9",
   "metadata": {},
   "outputs": [],
   "source": [
    "import re \n",
    "pattern = r'\\d' # \\d --> a single digit\n",
    "text = 'I am 42 now'\n",
    "result = re.search(pattern,text)"
   ]
  },
  {
   "cell_type": "code",
   "execution_count": 13,
   "id": "3c3c8285",
   "metadata": {},
   "outputs": [
    {
     "data": {
      "text/plain": [
       "<re.Match object; span=(5, 6), match='4'>"
      ]
     },
     "execution_count": 13,
     "metadata": {},
     "output_type": "execute_result"
    }
   ],
   "source": [
    "result"
   ]
  },
  {
   "cell_type": "code",
   "execution_count": 14,
   "id": "3ec37540",
   "metadata": {},
   "outputs": [
    {
     "data": {
      "text/plain": [
       "'\\\\d'"
      ]
     },
     "execution_count": 14,
     "metadata": {},
     "output_type": "execute_result"
    }
   ],
   "source": [
    "pattern"
   ]
  },
  {
   "cell_type": "code",
   "execution_count": 15,
   "id": "19895ed2",
   "metadata": {},
   "outputs": [
    {
     "name": "stdout",
     "output_type": "stream",
     "text": [
      "['__class__', '__class_getitem__', '__copy__', '__deepcopy__', '__delattr__', '__dir__', '__doc__', '__eq__', '__format__', '__ge__', '__getattribute__', '__getitem__', '__gt__', '__hash__', '__init__', '__init_subclass__', '__le__', '__lt__', '__ne__', '__new__', '__reduce__', '__reduce_ex__', '__repr__', '__setattr__', '__sizeof__', '__str__', '__subclasshook__', 'end', 'endpos', 'expand', 'group', 'groupdict', 'groups', 'lastgroup', 'lastindex', 'pos', 're', 'regs', 'span', 'start', 'string']\n"
     ]
    }
   ],
   "source": [
    "print(dir(result))"
   ]
  },
  {
   "cell_type": "code",
   "execution_count": 16,
   "id": "be58c96e",
   "metadata": {},
   "outputs": [
    {
     "data": {
      "text/plain": [
       "<function Match.span(group=0, /)>"
      ]
     },
     "execution_count": 16,
     "metadata": {},
     "output_type": "execute_result"
    }
   ],
   "source": [
    "result.span"
   ]
  },
  {
   "cell_type": "code",
   "execution_count": 17,
   "id": "bb916f04",
   "metadata": {},
   "outputs": [
    {
     "data": {
      "text/plain": [
       "(5, 6)"
      ]
     },
     "execution_count": 17,
     "metadata": {},
     "output_type": "execute_result"
    }
   ],
   "source": [
    "result.span()"
   ]
  },
  {
   "cell_type": "code",
   "execution_count": 18,
   "id": "15f95f1b",
   "metadata": {},
   "outputs": [
    {
     "data": {
      "text/plain": [
       "<function Match.start(group=0, /)>"
      ]
     },
     "execution_count": 18,
     "metadata": {},
     "output_type": "execute_result"
    }
   ],
   "source": [
    "result.start"
   ]
  },
  {
   "cell_type": "code",
   "execution_count": 19,
   "id": "103d5afa",
   "metadata": {},
   "outputs": [
    {
     "data": {
      "text/plain": [
       "5"
      ]
     },
     "execution_count": 19,
     "metadata": {},
     "output_type": "execute_result"
    }
   ],
   "source": [
    "result.start()"
   ]
  },
  {
   "cell_type": "code",
   "execution_count": 20,
   "id": "d9782d56",
   "metadata": {},
   "outputs": [
    {
     "data": {
      "text/plain": [
       "6"
      ]
     },
     "execution_count": 20,
     "metadata": {},
     "output_type": "execute_result"
    }
   ],
   "source": [
    "result.end()"
   ]
  },
  {
   "cell_type": "code",
   "execution_count": 21,
   "id": "721bbf5b",
   "metadata": {},
   "outputs": [
    {
     "data": {
      "text/plain": [
       "<function Match.groups(default=None)>"
      ]
     },
     "execution_count": 21,
     "metadata": {},
     "output_type": "execute_result"
    }
   ],
   "source": [
    "result.groups"
   ]
  },
  {
   "cell_type": "code",
   "execution_count": 22,
   "id": "16adcd63",
   "metadata": {},
   "outputs": [
    {
     "data": {
      "text/plain": [
       "()"
      ]
     },
     "execution_count": 22,
     "metadata": {},
     "output_type": "execute_result"
    }
   ],
   "source": [
    "result.groups()"
   ]
  },
  {
   "cell_type": "code",
   "execution_count": 23,
   "id": "86ab81bd",
   "metadata": {},
   "outputs": [
    {
     "data": {
      "text/plain": [
       "True"
      ]
     },
     "execution_count": 23,
     "metadata": {},
     "output_type": "execute_result"
    }
   ],
   "source": [
    "'group' in dir(result)"
   ]
  },
  {
   "cell_type": "code",
   "execution_count": 24,
   "id": "b02c6880",
   "metadata": {},
   "outputs": [
    {
     "data": {
      "text/plain": [
       "<function Match.group>"
      ]
     },
     "execution_count": 24,
     "metadata": {},
     "output_type": "execute_result"
    }
   ],
   "source": [
    "result.group"
   ]
  },
  {
   "cell_type": "code",
   "execution_count": 25,
   "id": "b826004d",
   "metadata": {},
   "outputs": [
    {
     "name": "stdout",
     "output_type": "stream",
     "text": [
      "Help on built-in function group:\n",
      "\n",
      "group(...) method of re.Match instance\n",
      "    group([group1, ...]) -> str or tuple.\n",
      "    Return subgroup(s) of the match by indices or names.\n",
      "    For 0 returns the entire match.\n",
      "\n"
     ]
    }
   ],
   "source": [
    "help(result.group)"
   ]
  },
  {
   "cell_type": "code",
   "execution_count": 26,
   "id": "30092db1",
   "metadata": {},
   "outputs": [
    {
     "data": {
      "text/plain": [
       "'4'"
      ]
     },
     "execution_count": 26,
     "metadata": {},
     "output_type": "execute_result"
    }
   ],
   "source": [
    "result.group()"
   ]
  },
  {
   "cell_type": "code",
   "execution_count": 29,
   "id": "130f1e64",
   "metadata": {},
   "outputs": [],
   "source": [
    "import re \n",
    "pattern = r'\\d+' # one or more \n",
    "text = 'Is 93730 your contact number '\n",
    "result = re.search(pattern,text)"
   ]
  },
  {
   "cell_type": "code",
   "execution_count": 30,
   "id": "a2eba01c",
   "metadata": {},
   "outputs": [
    {
     "data": {
      "text/plain": [
       "'\\\\d+'"
      ]
     },
     "execution_count": 30,
     "metadata": {},
     "output_type": "execute_result"
    }
   ],
   "source": [
    "pattern "
   ]
  },
  {
   "cell_type": "code",
   "execution_count": 31,
   "id": "a30210a0",
   "metadata": {},
   "outputs": [
    {
     "data": {
      "text/plain": [
       "<re.Match object; span=(3, 8), match='93730'>"
      ]
     },
     "execution_count": 31,
     "metadata": {},
     "output_type": "execute_result"
    }
   ],
   "source": [
    "result"
   ]
  },
  {
   "cell_type": "code",
   "execution_count": 32,
   "id": "b2cf2720",
   "metadata": {},
   "outputs": [
    {
     "data": {
      "text/plain": [
       "'93730'"
      ]
     },
     "execution_count": 32,
     "metadata": {},
     "output_type": "execute_result"
    }
   ],
   "source": [
    "result.group()"
   ]
  },
  {
   "cell_type": "code",
   "execution_count": 35,
   "id": "96e4f905",
   "metadata": {},
   "outputs": [],
   "source": [
    "import re \n",
    "pattern = r'\\d..' # one or more \n",
    "text = 'Is 93730 your contact number '\n",
    "result = re.search(pattern,text)"
   ]
  },
  {
   "cell_type": "code",
   "execution_count": 36,
   "id": "9cd443db",
   "metadata": {},
   "outputs": [
    {
     "data": {
      "text/plain": [
       "<re.Match object; span=(3, 6), match='937'>"
      ]
     },
     "execution_count": 36,
     "metadata": {},
     "output_type": "execute_result"
    }
   ],
   "source": [
    "result"
   ]
  },
  {
   "cell_type": "code",
   "execution_count": 37,
   "id": "d8803880",
   "metadata": {},
   "outputs": [],
   "source": [
    "pattern = r'\\w' # a word\n",
    "text = \"\"\"Hey ! My name is Ali and my mail id is zyx@abc.com.\n",
    "         You can reach me at 73837398999\"\"\"\n",
    "result = re.search(pattern,text)"
   ]
  },
  {
   "cell_type": "code",
   "execution_count": 38,
   "id": "d1cfa440",
   "metadata": {},
   "outputs": [
    {
     "data": {
      "text/plain": [
       "<re.Match object; span=(0, 1), match='H'>"
      ]
     },
     "execution_count": 38,
     "metadata": {},
     "output_type": "execute_result"
    }
   ],
   "source": [
    "result"
   ]
  },
  {
   "cell_type": "code",
   "execution_count": 39,
   "id": "61c97d3a",
   "metadata": {},
   "outputs": [],
   "source": [
    "pattern = r'\\w+' # a word\n",
    "text = \"\"\"Hey ! My name is Ali and my mail id is zyx@abc.com.\n",
    "         You can reach me at 73837398999\"\"\"\n",
    "result = re.search(pattern,text)"
   ]
  },
  {
   "cell_type": "code",
   "execution_count": 40,
   "id": "56a5fee3",
   "metadata": {},
   "outputs": [
    {
     "data": {
      "text/plain": [
       "<re.Match object; span=(0, 3), match='Hey'>"
      ]
     },
     "execution_count": 40,
     "metadata": {},
     "output_type": "execute_result"
    }
   ],
   "source": [
    "result"
   ]
  },
  {
   "cell_type": "code",
   "execution_count": 50,
   "id": "e9686e72",
   "metadata": {},
   "outputs": [],
   "source": [
    "pattern = r'\\w..@\\w..\\.' # a word\n",
    "text = \"\"\"Hey ! My name is Ali and my mail id is zyx@abc.com\n",
    "         You can reach me at 73837398999\"\"\"\n",
    "result = re.search(pattern,text)"
   ]
  },
  {
   "cell_type": "code",
   "execution_count": 51,
   "id": "0c05daa3",
   "metadata": {},
   "outputs": [
    {
     "data": {
      "text/plain": [
       "(<re.Match object; span=(39, 47), match='zyx@abc.'>, 'zyx@abc.')"
      ]
     },
     "execution_count": 51,
     "metadata": {},
     "output_type": "execute_result"
    }
   ],
   "source": [
    "result, result.group()"
   ]
  },
  {
   "cell_type": "code",
   "execution_count": 55,
   "id": "dbcb7d45",
   "metadata": {},
   "outputs": [],
   "source": [
    "pattern = r'\\w..@\\w..\\.w' # a word\n",
    "text = \"\"\"Hey ! My name is Ali and my mail id is zyx@abc.com.\n",
    "         You can reach me at 73837398999\"\"\"\n",
    "result = re.search(pattern,text)"
   ]
  },
  {
   "cell_type": "code",
   "execution_count": 56,
   "id": "314be6d9",
   "metadata": {},
   "outputs": [],
   "source": [
    "result"
   ]
  },
  {
   "cell_type": "code",
   "execution_count": 57,
   "id": "0278aa00",
   "metadata": {},
   "outputs": [],
   "source": [
    "# search for a pattern \n",
    "pattern = r'\\w+@\\w+.\\w+' # a word\n",
    "text = \"\"\"Hey ! My name is Ali and my mail id is zyx@abc.com.\n",
    "         You can reach me at 73837398999\"\"\"\n",
    "result = re.search(pattern,text)"
   ]
  },
  {
   "cell_type": "code",
   "execution_count": 58,
   "id": "9917e0eb",
   "metadata": {},
   "outputs": [
    {
     "data": {
      "text/plain": [
       "<re.Match object; span=(39, 50), match='zyx@abc.com'>"
      ]
     },
     "execution_count": 58,
     "metadata": {},
     "output_type": "execute_result"
    }
   ],
   "source": [
    "result"
   ]
  },
  {
   "cell_type": "code",
   "execution_count": 64,
   "id": "aa696b9e",
   "metadata": {},
   "outputs": [],
   "source": [
    "import re \n",
    "pattern = r'w+@\\w+.\\w+'\n",
    "text = \"\"\"Hey ! My name is Ali and my mail id is zyx@abc.com\n",
    "         You can reach me at 73837398999\n",
    "         Alternatively, you can mail me at somani@classes.com\"\"\"\n"
   ]
  },
  {
   "cell_type": "code",
   "execution_count": 65,
   "id": "335e805c",
   "metadata": {},
   "outputs": [
    {
     "data": {
      "text/plain": [
       "<function re.findall(pattern, string, flags=0)>"
      ]
     },
     "execution_count": 65,
     "metadata": {},
     "output_type": "execute_result"
    }
   ],
   "source": [
    "re.findall"
   ]
  },
  {
   "cell_type": "code",
   "execution_count": 66,
   "id": "a311ce82",
   "metadata": {},
   "outputs": [],
   "source": [
    "result = re.findall(pattern,text)"
   ]
  },
  {
   "cell_type": "code",
   "execution_count": 63,
   "id": "524d5851",
   "metadata": {},
   "outputs": [
    {
     "data": {
      "text/plain": [
       "([], list)"
      ]
     },
     "execution_count": 63,
     "metadata": {},
     "output_type": "execute_result"
    }
   ],
   "source": [
    "result, type(result)"
   ]
  },
  {
   "cell_type": "code",
   "execution_count": 67,
   "id": "5904ef14",
   "metadata": {},
   "outputs": [],
   "source": [
    "import re \n",
    "pattern = r'\\w+@\\w+.\\w+'\n",
    "text = \"\"\"Hey ! My name is Ali and my mail id is zyx@abc.com\n",
    "         You can reach me at 73837398999\n",
    "         Alternatively, you can mail me at somani@classes.com\"\"\"\n",
    "result = re.findall(pattern,text)\n"
   ]
  },
  {
   "cell_type": "code",
   "execution_count": 68,
   "id": "3a674b39",
   "metadata": {},
   "outputs": [
    {
     "name": "stdout",
     "output_type": "stream",
     "text": [
      "['H', 'e', 'y', '!', 'M', 'y', 'n', 'a', 'm', 'e', 'i', 's', 'A', 'l', 'i', 'a', 'n', 'd', 'm', 'y', 'm', 'a', 'i', 'l', 'i', 'd', 'i', 's', 'z', 'y', 'x', '@', 'a', 'b', 'c', '.', 'c', 'o', 'm', 'Y', 'o', 'u', 'c', 'a', 'n', 'r', 'e', 'a', 'c', 'h', 'm', 'e', 'a', 't', '7', '3', '8', '3', '7', '3', '9', '8', '9', '9', '9', 'A', 'l', 't', 'e', 'r', 'n', 'a', 't', 'i', 'v', 'e', 'l', 'y', ',', 'y', 'o', 'u', 'c', 'a', 'n', 'm', 'a', 'i', 'l', 'm', 'e', 'a', 't', 's', 'o', 'm', 'a', 'n', 'i', '@', 'c', 'l', 'a', 's', 's', 'e', 's', '.', 'c', 'o', 'm'] <class 'list'>\n"
     ]
    }
   ],
   "source": [
    "import re \n",
    "pattern = r'\\S'\n",
    "text = \"\"\"Hey ! My name is Ali and my mail id is zyx@abc.com\n",
    "         You can reach me at 73837398999\n",
    "         Alternatively, you can mail me at somani@classes.com\"\"\"\n",
    "result = re.findall(pattern,text)\n",
    "print(result,type(result))\n"
   ]
  },
  {
   "cell_type": "code",
   "execution_count": 69,
   "id": "f73c41f7",
   "metadata": {},
   "outputs": [
    {
     "name": "stdout",
     "output_type": "stream",
     "text": [
      "['Hey', '!', 'My', 'name', 'is', 'Ali', 'and', 'my', 'mail', 'id', 'is', 'zyx@abc.com', 'You', 'can', 'reach', 'me', 'at', '73837398999', 'Alternatively,', 'you', 'can', 'mail', 'me', 'at', 'somani@classes.com'] <class 'list'>\n"
     ]
    }
   ],
   "source": [
    "import re \n",
    "pattern = r'\\S+'\n",
    "text = \"\"\"Hey ! My name is Ali and my mail id is zyx@abc.com\n",
    "         You can reach me at 73837398999\n",
    "         Alternatively, you can mail me at somani@classes.com\"\"\"\n",
    "result = re.findall(pattern,text)\n",
    "print(result,type(result))\n"
   ]
  },
  {
   "cell_type": "code",
   "execution_count": 71,
   "id": "add91bad",
   "metadata": {},
   "outputs": [
    {
     "name": "stdout",
     "output_type": "stream",
     "text": [
      "Hey\t!\tMy\tname\tis\tAli\tand\tmy\tmail\tid\tis\tzyx@abc.com\tYou\tcan\treach\tme\tat\t73837398999\tAlternatively,\tyou\tcan\tmail\tme\tat\tsomani@classes.com\t"
     ]
    }
   ],
   "source": [
    "for r in result:\n",
    "    print(r,end='\\t')"
   ]
  },
  {
   "cell_type": "code",
   "execution_count": 72,
   "id": "aceb40e4",
   "metadata": {},
   "outputs": [
    {
     "data": {
      "text/plain": [
       "<function re.compile(pattern, flags=0)>"
      ]
     },
     "execution_count": 72,
     "metadata": {},
     "output_type": "execute_result"
    }
   ],
   "source": [
    "re.compile"
   ]
  },
  {
   "cell_type": "code",
   "execution_count": 73,
   "id": "09ac7181",
   "metadata": {},
   "outputs": [
    {
     "data": {
      "text/plain": [
       "'Compile a regular expression pattern, returning a Pattern object.'"
      ]
     },
     "execution_count": 73,
     "metadata": {},
     "output_type": "execute_result"
    }
   ],
   "source": [
    "re.compile.__doc__"
   ]
  },
  {
   "cell_type": "code",
   "execution_count": 74,
   "id": "c06b869b",
   "metadata": {},
   "outputs": [],
   "source": [
    "import re \n",
    "pattern = re.compile(r'\\w')\n",
    "text = \"\"\"Hey ! My name is Ali and my mail id is zyx@abc.com\n",
    "         You can reach me at 73837398999\n",
    "         Alternatively, you can mail me at somani@classes.com\"\"\"\n",
    "result = re.findall(pattern,text)"
   ]
  },
  {
   "cell_type": "code",
   "execution_count": 75,
   "id": "0bd42ede",
   "metadata": {},
   "outputs": [
    {
     "data": {
      "text/plain": [
       "re.compile(r'\\w', re.UNICODE)"
      ]
     },
     "execution_count": 75,
     "metadata": {},
     "output_type": "execute_result"
    }
   ],
   "source": [
    "pattern "
   ]
  },
  {
   "cell_type": "code",
   "execution_count": 77,
   "id": "db64f00c",
   "metadata": {},
   "outputs": [
    {
     "name": "stdout",
     "output_type": "stream",
     "text": [
      "['H', 'e', 'y', 'M', 'y', 'n', 'a', 'm', 'e', 'i', 's', 'A', 'l', 'i', 'a', 'n', 'd', 'm', 'y', 'm', 'a', 'i', 'l', 'i', 'd', 'i', 's', 'z', 'y', 'x', 'a', 'b', 'c', 'c', 'o', 'm', 'Y', 'o', 'u', 'c', 'a', 'n', 'r', 'e', 'a', 'c', 'h', 'm', 'e', 'a', 't', '7', '3', '8', '3', '7', '3', '9', '8', '9', '9', '9', 'A', 'l', 't', 'e', 'r', 'n', 'a', 't', 'i', 'v', 'e', 'l', 'y', 'y', 'o', 'u', 'c', 'a', 'n', 'm', 'a', 'i', 'l', 'm', 'e', 'a', 't', 's', 'o', 'm', 'a', 'n', 'i', 'c', 'l', 'a', 's', 's', 'e', 's', 'c', 'o', 'm']\t"
     ]
    }
   ],
   "source": [
    "print(result,end='\\t') "
   ]
  },
  {
   "cell_type": "code",
   "execution_count": 78,
   "id": "a748cebb",
   "metadata": {},
   "outputs": [],
   "source": [
    "import re \n",
    "pattern = re.compile(r'\\w{3}')\n",
    "text = \"\"\"Hey ! My name is Ali and my mail id is zyx@abc.com\n",
    "         You can reach me at 73837398999\n",
    "         Alternatively, you can mail me at somani@classes.com\"\"\"\n",
    "result = re.findall(pattern,text)"
   ]
  },
  {
   "cell_type": "code",
   "execution_count": 79,
   "id": "86be12d4",
   "metadata": {},
   "outputs": [
    {
     "name": "stdout",
     "output_type": "stream",
     "text": [
      "['Hey', 'nam', 'Ali', 'and', 'mai', 'zyx', 'abc', 'com', 'You', 'can', 'rea', '738', '373', '989', 'Alt', 'ern', 'ati', 'vel', 'you', 'can', 'mai', 'som', 'ani', 'cla', 'sse', 'com']\t"
     ]
    }
   ],
   "source": [
    "print(result,end='\\t') "
   ]
  },
  {
   "cell_type": "code",
   "execution_count": 81,
   "id": "23f4499e",
   "metadata": {},
   "outputs": [
    {
     "name": "stdout",
     "output_type": "stream",
     "text": [
      "['com', 'sse', 'cla', 'ani', 'som', 'mai', 'can', 'you', 'vel', 'ati', 'ern', 'Alt', '989', '373', '738', 'rea', 'can', 'You', 'com', 'abc', 'zyx', 'mai', 'and', 'Ali', 'nam', 'Hey']\n"
     ]
    }
   ],
   "source": [
    "import re \n",
    "pattern = re.compile(r'\\w{3}')\n",
    "text = \"\"\"Hey ! My name is Ali and my mail id is zyx@abc.com\n",
    "         You can reach me at 73837398999\n",
    "         Alternatively, you can mail me at somani@classes.com\"\"\"\n",
    "print(re.findall(pattern,text)[::-1])"
   ]
  },
  {
   "cell_type": "code",
   "execution_count": 82,
   "id": "25408095",
   "metadata": {},
   "outputs": [
    {
     "data": {
      "text/plain": [
       "{'__name__': 're',\n",
       " '__doc__': 'Support for regular expressions (RE).\\n\\nThis module provides regular expression matching operations similar to\\nthose found in Perl.  It supports both 8-bit and Unicode strings; both\\nthe pattern and the strings being processed can contain null bytes and\\ncharacters outside the US ASCII range.\\n\\nRegular expressions can contain both special and ordinary characters.\\nMost ordinary characters, like \"A\", \"a\", or \"0\", are the simplest\\nregular expressions; they simply match themselves.  You can\\nconcatenate ordinary characters, so last matches the string \\'last\\'.\\n\\nThe special characters are:\\n    \".\"      Matches any character except a newline.\\n    \"^\"      Matches the start of the string.\\n    \"$\"      Matches the end of the string or just before the newline at\\n             the end of the string.\\n    \"*\"      Matches 0 or more (greedy) repetitions of the preceding RE.\\n             Greedy means that it will match as many repetitions as possible.\\n    \"+\"      Matches 1 or more (greedy) repetitions of the preceding RE.\\n    \"?\"      Matches 0 or 1 (greedy) of the preceding RE.\\n    *?,+?,?? Non-greedy versions of the previous three special characters.\\n    {m,n}    Matches from m to n repetitions of the preceding RE.\\n    {m,n}?   Non-greedy version of the above.\\n    \"\\\\\\\\\"     Either escapes special characters or signals a special sequence.\\n    []       Indicates a set of characters.\\n             A \"^\" as the first character indicates a complementing set.\\n    \"|\"      A|B, creates an RE that will match either A or B.\\n    (...)    Matches the RE inside the parentheses.\\n             The contents can be retrieved or matched later in the string.\\n    (?aiLmsux) The letters set the corresponding flags defined below.\\n    (?:...)  Non-grouping version of regular parentheses.\\n    (?P<name>...) The substring matched by the group is accessible by name.\\n    (?P=name)     Matches the text matched earlier by the group named name.\\n    (?#...)  A comment; ignored.\\n    (?=...)  Matches if ... matches next, but doesn\\'t consume the string.\\n    (?!...)  Matches if ... doesn\\'t match next.\\n    (?<=...) Matches if preceded by ... (must be fixed length).\\n    (?<!...) Matches if not preceded by ... (must be fixed length).\\n    (?(id/name)yes|no) Matches yes pattern if the group with id/name matched,\\n                       the (optional) no pattern otherwise.\\n\\nThe special sequences consist of \"\\\\\\\\\" and a character from the list\\nbelow.  If the ordinary character is not on the list, then the\\nresulting RE will match the second character.\\n    \\\\number  Matches the contents of the group of the same number.\\n    \\\\A       Matches only at the start of the string.\\n    \\\\Z       Matches only at the end of the string.\\n    \\\\b       Matches the empty string, but only at the start or end of a word.\\n    \\\\B       Matches the empty string, but not at the start or end of a word.\\n    \\\\d       Matches any decimal digit; equivalent to the set [0-9] in\\n             bytes patterns or string patterns with the ASCII flag.\\n             In string patterns without the ASCII flag, it will match the whole\\n             range of Unicode digits.\\n    \\\\D       Matches any non-digit character; equivalent to [^\\\\d].\\n    \\\\s       Matches any whitespace character; equivalent to [ \\\\t\\\\n\\\\r\\\\f\\\\v] in\\n             bytes patterns or string patterns with the ASCII flag.\\n             In string patterns without the ASCII flag, it will match the whole\\n             range of Unicode whitespace characters.\\n    \\\\S       Matches any non-whitespace character; equivalent to [^\\\\s].\\n    \\\\w       Matches any alphanumeric character; equivalent to [a-zA-Z0-9_]\\n             in bytes patterns or string patterns with the ASCII flag.\\n             In string patterns without the ASCII flag, it will match the\\n             range of Unicode alphanumeric characters (letters plus digits\\n             plus underscore).\\n             With LOCALE, it will match the set [0-9_] plus characters defined\\n             as letters for the current locale.\\n    \\\\W       Matches the complement of \\\\w.\\n    \\\\\\\\       Matches a literal backslash.\\n\\nThis module exports the following functions:\\n    match     Match a regular expression pattern to the beginning of a string.\\n    fullmatch Match a regular expression pattern to all of a string.\\n    search    Search a string for the presence of a pattern.\\n    sub       Substitute occurrences of a pattern found in a string.\\n    subn      Same as sub, but also return the number of substitutions made.\\n    split     Split a string by the occurrences of a pattern.\\n    findall   Find all occurrences of a pattern in a string.\\n    finditer  Return an iterator yielding a Match object for each match.\\n    compile   Compile a pattern into a Pattern object.\\n    purge     Clear the regular expression cache.\\n    escape    Backslash all non-alphanumerics in a string.\\n\\nEach function other than purge and escape can take an optional \\'flags\\' argument\\nconsisting of one or more of the following module constants, joined by \"|\".\\nA, L, and U are mutually exclusive.\\n    A  ASCII       For string patterns, make \\\\w, \\\\W, \\\\b, \\\\B, \\\\d, \\\\D\\n                   match the corresponding ASCII character categories\\n                   (rather than the whole Unicode categories, which is the\\n                   default).\\n                   For bytes patterns, this flag is the only available\\n                   behaviour and needn\\'t be specified.\\n    I  IGNORECASE  Perform case-insensitive matching.\\n    L  LOCALE      Make \\\\w, \\\\W, \\\\b, \\\\B, dependent on the current locale.\\n    M  MULTILINE   \"^\" matches the beginning of lines (after a newline)\\n                   as well as the string.\\n                   \"$\" matches the end of lines (before a newline) as well\\n                   as the end of the string.\\n    S  DOTALL      \".\" matches any character at all, including the newline.\\n    X  VERBOSE     Ignore whitespace and comments for nicer looking RE\\'s.\\n    U  UNICODE     For compatibility only. Ignored for string patterns (it\\n                   is the default), and forbidden for bytes patterns.\\n\\nThis module also defines an exception \\'error\\'.\\n\\n',\n",
       " '__package__': '',\n",
       " '__loader__': <_frozen_importlib_external.SourceFileLoader at 0x1fa82d36550>,\n",
       " '__spec__': ModuleSpec(name='re', loader=<_frozen_importlib_external.SourceFileLoader object at 0x000001FA82D36550>, origin='c:\\\\users\\\\soman\\\\appdata\\\\local\\\\programs\\\\python\\\\python39\\\\lib\\\\re.py'),\n",
       " '__file__': 'c:\\\\users\\\\soman\\\\appdata\\\\local\\\\programs\\\\python\\\\python39\\\\lib\\\\re.py',\n",
       " '__cached__': 'c:\\\\users\\\\soman\\\\appdata\\\\local\\\\programs\\\\python\\\\python39\\\\lib\\\\__pycache__\\\\re.cpython-39.pyc',\n",
       " '__builtins__': {'__name__': 'builtins',\n",
       "  '__doc__': \"Built-in functions, exceptions, and other objects.\\n\\nNoteworthy: None is the `nil' object; Ellipsis represents `...' in slices.\",\n",
       "  '__package__': '',\n",
       "  '__loader__': _frozen_importlib.BuiltinImporter,\n",
       "  '__spec__': ModuleSpec(name='builtins', loader=<class '_frozen_importlib.BuiltinImporter'>, origin='built-in'),\n",
       "  '__build_class__': <function __build_class__>,\n",
       "  '__import__': <function __import__>,\n",
       "  'abs': <function abs(x, /)>,\n",
       "  'all': <function all(iterable, /)>,\n",
       "  'any': <function any(iterable, /)>,\n",
       "  'ascii': <function ascii(obj, /)>,\n",
       "  'bin': <function bin(number, /)>,\n",
       "  'breakpoint': <function breakpoint>,\n",
       "  'callable': <function callable(obj, /)>,\n",
       "  'chr': <function chr(i, /)>,\n",
       "  'compile': <function compile(source, filename, mode, flags=0, dont_inherit=False, optimize=-1, *, _feature_version=-1)>,\n",
       "  'delattr': <function delattr(obj, name, /)>,\n",
       "  'dir': <function dir>,\n",
       "  'divmod': <function divmod(x, y, /)>,\n",
       "  'eval': <function eval(source, globals=None, locals=None, /)>,\n",
       "  'exec': <function exec(source, globals=None, locals=None, /)>,\n",
       "  'format': <function format(value, format_spec='', /)>,\n",
       "  'getattr': <function getattr>,\n",
       "  'globals': <function globals()>,\n",
       "  'hasattr': <function hasattr(obj, name, /)>,\n",
       "  'hash': <function hash(obj, /)>,\n",
       "  'hex': <function hex(number, /)>,\n",
       "  'id': <function id(obj, /)>,\n",
       "  'input': <bound method Kernel.raw_input of <ipykernel.ipkernel.IPythonKernel object at 0x000001FA86A4F700>>,\n",
       "  'isinstance': <function isinstance(obj, class_or_tuple, /)>,\n",
       "  'issubclass': <function issubclass(cls, class_or_tuple, /)>,\n",
       "  'iter': <function iter>,\n",
       "  'len': <function len(obj, /)>,\n",
       "  'locals': <function locals()>,\n",
       "  'max': <function max>,\n",
       "  'min': <function min>,\n",
       "  'next': <function next>,\n",
       "  'oct': <function oct(number, /)>,\n",
       "  'ord': <function ord(c, /)>,\n",
       "  'pow': <function pow(base, exp, mod=None)>,\n",
       "  'print': <function print>,\n",
       "  'repr': <function repr(obj, /)>,\n",
       "  'round': <function round(number, ndigits=None)>,\n",
       "  'setattr': <function setattr(obj, name, value, /)>,\n",
       "  'sorted': <function sorted(iterable, /, *, key=None, reverse=False)>,\n",
       "  'sum': <function sum(iterable, /, start=0)>,\n",
       "  'vars': <function vars>,\n",
       "  'None': None,\n",
       "  'Ellipsis': Ellipsis,\n",
       "  'NotImplemented': NotImplemented,\n",
       "  'False': False,\n",
       "  'True': True,\n",
       "  'bool': bool,\n",
       "  'memoryview': memoryview,\n",
       "  'bytearray': bytearray,\n",
       "  'bytes': bytes,\n",
       "  'classmethod': classmethod,\n",
       "  'complex': complex,\n",
       "  'dict': dict,\n",
       "  'enumerate': enumerate,\n",
       "  'filter': filter,\n",
       "  'float': float,\n",
       "  'frozenset': frozenset,\n",
       "  'property': property,\n",
       "  'int': int,\n",
       "  'list': list,\n",
       "  'map': map,\n",
       "  'object': object,\n",
       "  'range': range,\n",
       "  'reversed': reversed,\n",
       "  'set': set,\n",
       "  'slice': slice,\n",
       "  'staticmethod': staticmethod,\n",
       "  'str': str,\n",
       "  'super': super,\n",
       "  'tuple': tuple,\n",
       "  'type': type,\n",
       "  'zip': zip,\n",
       "  '__debug__': True,\n",
       "  'BaseException': BaseException,\n",
       "  'Exception': Exception,\n",
       "  'TypeError': TypeError,\n",
       "  'StopAsyncIteration': StopAsyncIteration,\n",
       "  'StopIteration': StopIteration,\n",
       "  'GeneratorExit': GeneratorExit,\n",
       "  'SystemExit': SystemExit,\n",
       "  'KeyboardInterrupt': KeyboardInterrupt,\n",
       "  'ImportError': ImportError,\n",
       "  'ModuleNotFoundError': ModuleNotFoundError,\n",
       "  'OSError': OSError,\n",
       "  'EnvironmentError': OSError,\n",
       "  'IOError': OSError,\n",
       "  'WindowsError': OSError,\n",
       "  'EOFError': EOFError,\n",
       "  'RuntimeError': RuntimeError,\n",
       "  'RecursionError': RecursionError,\n",
       "  'NotImplementedError': NotImplementedError,\n",
       "  'NameError': NameError,\n",
       "  'UnboundLocalError': UnboundLocalError,\n",
       "  'AttributeError': AttributeError,\n",
       "  'SyntaxError': SyntaxError,\n",
       "  'IndentationError': IndentationError,\n",
       "  'TabError': TabError,\n",
       "  'LookupError': LookupError,\n",
       "  'IndexError': IndexError,\n",
       "  'KeyError': KeyError,\n",
       "  'ValueError': ValueError,\n",
       "  'UnicodeError': UnicodeError,\n",
       "  'UnicodeEncodeError': UnicodeEncodeError,\n",
       "  'UnicodeDecodeError': UnicodeDecodeError,\n",
       "  'UnicodeTranslateError': UnicodeTranslateError,\n",
       "  'AssertionError': AssertionError,\n",
       "  'ArithmeticError': ArithmeticError,\n",
       "  'FloatingPointError': FloatingPointError,\n",
       "  'OverflowError': OverflowError,\n",
       "  'ZeroDivisionError': ZeroDivisionError,\n",
       "  'SystemError': SystemError,\n",
       "  'ReferenceError': ReferenceError,\n",
       "  'MemoryError': MemoryError,\n",
       "  'BufferError': BufferError,\n",
       "  'Warning': Warning,\n",
       "  'UserWarning': UserWarning,\n",
       "  'DeprecationWarning': DeprecationWarning,\n",
       "  'PendingDeprecationWarning': PendingDeprecationWarning,\n",
       "  'SyntaxWarning': SyntaxWarning,\n",
       "  'RuntimeWarning': RuntimeWarning,\n",
       "  'FutureWarning': FutureWarning,\n",
       "  'ImportWarning': ImportWarning,\n",
       "  'UnicodeWarning': UnicodeWarning,\n",
       "  'BytesWarning': BytesWarning,\n",
       "  'ResourceWarning': ResourceWarning,\n",
       "  'ConnectionError': ConnectionError,\n",
       "  'BlockingIOError': BlockingIOError,\n",
       "  'BrokenPipeError': BrokenPipeError,\n",
       "  'ChildProcessError': ChildProcessError,\n",
       "  'ConnectionAbortedError': ConnectionAbortedError,\n",
       "  'ConnectionRefusedError': ConnectionRefusedError,\n",
       "  'ConnectionResetError': ConnectionResetError,\n",
       "  'FileExistsError': FileExistsError,\n",
       "  'FileNotFoundError': FileNotFoundError,\n",
       "  'IsADirectoryError': IsADirectoryError,\n",
       "  'NotADirectoryError': NotADirectoryError,\n",
       "  'InterruptedError': InterruptedError,\n",
       "  'PermissionError': PermissionError,\n",
       "  'ProcessLookupError': ProcessLookupError,\n",
       "  'TimeoutError': TimeoutError,\n",
       "  'open': <function io.open(file, mode='r', buffering=-1, encoding=None, errors=None, newline=None, closefd=True, opener=None)>,\n",
       "  'copyright': Copyright (c) 2001-2021 Python Software Foundation.\n",
       "  All Rights Reserved.\n",
       "  \n",
       "  Copyright (c) 2000 BeOpen.com.\n",
       "  All Rights Reserved.\n",
       "  \n",
       "  Copyright (c) 1995-2001 Corporation for National Research Initiatives.\n",
       "  All Rights Reserved.\n",
       "  \n",
       "  Copyright (c) 1991-1995 Stichting Mathematisch Centrum, Amsterdam.\n",
       "  All Rights Reserved.,\n",
       "  'credits':     Thanks to CWI, CNRI, BeOpen.com, Zope Corporation and a cast of thousands\n",
       "      for supporting Python development.  See www.python.org for more information.,\n",
       "  'license': Type license() to see the full license text,\n",
       "  'help': Type help() for interactive help, or help(object) for help about object.,\n",
       "  '__IPYTHON__': True,\n",
       "  'display': <function IPython.core.display.display(*objs, include=None, exclude=None, metadata=None, transient=None, display_id=None, **kwargs)>,\n",
       "  'get_ipython': <bound method InteractiveShell.get_ipython of <ipykernel.zmqshell.ZMQInteractiveShell object at 0x000001FA86A4F790>>},\n",
       " 'enum': <module 'enum' from 'c:\\\\users\\\\soman\\\\appdata\\\\local\\\\programs\\\\python\\\\python39\\\\lib\\\\enum.py'>,\n",
       " 'sre_compile': <module 'sre_compile' from 'c:\\\\users\\\\soman\\\\appdata\\\\local\\\\programs\\\\python\\\\python39\\\\lib\\\\sre_compile.py'>,\n",
       " 'sre_parse': <module 'sre_parse' from 'c:\\\\users\\\\soman\\\\appdata\\\\local\\\\programs\\\\python\\\\python39\\\\lib\\\\sre_parse.py'>,\n",
       " 'functools': <module 'functools' from 'c:\\\\users\\\\soman\\\\appdata\\\\local\\\\programs\\\\python\\\\python39\\\\lib\\\\functools.py'>,\n",
       " '_locale': <module '_locale' (built-in)>,\n",
       " '__all__': ['match',\n",
       "  'fullmatch',\n",
       "  'search',\n",
       "  'sub',\n",
       "  'subn',\n",
       "  'split',\n",
       "  'findall',\n",
       "  'finditer',\n",
       "  'compile',\n",
       "  'purge',\n",
       "  'template',\n",
       "  'escape',\n",
       "  'error',\n",
       "  'Pattern',\n",
       "  'Match',\n",
       "  'A',\n",
       "  'I',\n",
       "  'L',\n",
       "  'M',\n",
       "  'S',\n",
       "  'X',\n",
       "  'U',\n",
       "  'ASCII',\n",
       "  'IGNORECASE',\n",
       "  'LOCALE',\n",
       "  'MULTILINE',\n",
       "  'DOTALL',\n",
       "  'VERBOSE',\n",
       "  'UNICODE'],\n",
       " '__version__': '2.2.1',\n",
       " 'RegexFlag': <enum 'RegexFlag'>,\n",
       " 'ASCII': re.ASCII,\n",
       " 'A': re.ASCII,\n",
       " 'IGNORECASE': re.IGNORECASE,\n",
       " 'I': re.IGNORECASE,\n",
       " 'LOCALE': re.LOCALE,\n",
       " 'L': re.LOCALE,\n",
       " 'UNICODE': re.UNICODE,\n",
       " 'U': re.UNICODE,\n",
       " 'MULTILINE': re.MULTILINE,\n",
       " 'M': re.MULTILINE,\n",
       " 'DOTALL': re.DOTALL,\n",
       " 'S': re.DOTALL,\n",
       " 'VERBOSE': re.VERBOSE,\n",
       " 'X': re.VERBOSE,\n",
       " 'TEMPLATE': re.TEMPLATE,\n",
       " 'T': re.TEMPLATE,\n",
       " 'DEBUG': re.DEBUG,\n",
       " 'error': re.error,\n",
       " 'match': <function re.match(pattern, string, flags=0)>,\n",
       " 'fullmatch': <function re.fullmatch(pattern, string, flags=0)>,\n",
       " 'search': <function re.search(pattern, string, flags=0)>,\n",
       " 'sub': <function re.sub(pattern, repl, string, count=0, flags=0)>,\n",
       " 'subn': <function re.subn(pattern, repl, string, count=0, flags=0)>,\n",
       " 'split': <function re.split(pattern, string, maxsplit=0, flags=0)>,\n",
       " 'findall': <function re.findall(pattern, string, flags=0)>,\n",
       " 'finditer': <function re.finditer(pattern, string, flags=0)>,\n",
       " 'compile': <function re.compile(pattern, flags=0)>,\n",
       " 'purge': <function re.purge()>,\n",
       " 'template': <function re.template(pattern, flags=0)>,\n",
       " '_special_chars_map': {40: '\\\\(',\n",
       "  41: '\\\\)',\n",
       "  91: '\\\\[',\n",
       "  93: '\\\\]',\n",
       "  123: '\\\\{',\n",
       "  125: '\\\\}',\n",
       "  63: '\\\\?',\n",
       "  42: '\\\\*',\n",
       "  43: '\\\\+',\n",
       "  45: '\\\\-',\n",
       "  124: '\\\\|',\n",
       "  94: '\\\\^',\n",
       "  36: '\\\\$',\n",
       "  92: '\\\\\\\\',\n",
       "  46: '\\\\.',\n",
       "  38: '\\\\&',\n",
       "  126: '\\\\~',\n",
       "  35: '\\\\#',\n",
       "  32: '\\\\ ',\n",
       "  9: '\\\\\\t',\n",
       "  10: '\\\\\\n',\n",
       "  13: '\\\\\\r',\n",
       "  11: '\\\\\\x0b',\n",
       "  12: '\\\\\\x0c'},\n",
       " 'escape': <function re.escape(pattern)>,\n",
       " 'Pattern': re.Pattern,\n",
       " 'Match': re.Match,\n",
       " '_cache': {(str,\n",
       "   '^(?P<pkg>(?!\\\\d)(\\\\w+)(\\\\.(?!\\\\d)(\\\\w+))*)(?P<cln>:(?P<obj>(?!\\\\d)(\\\\w+)(\\\\.(?!\\\\d)(\\\\w+))*)?)?$',\n",
       "   32): re.compile(r'^(?P<pkg>(?!\\d)(\\w+)(\\.(?!\\d)(\\w+))*)(?P<cln>:(?P<obj>(?!\\d)(\\w+)(\\.(?!\\d)(\\w+))*)?)?$',\n",
       "  re.UNICODE),\n",
       "  (str,\n",
       "   '(-?(?:0|[1-9]\\\\d*))(\\\\.\\\\d+)?([eE][-+]?\\\\d+)?',\n",
       "   88): re.compile(r'(-?(?:0|[1-9]\\d*))(\\.\\d+)?([eE][-+]?\\d+)?',\n",
       "  re.MULTILINE|re.DOTALL|re.UNICODE|re.VERBOSE),\n",
       "  (str, '(.*?)([\"\\\\\\\\\\\\x00-\\\\x1f])', 88): re.compile(r'(.*?)([\"\\\\\\x00-\\x1f])',\n",
       "  re.MULTILINE|re.DOTALL|re.UNICODE|re.VERBOSE),\n",
       "  (str, '[ \\\\t\\\\n\\\\r]*', 88): re.compile(r'[ \\t\\n\\r]*',\n",
       "  re.MULTILINE|re.DOTALL|re.UNICODE|re.VERBOSE),\n",
       "  (str,\n",
       "   '[\\\\x00-\\\\x1f\\\\\\\\\"\\\\b\\\\f\\\\n\\\\r\\\\t]',\n",
       "   0): re.compile(r'[\\x00-\\x1f\\\\\"\\b\\f\\n\\r\\t]',\n",
       "  re.UNICODE),\n",
       "  (str, '([\\\\\\\\\"]|[^\\\\ -~])', 0): re.compile(r'([\\\\\"]|[^\\ -~])', re.UNICODE),\n",
       "  (bytes, b'[\\x80-\\xff]', 0): re.compile(rb'[\\x80-\\xff]'),\n",
       "  (str, '([*?[])', 0): re.compile(r'([*?[])', re.UNICODE),\n",
       "  (bytes, b'([*?[])', 0): re.compile(rb'([*?[])'),\n",
       "  (str,\n",
       "   '^[ \\\\t\\\\f]*#.*?coding[:=][ \\\\t]*([-\\\\w.]+)',\n",
       "   256): re.compile(r'^[ \\t\\f]*#.*?coding[:=][ \\t]*([-\\w.]+)',\n",
       "  ),\n",
       "  (bytes,\n",
       "   b'^[ \\\\t\\\\f]*(?:[#\\\\r\\\\n]|$)',\n",
       "   256): re.compile(rb'^[ \\t\\f]*(?:[#\\r\\n]|$)',\n",
       "  ),\n",
       "  (str,\n",
       "   '\\n            \\\\$(?:\\n              (?P<escaped>\\\\$)  |   # Escape sequence of two delimiters\\n              (?P<named>(?a:[_a-z][_a-z0-9]*))       |   # delimiter and a Python identifier\\n              {(?P<braced>(?a:[_a-z][_a-z0-9]*))} |   # delimiter and a braced identifier\\n              (?P<invalid>)             # Other ill-formed delimiter exprs\\n            )\\n            ',\n",
       "   66): re.compile(r'\\n            \\$(?:\\n              (?P<escaped>\\$)  |   # Escape sequence of two delimiters\\n              (?P<named>(?a:[_a-z][_a-z0-9]*))       |   # delimiter and a Python identifier\\n              {(?P<braced>(?a:[_a-z][_a-z0-9]*))} |   # delimiter and a braced identifier\\n              (?P<invalid>)             # Other ill-formed delimiter exprs\\n            )\\n            ',\n",
       "  re.IGNORECASE|re.UNICODE|re.VERBOSE),\n",
       "  (str,\n",
       "   '%\\\\(\\\\w+\\\\)[#0+ -]*(\\\\*|\\\\d+)?(\\\\.(\\\\*|\\\\d+))?[diouxefgcrsa%]',\n",
       "   2): re.compile(r'%\\(\\w+\\)[#0+ -]*(\\*|\\d+)?(\\.(\\*|\\d+))?[diouxefgcrsa%]',\n",
       "  re.IGNORECASE|re.UNICODE),\n",
       "  (str,\n",
       "   '^(.?[<>=^])?[+ -]?#?0?(\\\\d+|{\\\\w+})?[,_]?(\\\\.(\\\\d+|{\\\\w+}))?[bcdefgnosx%]?$',\n",
       "   2): re.compile(r'^(.?[<>=^])?[+ -]?#?0?(\\d+|{\\w+})?[,_]?(\\.(\\d+|{\\w+}))?[bcdefgnosx%]?$',\n",
       "  re.IGNORECASE|re.UNICODE),\n",
       "  (str,\n",
       "   '^(\\\\d+|\\\\w+)(\\\\.\\\\w+|\\\\[[^]]+\\\\])*$',\n",
       "   0): re.compile(r'^(\\d+|\\w+)(\\.\\w+|\\[[^]]+\\])*$',\n",
       "  re.UNICODE),\n",
       "  (str, '[a-zA-Z_][a-zA-Z0-9_]*$', 0): re.compile(r'[a-zA-Z_][a-zA-Z0-9_]*$',\n",
       "  re.UNICODE),\n",
       "  (str,\n",
       "   '\\n        (?P<WHITESPACES>[ \\\\t]+)                    | # spaces and horizontal tabs\\n        (?P<NUMBER>[0-9]+\\\\b)                       | # decimal integer\\n        (?P<NAME>n\\\\b)                              | # only n is allowed\\n        (?P<PARENTHESIS>[()])                      |\\n        (?P<OPERATOR>[-*/%+?:]|[><!]=?|==|&&|\\\\|\\\\|) | # !, *, /, %, +, -, <, >,\\n                                                     # <=, >=, ==, !=, &&, ||,\\n                                                     # ? :\\n                                                     # unary and bitwise ops\\n                                                     # not allowed\\n        (?P<INVALID>\\\\w+|.)                           # invalid token\\n    ',\n",
       "   80): re.compile(r'\\n        (?P<WHITESPACES>[ \\t]+)                    | # spaces and horizontal tabs\\n        (?P<NUMBER>[0-9]+\\b)                       | # decimal integer\\n        (?P<NAME>n\\b)                              | # only n is allowed\\n        (?P<PARENTHESIS>[()])                      |\\n        (?P<OPERATOR>[-*/%+?:]|[><!]=?|==|&&|\\|\\|) | # !, *, /, %, +, -, <, >,\\n                                                     # <=, >=, ==, !=, &&, ||,\\n                                                     # ? :\\n                                                     # unary and bitwise ops\\n                                                     # not allowed\\n        (?P<INVALID>\\w+|.)                           # invalid token\\n    ',\n",
       "  re.DOTALL|re.UNICODE|re.VERBOSE),\n",
       "  (str,\n",
       "   '%(?:\\\\((?P<key>.*?)\\\\))?(?P<modifiers>[-#0-9 +*.hlL]*?)[eEfFgGdiouxXcrs%]',\n",
       "   0): re.compile(r'%(?:\\((?P<key>.*?)\\))?(?P<modifiers>[-#0-9 +*.hlL]*?)[eEfFgGdiouxXcrs%]',\n",
       "  re.UNICODE),\n",
       "  (str, '([0-9]+|[._+-])', 0): re.compile(r'([0-9]+|[._+-])', re.UNICODE),\n",
       "  (bytes,\n",
       "   b'(__libc_init)|(GLIBC_([0-9.]+))|(libc(_\\\\w+)?\\\\.so(?:\\\\.(\\\\d[0-9.]*))?)',\n",
       "   256): re.compile(rb'(__libc_init)|(GLIBC_([0-9.]+))|(libc(_\\w+)?\\.so(?:\\.(\\d[0-9.]*))?)',\n",
       "  ),\n",
       "  (str,\n",
       "   '(?:([\\\\w ]+) ([\\\\w.]+) .*\\\\[.* ([\\\\d.]+)\\\\])',\n",
       "   0): re.compile(r'(?:([\\w ]+) ([\\w.]+) .*\\[.* ([\\d.]+)\\])',\n",
       "  re.UNICODE),\n",
       "  (str,\n",
       "   '([\\\\w.+]+)\\\\s*\\\\(#?([^,]+)(?:,\\\\s*([\\\\w ]*)(?:,\\\\s*([\\\\w :]*))?)?\\\\)\\\\s*\\\\[([^\\\\]]+)\\\\]?',\n",
       "   256): re.compile(r'([\\w.+]+)\\s*\\(#?([^,]+)(?:,\\s*([\\w ]*)(?:,\\s*([\\w :]*))?)?\\)\\s*\\[([^\\]]+)\\]?',\n",
       "  ),\n",
       "  (str,\n",
       "   'IronPython\\\\s*([\\\\d\\\\.]+)(?: \\\\(([\\\\d\\\\.]+)\\\\))? on (.NET [\\\\d\\\\.]+)',\n",
       "   256): re.compile(r'IronPython\\s*([\\d\\.]+)(?: \\(([\\d\\.]+)\\))? on (.NET [\\d\\.]+)',\n",
       "  ),\n",
       "  (str,\n",
       "   '([\\\\d.]+)\\\\s*\\\\(IronPython\\\\s*[\\\\d.]+\\\\s*\\\\(([\\\\d.]+)\\\\) on ([\\\\w.]+ [\\\\d.]+(?: \\\\(\\\\d+-bit\\\\))?)\\\\)',\n",
       "   0): re.compile(r'([\\d.]+)\\s*\\(IronPython\\s*[\\d.]+\\s*\\(([\\d.]+)\\) on ([\\w.]+ [\\d.]+(?: \\(\\d+-bit\\))?)\\)',\n",
       "  re.UNICODE),\n",
       "  (str,\n",
       "   '([\\\\w.+]+)\\\\s*\\\\(#?([^,]+),\\\\s*([\\\\w ]+),\\\\s*([\\\\w :]+)\\\\)\\\\s*\\\\[PyPy [^\\\\]]+\\\\]?',\n",
       "   0): re.compile(r'([\\w.+]+)\\s*\\(#?([^,]+),\\s*([\\w ]+),\\s*([\\w :]+)\\)\\s*\\[PyPy [^\\]]+\\]?',\n",
       "  re.UNICODE),\n",
       "  (str, '\\\\bprint (?P<expr>.*)$', 8): re.compile(r'\\bprint (?P<expr>.*)$',\n",
       "  re.MULTILINE|re.UNICODE),\n",
       "  (str,\n",
       "   '^\\\\-?\\\\-[A-Za-z][\\\\w]*(\\\\.[\\\\w]+)*$',\n",
       "   0): re.compile(r'^\\-?\\-[A-Za-z][\\w]*(\\.[\\w]+)*$',\n",
       "  re.UNICODE),\n",
       "  (str,\n",
       "   '\\n        ( # any whitespace\\n          [\\\\\\t\\\\\\n\\\\\\x0b\\\\\\x0c\\\\\\r\\\\ ]+\\n        | # em-dash between words\\n          (?<=[\\\\w!\"\\\\\\'&.,?]) -{2,} (?=\\\\w)\\n        | # word, possibly hyphenated\\n          [^\\\\\\t\\\\\\n\\\\\\x0b\\\\\\x0c\\\\\\r\\\\ ]+? (?:\\n            # hyphenated word\\n              -(?: (?<=[^\\\\d\\\\W]{2}-) | (?<=[^\\\\d\\\\W]-[^\\\\d\\\\W]-))\\n              (?= [^\\\\d\\\\W] -? [^\\\\d\\\\W])\\n            | # end of word\\n              (?=[\\\\\\t\\\\\\n\\\\\\x0b\\\\\\x0c\\\\\\r\\\\ ]|\\\\Z)\\n            | # em-dash\\n              (?<=[\\\\w!\"\\\\\\'&.,?]) (?=-{2,}\\\\w)\\n            )\\n        )',\n",
       "   64): re.compile(r'\\n        ( # any whitespace\\n          [\\\\t\\\\n\\\\x0b\\\\x0c\\\\r\\ ]+\\n        | # em-dash between words\\n          (?<=[\\w!\"\\\\'&.,?]) -{2,} (?=\\w)\\n        | # word, possibly hyphenated\\n          [^\\\\t\\\\n\\\\x0b\\\\x0c\\\\r\\ ]+? (?:\\n            # hyphenated word\\n              -(?: (?<=[^\\d\\W]{2}-) | (?<=[^\\d\\W]-[^\\d\\W]-))\\n              (?= [^\\d\\W] -? [^\\d\\W])\\n            | # end of word\\n              (?=[\\\\t\\\\n\\\\x0b\\\\x0c\\\\r\\ ]|\\Z)\\n            | # em-dash\\n              (?<=[\\w!\"\\\\'&.,?]) (?=-{2,}\\w)\\n            )\\n        )',\n",
       "  re.UNICODE|re.VERBOSE),\n",
       "  (str,\n",
       "   '([\\\\\\t\\\\\\n\\\\\\x0b\\\\\\x0c\\\\\\r\\\\ ]+)',\n",
       "   0): re.compile(r'([\\\\t\\\\n\\\\x0b\\\\x0c\\\\r\\ ]+)',\n",
       "  re.UNICODE),\n",
       "  (str,\n",
       "   '[a-z][\\\\.\\\\!\\\\?][\\\\\"\\\\\\']?\\\\Z',\n",
       "   0): re.compile(r'[a-z][\\.\\!\\?][\\\"\\\\']?\\Z',\n",
       "  re.UNICODE),\n",
       "  (str, '^[ \\t]+$', 8): re.compile(r'^[ \\t]+$', re.MULTILINE|re.UNICODE),\n",
       "  (str, '(^[ \\t]*)(?:[^ \\t\\n])', 8): re.compile(r'(^[ \\t]*)(?:[^ \\t\\n])',\n",
       "  re.MULTILINE|re.UNICODE),\n",
       "  (str, '([\\x00-\\x7f]+)', 0): re.compile(r'([\\x00-\\x7f]+)', re.UNICODE),\n",
       "  (str,\n",
       "   ' at 0x[0-9a-f]{6,16}(>+)$',\n",
       "   2): re.compile(r' at 0x[0-9a-f]{6,16}(>+)$',\n",
       "  re.IGNORECASE|re.UNICODE),\n",
       "  (str, '(?<=\\\\n)\\\\s+', 0): re.compile(r'(?<=\\n)\\s+', re.UNICODE),\n",
       "  (str, '[^\\\\w@%+=:,./-]', 256): re.compile(r'[^\\w@%+=:,./-]', ),\n",
       "  (str, '^(\\\\s+)', 0): re.compile(r'^(\\s+)', re.UNICODE),\n",
       "  (str,\n",
       "   \"(.*?)\\\\$(\\\\$?[\\\\w\\\\.]+)(?=([^']*'[^']*')*[^']*$)\",\n",
       "   0): re.compile(r\"(.*?)\\$(\\$?[\\w\\.]+)(?=([^']*'[^']*')*[^']*$)\",\n",
       "  re.UNICODE),\n",
       "  (str, '[a-zA-Z][a-zA-Z0-9_-]*$', 0): re.compile(r'[a-zA-Z][a-zA-Z0-9_-]*$',\n",
       "  re.UNICODE),\n",
       "  (str, '(\\\\x1b[^m]+m)', 0): re.compile(r'(\\x1b[^m]+m)', re.UNICODE),\n",
       "  (str, '', 0): re.compile(r'', re.UNICODE),\n",
       "  (str, 'coding[:=]\\\\s*([-\\\\w.]+)', 32): re.compile(r'coding[:=]\\s*([-\\w.]+)',\n",
       "  re.UNICODE),\n",
       "  (str,\n",
       "   '^\\\\s*#.*coding[:=]\\\\s*([-\\\\w.]+)',\n",
       "   32): re.compile(r'^\\s*#.*coding[:=]\\s*([-\\w.]+)',\n",
       "  re.UNICODE),\n",
       "  (str,\n",
       "   '\\n    (?: vi | vim | ex ) (?: [<=>]? \\\\d* )? :\\n    .* (?: ft | filetype | syn | syntax ) = ( [^:\\\\s]+ )\\n',\n",
       "   64): re.compile(r'\\n    (?: vi | vim | ex ) (?: [<=>]? \\d* )? :\\n    .* (?: ft | filetype | syn | syntax ) = ( [^:\\s]+ )\\n',\n",
       "  re.UNICODE|re.VERBOSE),\n",
       "  (str, '[/\\\\\\\\ ]', 0): re.compile(r'[/\\\\ ]', re.UNICODE),\n",
       "  (str,\n",
       "   '\\n    <!DOCTYPE\\\\s+(\\n     [a-zA-Z_][a-zA-Z0-9]*\\n     (?: \\\\s+      # optional in HTML5\\n     [a-zA-Z_][a-zA-Z0-9]*\\\\s+\\n     \"[^\"]*\")?\\n     )\\n     [^>]*>\\n',\n",
       "   88): re.compile(r'\\n    <!DOCTYPE\\s+(\\n     [a-zA-Z_][a-zA-Z0-9]*\\n     (?: \\s+      # optional in HTML5\\n     [a-zA-Z_][a-zA-Z0-9]*\\s+\\n     \"[^\"]*\")?\\n     )\\n     [^>]*>\\n',\n",
       "  re.MULTILINE|re.DOTALL|re.UNICODE|re.VERBOSE),\n",
       "  (str,\n",
       "   '<(.+?)(\\\\s.*?)?>.*?</.+?>',\n",
       "   58): re.compile(r'<(.+?)(\\s.*?)?>.*?</.+?>',\n",
       "  re.IGNORECASE|re.MULTILINE|re.DOTALL|re.UNICODE),\n",
       "  (str, '\\\\s*<\\\\?xml[^>]*\\\\?>', 2): re.compile(r'\\s*<\\?xml[^>]*\\?>',\n",
       "  re.IGNORECASE|re.UNICODE),\n",
       "  (str, '[\\\\^\\\\\\\\\\\\-\\\\]]', 0): re.compile(r'[\\^\\\\\\-\\]]', re.UNICODE),\n",
       "  (str, '.*?\\n', 0): re.compile(r'.*?\\n', re.UNICODE),\n",
       "  (str, '^[ \\\\t]+', 0): re.compile(r'^[ \\t]+', re.UNICODE),\n",
       "  (str, '^(>>>|\\\\.\\\\.\\\\.)( |$)', 0): re.compile(r'^(>>>|\\.\\.\\.)( |$)',\n",
       "  re.UNICODE),\n",
       "  (str, '^>>>( |$)', 0): re.compile(r'^>>>( |$)', re.UNICODE),\n",
       "  (str,\n",
       "   '^(In \\\\[\\\\d+\\\\]: |\\\\s*\\\\.{3,}: ?)',\n",
       "   0): re.compile(r'^(In \\[\\d+\\]: |\\s*\\.{3,}: ?)',\n",
       "  re.UNICODE),\n",
       "  (str,\n",
       "   '(%{0,2}\\n                              (?!\\\\d)[\\\\w*]+            # Variable name\\n                              (\\\\.(?!\\\\d)[\\\\w*]+)*       # .etc.etc\\n                              )\\n                              (\\\\?\\\\??)$                # ? or ??\\n                              ',\n",
       "   64): re.compile(r'(%{0,2}\\n                              (?!\\d)[\\w*]+            # Variable name\\n                              (\\.(?!\\d)[\\w*]+)*       # .etc.etc\\n                              )\\n                              (\\?\\??)$                # ? or ??\\n                              ',\n",
       "  re.UNICODE|re.VERBOSE),\n",
       "  (str,\n",
       "   '\\\\s*def\\\\s*([_\\\\w][_\\\\w\\\\d]*)\\\\s*\\\\(',\n",
       "   0): re.compile(r'\\s*def\\s*([_\\w][_\\w\\d]*)\\s*\\(',\n",
       "  re.UNICODE),\n",
       "  (str, '(?m)^    ', 0): re.compile(r'(?m)^    ', re.MULTILINE|re.UNICODE),\n",
       "  (str, '[A-Z][A-Z0-9_]+$', 0): re.compile(r'[A-Z][A-Z0-9_]+$', re.UNICODE),\n",
       "  (str,\n",
       "   '#\\\\s*coding[:=]\\\\s*([-\\\\w.]+)',\n",
       "   0): re.compile(r'#\\s*coding[:=]\\s*([-\\w.]+)',\n",
       "  re.UNICODE),\n",
       "  (str,\n",
       "   \"\\n             ^(\\\\s*)               # any leading space\\n             ([,;/%]|!!?|\\\\?\\\\??)?  # escape character or characters\\n             \\\\s*(%{0,2}[\\\\w\\\\.\\\\*]*)     # function/method, possibly with leading %\\n                                  # to correctly treat things like '?%magic'\\n             (.*?$|$)             # rest of line\\n             \",\n",
       "   64): re.compile(r\"\\n             ^(\\s*)               # any leading space\\n             ([,;/%]|!!?|\\?\\??)?  # escape character or characters\\n             \\s*(%{0,2}[\\w\\.\\*]*)     # function/method, possibly with leading %\\n                                  # to correctly treat things like '?%magic'\\n             (.*?$|$)             # rest of line\\n             \",\n",
       "  re.UNICODE|re.VERBOSE),\n",
       "  (str, '[^\\\\W\\\\d]([\\\\w.]*) *$', 0): re.compile(r'[^\\W\\d]([\\w.]*) *$',\n",
       "  re.UNICODE),\n",
       "  (str,\n",
       "   '^[,&^\\\\|\\\\*/\\\\+-]|^is |^not |^in |^and |^or ',\n",
       "   0): re.compile(r'^[,&^\\|\\*/\\+-]|^is |^not |^in |^and |^or ',\n",
       "  re.UNICODE),\n",
       "  (str, '^(\\\\s*)()(\\\\S+)(.*$)', 0): re.compile(r'^(\\s*)()(\\S+)(.*$)',\n",
       "  re.UNICODE),\n",
       "  (str,\n",
       "   '(exit|quit)(\\\\s*\\\\(.*\\\\))?$',\n",
       "   0): re.compile(r'(exit|quit)(\\s*\\(.*\\))?$',\n",
       "  re.UNICODE),\n",
       "  (str,\n",
       "   '\\n((?P<startsess>~?\\\\d+)/)?\\n(?P<start>\\\\d+)?\\n((?P<sep>[\\\\-:])\\n ((?P<endsess>~?\\\\d+)/)?\\n (?P<end>\\\\d+))?\\n$',\n",
       "   64): re.compile(r'\\n((?P<startsess>~?\\d+)/)?\\n(?P<start>\\d+)?\\n((?P<sep>[\\-:])\\n ((?P<endsess>~?\\d+)/)?\\n (?P<end>\\d+))?\\n$',\n",
       "  re.UNICODE|re.VERBOSE),\n",
       "  (str,\n",
       "   '&(#[0-9]+;?|#[xX][0-9a-fA-F]+;?|[^\\\\t\\\\n\\\\f <&#;]{1,32};?)',\n",
       "   0): re.compile(r'&(#[0-9]+;?|#[xX][0-9a-fA-F]+;?|[^\\t\\n\\f <&#;]{1,32};?)',\n",
       "  re.UNICODE),\n",
       "  (str,\n",
       "   '^\\\\s+raise|^\\\\s+return|^\\\\s+pass',\n",
       "   0): re.compile(r'^\\s+raise|^\\s+return|^\\s+pass',\n",
       "  re.UNICODE),\n",
       "  (str,\n",
       "   '([a-zA-Z0-9_]+|[^a-zA-Z0-9_\\\\s]+)',\n",
       "   0): re.compile(r'([a-zA-Z0-9_]+|[^a-zA-Z0-9_\\s]+)',\n",
       "  re.UNICODE),\n",
       "  (str,\n",
       "   '^([a-zA-Z0-9_]+|[^a-zA-Z0-9_\\\\s]+)',\n",
       "   0): re.compile(r'^([a-zA-Z0-9_]+|[^a-zA-Z0-9_\\s]+)',\n",
       "  re.UNICODE),\n",
       "  (str,\n",
       "   '^(([a-zA-Z0-9_]+|[^a-zA-Z0-9_\\\\s]+)\\\\s*)',\n",
       "   0): re.compile(r'^(([a-zA-Z0-9_]+|[^a-zA-Z0-9_\\s]+)\\s*)',\n",
       "  re.UNICODE),\n",
       "  (str, '([^\\\\s]+)', 0): re.compile(r'([^\\s]+)', re.UNICODE),\n",
       "  (str, '^([^\\\\s]+)', 0): re.compile(r'^([^\\s]+)', re.UNICODE),\n",
       "  (str, '^([^\\\\s]+\\\\s*)', 0): re.compile(r'^([^\\s]+\\s*)', re.UNICODE),\n",
       "  (str, '^[a-z0-9.\\\\s_-]*$', 0): re.compile(r'^[a-z0-9.\\s_-]*$', re.UNICODE),\n",
       "  (str, '(\\\\s+|\".*?\"|\\'.*?\\')', 0): re.compile(r'(\\s+|\".*?\"|\\'.*?\\')',\n",
       "  re.UNICODE),\n",
       "  (str, '^\\x1b\\\\[\\\\d+;\\\\d+R\\\\Z', 0): re.compile(r'^\\x1b\\[\\d+;\\d+R\\Z',\n",
       "  re.UNICODE),\n",
       "  (str,\n",
       "   '^\\x1b\\\\[(<?[\\\\d;]+[mM]|M...)\\\\Z',\n",
       "   0): re.compile(r'^\\x1b\\[(<?[\\d;]+[mM]|M...)\\Z',\n",
       "  re.UNICODE),\n",
       "  (str, '^\\x1b\\\\[[\\\\d;]*\\\\Z', 0): re.compile(r'^\\x1b\\[[\\d;]*\\Z', re.UNICODE),\n",
       "  (str,\n",
       "   '^\\x1b\\\\[(<?[\\\\d;]*|M.{0,2})\\\\Z',\n",
       "   0): re.compile(r'^\\x1b\\[(<?[\\d;]*|M.{0,2})\\Z',\n",
       "  re.UNICODE),\n",
       "  (str,\n",
       "   '(?:\\\\{\\\\{|\\\\}\\\\}|\\\\\\\\N\\\\{[A-Za-z0-9\\\\-]+(?: [A-Za-z0-9\\\\-]+)*\\\\}|\\\\\\\\(?:\\\\r\\\\n?|\\\\n)|\\\\\\\\[^\\\\r\\\\nN]|[^{}\\\\r\\\\n\\\\\\\\])+',\n",
       "   32): re.compile(r'(?:\\{\\{|\\}\\}|\\\\N\\{[A-Za-z0-9\\-]+(?: [A-Za-z0-9\\-]+)*\\}|\\\\(?:\\r\\n?|\\n)|\\\\[^\\r\\nN]|[^{}\\r\\n\\\\])+',\n",
       "  re.UNICODE),\n",
       "  (str,\n",
       "   '(?:\\\\{\\\\{|\\\\}\\\\}|\\\\\\\\N\\\\{[A-Za-z0-9\\\\-]+(?: [A-Za-z0-9\\\\-]+)*\\\\}|\\\\\\\\[^N]|[^{}\\\\\\\\])+',\n",
       "   32): re.compile(r'(?:\\{\\{|\\}\\}|\\\\N\\{[A-Za-z0-9\\-]+(?: [A-Za-z0-9\\-]+)*\\}|\\\\[^N]|[^{}\\\\])+',\n",
       "  re.UNICODE),\n",
       "  (str,\n",
       "   '(?:\\\\\\\\(?:\\\\r\\\\n?|\\\\n)|[^{}\\\\r\\\\n])+',\n",
       "   32): re.compile(r'(?:\\\\(?:\\r\\n?|\\n)|[^{}\\r\\n])+',\n",
       "  re.UNICODE),\n",
       "  (str, '[^{}]+', 32): re.compile(r'[^{}]+', re.UNICODE),\n",
       "  (str, '\\\\s*(?:#\\\\s*)?$', 0): re.compile(r'\\s*(?:#\\s*)?$', re.UNICODE),\n",
       "  (str,\n",
       "   '([ \\\\t]*)(#[^\\\\n\\\\r\\\\f]*|\\\\\\\\\\\\r?\\\\n|\\\\r?\\\\n|\\\\f|$|\\ufeff)',\n",
       "   0): re.compile(r'([ \\t]*)(#[^\\n\\r\\f]*|\\\\\\r?\\n|\\r?\\n|\\f|$|\\ufeff)',\n",
       "  re.UNICODE),\n",
       "  (str,\n",
       "   '(?:\\\\.[^\\\\\\\\/]+|[\\\\\\\\/]__init__\\\\.py)$',\n",
       "   0): re.compile(r'(?:\\.[^\\\\/]+|[\\\\/]__init__\\.py)$',\n",
       "  re.UNICODE),\n",
       "  (str, '\\\\s*:rtype:\\\\s*([^\\\\n]+)', 8): re.compile(r'\\s*:rtype:\\s*([^\\n]+)',\n",
       "  re.MULTILINE|re.UNICODE),\n",
       "  (str, '\\\\s*@rtype:\\\\s*([^\\\\n]+)', 8): re.compile(r'\\s*@rtype:\\s*([^\\n]+)',\n",
       "  re.MULTILINE|re.UNICODE),\n",
       "  (str, ':[^`]+:`([^`]+)`', 0): re.compile(r':[^`]+:`([^`]+)`', re.UNICODE),\n",
       "  (str,\n",
       "   '^\\\\w*(\\\\\\'{3}|\"{3}|\\\\\\'|\")',\n",
       "   0): re.compile(r'^\\w*(\\\\'{3}|\"{3}|\\\\'|\")',\n",
       "  re.UNICODE),\n",
       "  (str, '^-\\\\d+$|^-\\\\d*\\\\.\\\\d+$', 0): re.compile(r'^-\\d+$|^-\\d*\\.\\d+$',\n",
       "  re.UNICODE),\n",
       "  (str, '\\\\s+', 256): re.compile(r'\\s+', ),\n",
       "  (str, '\\\\n\\\\n\\\\n+', 0): re.compile(r'\\n\\n\\n+', re.UNICODE),\n",
       "  (str, '([\\\\[(]) ', 0): re.compile(r'([\\[(]) ', re.UNICODE),\n",
       "  (str, ' ([\\\\])])', 0): re.compile(r' ([\\])])', re.UNICODE),\n",
       "  (str, '[\\\\[(] *[\\\\])]', 0): re.compile(r'[\\[(] *[\\])]', re.UNICODE),\n",
       "  (str, '\\\\(([^|]*)\\\\)', 0): re.compile(r'\\(([^|]*)\\)', re.UNICODE),\n",
       "  (str, '(?m)^        ', 0): re.compile(r'(?m)^        ',\n",
       "  re.MULTILINE|re.UNICODE),\n",
       "  (str,\n",
       "   '\\n  =\\\\?                   # literal =?\\n  (?P<charset>[^?]*?)   # non-greedy up to the next ? is the charset\\n  \\\\?                    # literal ?\\n  (?P<encoding>[qQbB])  # either a \"q\" or a \"b\", case insensitive\\n  \\\\?                    # literal ?\\n  (?P<encoded>.*?)      # non-greedy up to the next ?= is the encoded string\\n  \\\\?=                   # literal ?=\\n  ',\n",
       "   72): re.compile(r'\\n  =\\?                   # literal =?\\n  (?P<charset>[^?]*?)   # non-greedy up to the next ? is the charset\\n  \\?                    # literal ?\\n  (?P<encoding>[qQbB])  # either a \"q\" or a \"b\", case insensitive\\n  \\?                    # literal ?\\n  (?P<encoded>.*?)      # non-greedy up to the next ?= is the encoded string\\n  \\?=                   # literal ?=\\n  ',\n",
       "  re.MULTILINE|re.UNICODE|re.VERBOSE),\n",
       "  (str, '[\\\\041-\\\\176]+:$', 0): re.compile(r'[\\041-\\176]+:$', re.UNICODE),\n",
       "  (str, '\\\\n[^ \\\\t]+:', 0): re.compile(r'\\n[^ \\t]+:', re.UNICODE),\n",
       "  (str, '[][\\\\\\\\()<>@,:;\".]', 0): re.compile(r'[][\\\\()<>@,:;\".]', re.UNICODE),\n",
       "  (str, '[\\\\\\\\\"]', 0): re.compile(r'[\\\\\"]', re.UNICODE),\n",
       "  (str,\n",
       "   '^(?P<name>\\\\w+)\\\\*((?P<num>[0-9]+)\\\\*?)?$',\n",
       "   256): re.compile(r'^(?P<name>\\w+)\\*((?P<num>[0-9]+)\\*?)?$',\n",
       "  ),\n",
       "  (str, '\\\\r\\\\n|\\\\r|\\\\n', 0): re.compile(r'\\r\\n|\\r|\\n', re.UNICODE),\n",
       "  (str, '(\\\\r\\\\n|\\\\r|\\\\n)', 0): re.compile(r'(\\r\\n|\\r|\\n)', re.UNICODE),\n",
       "  (str, '(\\\\r\\\\n|\\\\r|\\\\n)\\\\Z', 0): re.compile(r'(\\r\\n|\\r|\\n)\\Z', re.UNICODE),\n",
       "  (str,\n",
       "   '^(From |[\\\\041-\\\\071\\\\073-\\\\176]*:|[\\\\t ])',\n",
       "   0): re.compile(r'^(From |[\\041-\\071\\073-\\176]*:|[\\t ])',\n",
       "  re.UNICODE),\n",
       "  (bytes, b'=([a-fA-F0-9]{2})', 0): re.compile(rb'=([a-fA-F0-9]{2})'),\n",
       "  (str,\n",
       "   '[ \\\\(\\\\)<>@,;:\\\\\\\\\"/\\\\[\\\\]\\\\?=]',\n",
       "   0): re.compile(r'[ \\(\\)<>@,;:\\\\\"/\\[\\]\\?=]',\n",
       "  re.UNICODE),\n",
       "  (bytes, b'[^:\\\\s][^:\\\\r\\\\n]*', 0): re.compile(rb'[^:\\s][^:\\r\\n]*'),\n",
       "  (bytes,\n",
       "   b'\\\\n(?![ \\\\t])|\\\\r(?![ \\\\t\\\\n])',\n",
       "   0): re.compile(rb'\\n(?![ \\t])|\\r(?![ \\t\\n])'),\n",
       "  (str, '[\\x00- \\x7f]', 0): re.compile(r'[\\x00- \\x7f]', re.UNICODE),\n",
       "  (str, '[\\x00-\\x1f]', 0): re.compile(r'[\\x00-\\x1f]', re.UNICODE),\n",
       "  (str, ':\\\\d+$', 256): re.compile(r':\\d+$', ),\n",
       "  (str,\n",
       "   '(?:^|,)[ \\t]*([^ \\t,]+)[ \\t]+realm=([\"\\']?)([^\"\\']*)\\\\2',\n",
       "   2): re.compile(r'(?:^|,)[ \\t]*([^ \\t,]+)[ \\t]+realm=([\"\\']?)([^\"\\']*)\\2',\n",
       "  re.IGNORECASE|re.UNICODE),\n",
       "  (str,\n",
       "   '<ipython\\\\-input\\\\-(\\\\d+)-[a-z\\\\d]+>$',\n",
       "   0): re.compile(r'<ipython\\-input\\-(\\d+)-[a-z\\d]+>$',\n",
       "  re.UNICODE),\n",
       "  (str,\n",
       "   '\\n(?P<start>\\\\d+)?\\n((?P<sep>[\\\\-:])\\n (?P<end>\\\\d+)?)?\\n$',\n",
       "   64): re.compile(r'\\n(?P<start>\\d+)?\\n((?P<sep>[\\-:])\\n (?P<end>\\d+)?)?\\n$',\n",
       "  re.UNICODE|re.VERBOSE),\n",
       "  (str, '^\\\\w+\\\\.\\\\w+$', 0): re.compile(r'^\\w+\\.\\w+$', re.UNICODE),\n",
       "  (str,\n",
       "   '^(?:\\\\s*(\\\\w+)\\\\s*\\\\.)?\\\\s*(\\\\w+)',\n",
       "   0): re.compile(r'^(?:\\s*(\\w+)\\s*\\.)?\\s*(\\w+)',\n",
       "  re.UNICODE),\n",
       "  (str,\n",
       "   'inet\\\\b.*?(\\\\d+\\\\.\\\\d+\\\\.\\\\d+\\\\.\\\\d+)',\n",
       "   2): re.compile(r'inet\\b.*?(\\d+\\.\\d+\\.\\d+\\.\\d+)',\n",
       "  re.IGNORECASE|re.UNICODE),\n",
       "  (str,\n",
       "   'ipv4.*?(\\\\d+\\\\.\\\\d+\\\\.\\\\d+\\\\.\\\\d+)$',\n",
       "   2): re.compile(r'ipv4.*?(\\d+\\.\\d+\\.\\d+\\.\\d+)$',\n",
       "  re.IGNORECASE|re.UNICODE),\n",
       "  (str, '^[a-z0-9._\\\\-]+$', 2): re.compile(r'^[a-z0-9._\\-]+$',\n",
       "  re.IGNORECASE|re.UNICODE),\n",
       "  (str, '\\\\\\\\(.)', 16): re.compile(r'\\\\(.)', re.DOTALL|re.UNICODE),\n",
       "  (str, '[&<>\"\\']', 0): re.compile(r'[&<>\"\\']', re.UNICODE),\n",
       "  (str,\n",
       "   '\\\\b((?:([\\\\w-]+):(/{1,3})|www[.])(?:(?:(?:[^\\\\s&()]|&amp;|&quot;)*(?:[^!\"#$%&\\'()*+,.:;<=>?@\\\\[\\\\]^`{|}~\\\\s]))|(?:\\\\((?:[^\\\\s&()]|&amp;|&quot;)*\\\\)))+)',\n",
       "   0): re.compile(r'\\b((?:([\\w-]+):(/{1,3})|www[.])(?:(?:(?:[^\\s&()]|&amp;|&quot;)*(?:[^!\"#$%&\\'()*+,.:;<=>?@\\[\\]^`{|}~\\s]))|(?:\\((?:[^\\s&()]|&amp;|&quot;)*\\)))+)',\n",
       "  re.UNICODE),\n",
       "  (str,\n",
       "   '\\x01?\\x1b\\\\[((?:\\\\d|;)*)([a-zA-Z])\\x02?',\n",
       "   0): re.compile(r'\\x01?\\x1b\\[((?:\\d|;)*)([a-zA-Z])\\x02?',\n",
       "  re.UNICODE),\n",
       "  (str,\n",
       "   '\\x01?\\x1b\\\\]((?:.|;)*?)(\\x07)\\x02?',\n",
       "   0): re.compile(r'\\x01?\\x1b\\]((?:.|;)*?)(\\x07)\\x02?',\n",
       "  re.UNICODE),\n",
       "  (str, '([.,])', 0): re.compile(r'([.,])', re.UNICODE),\n",
       "  (bytes, b'[\\\\.,]([0-9]+)', 0): re.compile(rb'[\\.,]([0-9]+)'),\n",
       "  (str,\n",
       "   '^(\\\\d{4}-\\\\d{2}-\\\\d{2}T\\\\d{2}:\\\\d{2}:\\\\d{2})(\\\\.\\\\d{1,6})?(Z|([\\\\+\\\\-]\\\\d{2}:?\\\\d{2}))?$',\n",
       "   0): re.compile(r'^(\\d{4}-\\d{2}-\\d{2}T\\d{2}:\\d{2}:\\d{2})(\\.\\d{1,6})?(Z|([\\+\\-]\\d{2}:?\\d{2}))?$',\n",
       "  re.UNICODE),\n",
       "  (str,\n",
       "   '([\\\\\\\\.^$*+?\\\\(\\\\){}\\\\[\\\\]|])',\n",
       "   0): re.compile(r'([\\\\.^$*+?\\(\\){}\\[\\]|])',\n",
       "  re.UNICODE),\n",
       "  (str, '\\\\s+', 0): re.compile(r'\\s+', re.UNICODE),\n",
       "  (str,\n",
       "   '(?P<d>3[0-1]|[1-2]\\\\d|0[1-9]|[1-9]| [1-9])',\n",
       "   2): re.compile(r'(?P<d>3[0-1]|[1-2]\\d|0[1-9]|[1-9]| [1-9])',\n",
       "  re.IGNORECASE|re.UNICODE),\n",
       "  (str, '\\\\([^\\\\(\\\\)]+\\\\)', 32): re.compile(r'\\([^\\(\\)]+\\)', re.UNICODE),\n",
       "  (str, '\\\\([^\\\\(]*$', 32): re.compile(r'\\([^\\(]*$', re.UNICODE),\n",
       "  (str, '[a-z_][0-9a-z._]*', 34): re.compile(r'[a-z_][0-9a-z._]*',\n",
       "  re.IGNORECASE|re.UNICODE),\n",
       "  (str,\n",
       "   '^(\\\\d{4}-\\\\d{2}-\\\\d{2}T\\\\d{2}:\\\\d{2}:\\\\d{2})(\\\\.\\\\d{1,6})?Z?([\\\\+\\\\-]\\\\d{2}:?\\\\d{2})?$',\n",
       "   0): re.compile(r'^(\\d{4}-\\d{2}-\\d{2}T\\d{2}:\\d{2}:\\d{2})(\\.\\d{1,6})?Z?([\\+\\-]\\d{2}:?\\d{2})?$',\n",
       "  re.UNICODE),\n",
       "  (str,\n",
       "   '^(\\\\d+) \\\\. (\\\\d+) (\\\\. (\\\\d+))? ([ab](\\\\d+))?$',\n",
       "   320): re.compile(r'^(\\d+) \\. (\\d+) (\\. (\\d+))? ([ab](\\d+))?$',\n",
       "  re.VERBOSE),\n",
       "  (str, '(\\\\d+ | [a-z]+ | \\\\.)', 64): re.compile(r'(\\d+ | [a-z]+ | \\.)',\n",
       "  re.UNICODE|re.VERBOSE),\n",
       "  (str, '^\\\\w(\\\\-?\\\\w)*$', 0): re.compile(r'^\\w(\\-?\\w)*$', re.UNICODE),\n",
       "  (str, '(A)', 0): re.compile(r'(A)', re.UNICODE),\n",
       "  (str, '(-*[A-]*)', 0): re.compile(r'(-*[A-]*)', re.UNICODE),\n",
       "  (str, '(?s:.*\\\\.py)\\\\Z', 0): re.compile(r'(?s:.*\\.py)\\Z', re.UNICODE),\n",
       "  (str,\n",
       "   '(?P<name>[^\\\\W\\\\d]\\\\w*?)(?P<package>[/\\\\\\\\]__init__)?(?P<suffix>\\\\.py|\\\\.pyw|\\\\.pyc|\\\\.cp39\\\\-win_amd64\\\\.pyd|\\\\.pyd)$',\n",
       "   0): re.compile(r'(?P<name>[^\\W\\d]\\w*?)(?P<package>[/\\\\]__init__)?(?P<suffix>\\.py|\\.pyw|\\.pyc|\\.cp39\\-win_amd64\\.pyd|\\.pyd)$',\n",
       "  re.UNICODE),\n",
       "  (str,\n",
       "   '.*(\\\\.ipy|\\\\.ipynb|\\\\.py[w]?)$',\n",
       "   0): re.compile(r'.*(\\.ipy|\\.ipynb|\\.py[w]?)$',\n",
       "  re.UNICODE),\n",
       "  (str,\n",
       "   '[\\\\ \\\\\\t\\\\\\n\\\\`\\\\!\\\\@\\\\#\\\\$\\\\^\\\\&\\\\*\\\\(\\\\)\\\\=\\\\+\\\\[\\\\{\\\\]\\\\}\\\\|\\\\;\\\\\\'\\\\\"\\\\,\\\\<\\\\>\\\\?]',\n",
       "   0): re.compile(r'[\\ \\\\t\\\\n\\`\\!\\@\\#\\$\\^\\&\\*\\(\\)\\=\\+\\[\\{\\]\\}\\|\\;\\\\'\\\"\\,\\<\\>\\?]',\n",
       "  re.UNICODE),\n",
       "  (str, '([^\\\\\\\\] )', 0): re.compile(r'([^\\\\] )', re.UNICODE),\n",
       "  (str,\n",
       "   '^[\\\\w|\\\\s.]+\\\\(([^)]*)\\\\).*',\n",
       "   0): re.compile(r'^[\\w|\\s.]+\\(([^)]*)\\).*',\n",
       "  re.UNICODE),\n",
       "  (str,\n",
       "   '[\\\\s|\\\\[]*(\\\\w+)(?:\\\\s*=\\\\s*.*)',\n",
       "   0): re.compile(r'[\\s|\\[]*(\\w+)(?:\\s*=\\s*.*)',\n",
       "  re.UNICODE),\n",
       "  (str,\n",
       "   '(.*)\\\\.(COM|EXE|BAT|CMD|VBS|VBE|JS|JSE|WSF|WSH|MSC)$',\n",
       "   2): re.compile(r'(.*)\\.(COM|EXE|BAT|CMD|VBS|VBE|JS|JSE|WSF|WSH|MSC)$',\n",
       "  re.IGNORECASE|re.UNICODE),\n",
       "  (str, '(?s:.*\\\\.ipy)\\\\Z', 0): re.compile(r'(?s:.*\\.ipy)\\Z', re.UNICODE),\n",
       "  (str,\n",
       "   '[ \\\\f\\\\t]*((\\\\\\\\\\\\r?\\\\n|\\\\Z|#[^\\\\r\\\\n]*|((|F|R|fR|rb|Br|rf|BR|U|bR|b|rF|Rf|B|r|br|Rb|FR|Fr|RB|RF|rB|f|u|fr)\\'\\'\\'|(|F|R|fR|rb|Br|rf|BR|U|bR|b|rF|Rf|B|r|br|Rb|FR|Fr|RB|RF|rB|f|u|fr)\"\"\"))|(([0-9](?:_?[0-9])*[jJ]|(([0-9](?:_?[0-9])*\\\\.(?:[0-9](?:_?[0-9])*)?|\\\\.[0-9](?:_?[0-9])*)([eE][-+]?[0-9](?:_?[0-9])*)?|[0-9](?:_?[0-9])*[eE][-+]?[0-9](?:_?[0-9])*)[jJ])|(([0-9](?:_?[0-9])*\\\\.(?:[0-9](?:_?[0-9])*)?|\\\\.[0-9](?:_?[0-9])*)([eE][-+]?[0-9](?:_?[0-9])*)?|[0-9](?:_?[0-9])*[eE][-+]?[0-9](?:_?[0-9])*)|(0[xX](?:_?[0-9a-fA-F])+|0[bB](?:_?[01])+|0[oO](?:_?[0-7])+|(?:0(?:_?0)*|[1-9](?:_?[0-9])*)))|(\\\\r?\\\\n|(\\\\~|\\\\}|\\\\|=|\\\\||\\\\{|\\\\^=|\\\\^|\\\\]|\\\\[|@=|@|>>=|>>|>=|>|==|=|<=|<<=|<<|<|;|:=|:|/=|//=|//|/|\\\\.\\\\.\\\\.|\\\\.|\\\\->|\\\\-=|\\\\-|,|\\\\+=|\\\\+|\\\\*=|\\\\*\\\\*=|\\\\*\\\\*|\\\\*|\\\\)|\\\\(|\\\\&=|\\\\&|%=|%|!=))|((|F|R|fR|rb|Br|rf|BR|U|bR|b|rF|Rf|B|r|br|Rb|FR|Fr|RB|RF|rB|f|u|fr)\\'[^\\\\n\\'\\\\\\\\]*(?:\\\\\\\\.[^\\\\n\\'\\\\\\\\]*)*(\\'|\\\\\\\\\\\\r?\\\\n)|(|F|R|fR|rb|Br|rf|BR|U|bR|b|rF|Rf|B|r|br|Rb|FR|Fr|RB|RF|rB|f|u|fr)\"[^\\\\n\"\\\\\\\\]*(?:\\\\\\\\.[^\\\\n\"\\\\\\\\]*)*(\"|\\\\\\\\\\\\r?\\\\n))|\\\\w+)',\n",
       "   32): re.compile(r'[ \\f\\t]*((\\\\\\r?\\n|\\Z|#[^\\r\\n]*|((|F|R|fR|rb|Br|rf|BR|U|bR|b|rF|Rf|B|r|br|Rb|FR|Fr|RB|RF|rB|f|u|fr)\\'\\'\\'|(|F|R|fR|rb|Br|rf|BR|U|bR|b|rF|Rf|B|r|br|Rb|FR|Fr|RB|RF|rB|f|u|fr)\"\"\"))|(([0-9](?:_?[0-9])*[jJ]|(([0-9](?:_?[0-9])*\\.(?:[0-9](?:_?[0-9])*)?|\\.[0-9](?:_?[0-9])*)([eE][-+]?[0-9](?:_?[0-9])*)?|[0-9](?:_?[0-9])*[eE][-+]?[0-9](?:_?[0-9])*)[jJ])|(([0-9](?:_?[0-9])*\\.(?:[0-9](?:_?[0-9])*)?|\\.[0-9](?:_?[0-9])*)([eE][-+]?[0-9](?:_?[0-9])*)?|[0-9](?:_?[0-9])*[eE][-+]?[0-9](?:_?[0-9])*)|(0[xX](?:_?[0-9a-fA-F])+|0[bB](?:_?[01])+|0[oO](?:_?[0-7])+|(?:0(?:_?0)*|[1-9](?:_?[0-9])*)))|(\\r?\\n|(\\~|\\}|\\|=|\\||\\{|\\^=|\\^|\\]|\\[|@=|@|>>=|>>|>=|>|==|=|<=|<<=|<<|<|;|:=|:|/=|//=|//|/|\\.\\.\\.|\\.|\\->|\\-=|\\-|,|\\+=|\\+|\\*=|\\*\\*=|\\*\\*|\\*|\\)|\\(|\\&=|\\&|%=|%|!=))|((|F|R|fR|rb|Br|rf|BR|U|bR|b|rF|Rf|B|r|br|Rb|FR|Fr|RB|RF|rB|f|u|fr)\\'[^\\n\\'\\\\]*(?:\\\\.[^\\n\\'\\\\]*)*(\\'|\\\\\\r?\\n)|(|F|R|fR|rb|Br|rf|BR|U|bR|b|rF|Rf|B|r|br|Rb|FR|Fr|RB|RF|rB|f|u|fr)\"[^\\n\"\\\\]*(?:\\\\.[^\\n\"\\\\]*)*(\"|\\\\\\r?\\n))|\\w+)',\n",
       "  re.UNICODE),\n",
       "  (str,\n",
       "   '[^\"\\\\\\\\]*(?:(?:\\\\\\\\.|\"(?!\"\"))[^\"\\\\\\\\]*)*\"\"\"',\n",
       "   32): re.compile(r'[^\"\\\\]*(?:(?:\\\\.|\"(?!\"\"))[^\"\\\\]*)*\"\"\"',\n",
       "  re.UNICODE),\n",
       "  (str,\n",
       "   '^(\\\\s*def\\\\s)|(.*(?<!\\\\w)lambda(:|\\\\s))|^(\\\\s*@)',\n",
       "   0): re.compile(r'^(\\s*def\\s)|(.*(?<!\\w)lambda(:|\\s))|^(\\s*@)',\n",
       "  re.UNICODE),\n",
       "  (str, '\\\\d', 0): re.compile(r'\\d', re.UNICODE),\n",
       "  (str, '^ *\\n', 0): re.compile(r'^ *\\n', re.UNICODE),\n",
       "  (str, '.\\x08', 0): re.compile(r'.\\x08', re.UNICODE),\n",
       "  (str, '\\\\d+', 0): re.compile(r'\\d+', re.UNICODE),\n",
       "  (str, '\\\\d.', 0): re.compile(r'\\d.', re.UNICODE),\n",
       "  (str, '\\\\d..', 0): re.compile(r'\\d..', re.UNICODE),\n",
       "  (str, '\\\\w', 0): re.compile(r'\\w', re.UNICODE),\n",
       "  (str, '\\\\w+', 0): re.compile(r'\\w+', re.UNICODE),\n",
       "  (str, '\\\\w..@', 0): re.compile(r'\\w..@', re.UNICODE),\n",
       "  (str, '\\\\w..@\\\\w..', 0): re.compile(r'\\w..@\\w..', re.UNICODE),\n",
       "  (str, '\\\\w..@\\\\w..\\\\.', 0): re.compile(r'\\w..@\\w..\\.', re.UNICODE),\n",
       "  (str, '\\\\w..@\\\\w..\\\\.w+', 0): re.compile(r'\\w..@\\w..\\.w+', re.UNICODE),\n",
       "  (str, '\\\\w..@\\\\w..\\\\.w', 0): re.compile(r'\\w..@\\w..\\.w', re.UNICODE),\n",
       "  (str, '\\\\w+@\\\\w+.\\\\w+', 0): re.compile(r'\\w+@\\w+.\\w+', re.UNICODE),\n",
       "  (str, 'w+@\\\\w+.\\\\w+', 0): re.compile(r'w+@\\w+.\\w+', re.UNICODE),\n",
       "  (str, '\\\\S', 0): re.compile(r'\\S', re.UNICODE),\n",
       "  (str, '\\\\S+', 0): re.compile(r'\\S+', re.UNICODE),\n",
       "  (str, '\\\\w{3}', 0): re.compile(r'\\w{3}', re.UNICODE)},\n",
       " '_MAXCACHE': 512,\n",
       " '_compile': <function re._compile(pattern, flags)>,\n",
       " '_compile_repl': <functools._lru_cache_wrapper at 0x1fa82d91360>,\n",
       " '_expand': <function re._expand(pattern, match, template)>,\n",
       " '_subx': <function re._subx(pattern, template)>,\n",
       " 'copyreg': <module 'copyreg' from 'c:\\\\users\\\\soman\\\\appdata\\\\local\\\\programs\\\\python\\\\python39\\\\lib\\\\copyreg.py'>,\n",
       " '_pickle': <function re._pickle(p)>,\n",
       " 'Scanner': re.Scanner}"
      ]
     },
     "execution_count": 82,
     "metadata": {},
     "output_type": "execute_result"
    }
   ],
   "source": [
    "re.match.__globals__"
   ]
  },
  {
   "cell_type": "code",
   "execution_count": 83,
   "id": "eb492547",
   "metadata": {},
   "outputs": [],
   "source": [
    "import re \n",
    "text = 'rahul somani'\n",
    "pattern = re.compile(r'[aeiou]')"
   ]
  },
  {
   "cell_type": "code",
   "execution_count": 84,
   "id": "10e7b228",
   "metadata": {},
   "outputs": [],
   "source": [
    "matchobj = re.findall(pattern,text)\n"
   ]
  },
  {
   "cell_type": "code",
   "execution_count": 85,
   "id": "48666c06",
   "metadata": {},
   "outputs": [
    {
     "data": {
      "text/plain": [
       "['a', 'u', 'o', 'a', 'i']"
      ]
     },
     "execution_count": 85,
     "metadata": {},
     "output_type": "execute_result"
    }
   ],
   "source": [
    "matchobj"
   ]
  },
  {
   "cell_type": "code",
   "execution_count": 86,
   "id": "3dfd139d",
   "metadata": {},
   "outputs": [
    {
     "name": "stdout",
     "output_type": "stream",
     "text": [
      "['A', 'ASCII', 'DEBUG', 'DOTALL', 'I', 'IGNORECASE', 'L', 'LOCALE', 'M', 'MULTILINE', 'Match', 'Pattern', 'RegexFlag', 'S', 'Scanner', 'T', 'TEMPLATE', 'U', 'UNICODE', 'VERBOSE', 'X', '_MAXCACHE', '__all__', '__builtins__', '__cached__', '__doc__', '__file__', '__loader__', '__name__', '__package__', '__spec__', '__version__', '_cache', '_compile', '_compile_repl', '_expand', '_locale', '_pickle', '_special_chars_map', '_subx', 'compile', 'copyreg', 'enum', 'error', 'escape', 'findall', 'finditer', 'fullmatch', 'functools', 'match', 'purge', 'search', 'split', 'sre_compile', 'sre_parse', 'sub', 'subn', 'template']\n"
     ]
    }
   ],
   "source": [
    "print(dir(re))"
   ]
  },
  {
   "cell_type": "code",
   "execution_count": 87,
   "id": "67e32719",
   "metadata": {},
   "outputs": [
    {
     "data": {
      "text/plain": [
       "'Return an iterator over all non-overlapping matches in the\\n    string.  For each match, the iterator returns a Match object.\\n\\n    Empty matches are included in the result.'"
      ]
     },
     "execution_count": 87,
     "metadata": {},
     "output_type": "execute_result"
    }
   ],
   "source": [
    "re.finditer.__doc__"
   ]
  },
  {
   "cell_type": "code",
   "execution_count": 88,
   "id": "cb51a61e",
   "metadata": {},
   "outputs": [],
   "source": [
    "import re \n",
    "text = 'rahul somani'\n",
    "pattern = re.compile(r'[^aeiou]')"
   ]
  },
  {
   "cell_type": "code",
   "execution_count": 89,
   "id": "b634af25",
   "metadata": {},
   "outputs": [
    {
     "data": {
      "text/plain": [
       "re.compile(r'[^aeiou]', re.UNICODE)"
      ]
     },
     "execution_count": 89,
     "metadata": {},
     "output_type": "execute_result"
    }
   ],
   "source": [
    "pattern "
   ]
  },
  {
   "cell_type": "code",
   "execution_count": 90,
   "id": "f6fe067c",
   "metadata": {},
   "outputs": [],
   "source": [
    "result = re.findall(pattern,text)\n"
   ]
  },
  {
   "cell_type": "code",
   "execution_count": 91,
   "id": "6465bbd9",
   "metadata": {},
   "outputs": [
    {
     "data": {
      "text/plain": [
       "['r', 'h', 'l', ' ', 's', 'm', 'n']"
      ]
     },
     "execution_count": 91,
     "metadata": {},
     "output_type": "execute_result"
    }
   ],
   "source": [
    "result"
   ]
  },
  {
   "cell_type": "markdown",
   "id": "7829ba6b",
   "metadata": {},
   "source": [
    "#Inverting a character class \n",
    "\n",
    "`syntax: [^0-9] means all but excluding 0 to 9`\n",
    "\n"
   ]
  },
  {
   "cell_type": "code",
   "execution_count": 92,
   "id": "741d557a",
   "metadata": {},
   "outputs": [],
   "source": [
    "msg = '123 this is life 567'\n",
    "pattern = r'[^0-9]'\n",
    "result = re.search(pattern,msg)"
   ]
  },
  {
   "cell_type": "code",
   "execution_count": 93,
   "id": "4894cc2c",
   "metadata": {},
   "outputs": [
    {
     "data": {
      "text/plain": [
       "<re.Match object; span=(3, 4), match=' '>"
      ]
     },
     "execution_count": 93,
     "metadata": {},
     "output_type": "execute_result"
    }
   ],
   "source": [
    "result"
   ]
  },
  {
   "cell_type": "code",
   "execution_count": 94,
   "id": "f042d2ed",
   "metadata": {},
   "outputs": [],
   "source": [
    "msg = '123 this is life 567'\n",
    "pattern = r'[^a-z]'\n",
    "result = re.search(pattern,msg)"
   ]
  },
  {
   "cell_type": "code",
   "execution_count": 95,
   "id": "2ea7760d",
   "metadata": {},
   "outputs": [
    {
     "data": {
      "text/plain": [
       "<re.Match object; span=(0, 1), match='1'>"
      ]
     },
     "execution_count": 95,
     "metadata": {},
     "output_type": "execute_result"
    }
   ],
   "source": [
    "result"
   ]
  },
  {
   "cell_type": "markdown",
   "id": "3f94c30a",
   "metadata": {},
   "source": [
    "# ^ :- The carret symbol \n",
    "\n",
    "` It matches the beginning of a string `"
   ]
  },
  {
   "cell_type": "code",
   "execution_count": 96,
   "id": "797d6bf2",
   "metadata": {},
   "outputs": [],
   "source": [
    "msg = 'This is life 007'\n",
    "pattern = r'^This'\n",
    "res = re.search(pattern,msg)"
   ]
  },
  {
   "cell_type": "code",
   "execution_count": 97,
   "id": "e01286af",
   "metadata": {},
   "outputs": [
    {
     "data": {
      "text/plain": [
       "<re.Match object; span=(0, 4), match='This'>"
      ]
     },
     "execution_count": 97,
     "metadata": {},
     "output_type": "execute_result"
    }
   ],
   "source": [
    "res"
   ]
  },
  {
   "cell_type": "code",
   "execution_count": 98,
   "id": "989aff26",
   "metadata": {},
   "outputs": [],
   "source": [
    "msg = 'This is life 007'\n",
    "pattern = r'^Th'\n",
    "res = re.search(pattern,msg)"
   ]
  },
  {
   "cell_type": "code",
   "execution_count": 100,
   "id": "b4aeb18b",
   "metadata": {},
   "outputs": [
    {
     "data": {
      "text/plain": [
       "'Th'"
      ]
     },
     "execution_count": 100,
     "metadata": {},
     "output_type": "execute_result"
    }
   ],
   "source": [
    "res.group()"
   ]
  },
  {
   "cell_type": "code",
   "execution_count": 103,
   "id": "68e1532b",
   "metadata": {},
   "outputs": [],
   "source": [
    "msg = 'This is life 007'\n",
    "pattern = r'^Rahul'\n",
    "res = re.search(pattern,msg)"
   ]
  },
  {
   "cell_type": "code",
   "execution_count": 104,
   "id": "15b8f809",
   "metadata": {},
   "outputs": [],
   "source": [
    "res"
   ]
  },
  {
   "cell_type": "code",
   "execution_count": 105,
   "id": "e4aaecb3",
   "metadata": {},
   "outputs": [
    {
     "data": {
      "text/plain": [
       "NoneType"
      ]
     },
     "execution_count": 105,
     "metadata": {},
     "output_type": "execute_result"
    }
   ],
   "source": [
    "type(res)"
   ]
  },
  {
   "cell_type": "markdown",
   "id": "d03db5d9",
   "metadata": {},
   "source": [
    "# $: \n",
    "\n",
    "` Syntax: 'end$' `"
   ]
  },
  {
   "cell_type": "code",
   "execution_count": 110,
   "id": "3cb66e73",
   "metadata": {},
   "outputs": [],
   "source": [
    "msg = 'This is life 007'\n",
    "pattern = r'7$'\n",
    "result = re.search(pattern,msg)"
   ]
  },
  {
   "cell_type": "code",
   "execution_count": 111,
   "id": "9dc7186e",
   "metadata": {},
   "outputs": [
    {
     "data": {
      "text/plain": [
       "(<re.Match object; span=(15, 16), match='7'>, '7')"
      ]
     },
     "execution_count": 111,
     "metadata": {},
     "output_type": "execute_result"
    }
   ],
   "source": [
    "result, result.group()"
   ]
  },
  {
   "cell_type": "code",
   "execution_count": 112,
   "id": "02d643d8",
   "metadata": {},
   "outputs": [],
   "source": [
    "msg = 'This is life 007'\n",
    "pattern = r'8$'\n",
    "result = re.search(pattern,msg)"
   ]
  },
  {
   "cell_type": "code",
   "execution_count": 114,
   "id": "96a7d1f3",
   "metadata": {},
   "outputs": [
    {
     "data": {
      "text/plain": [
       "NoneType"
      ]
     },
     "execution_count": 114,
     "metadata": {},
     "output_type": "execute_result"
    }
   ],
   "source": [
    "type(result)"
   ]
  },
  {
   "cell_type": "code",
   "execution_count": null,
   "id": "60e6d595",
   "metadata": {},
   "outputs": [],
   "source": []
  }
 ],
 "metadata": {
  "kernelspec": {
   "display_name": "Python 3",
   "language": "python",
   "name": "python3"
  },
  "language_info": {
   "codemirror_mode": {
    "name": "ipython",
    "version": 3
   },
   "file_extension": ".py",
   "mimetype": "text/x-python",
   "name": "python",
   "nbconvert_exporter": "python",
   "pygments_lexer": "ipython3",
   "version": "3.9.6"
  }
 },
 "nbformat": 4,
 "nbformat_minor": 5
}
