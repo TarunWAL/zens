{
 "cells": [
  {
   "cell_type": "code",
   "execution_count": 4,
   "id": "9cc75378",
   "metadata": {},
   "outputs": [],
   "source": [
    "friend_list = ['rahul','ujjwal','shweta','sameer','avantika','siva']\n"
   ]
  },
  {
   "cell_type": "code",
   "execution_count": 5,
   "id": "c7fc42d9",
   "metadata": {},
   "outputs": [
    {
     "data": {
      "text/plain": [
       "<function sorted(iterable, /, *, key=None, reverse=False)>"
      ]
     },
     "execution_count": 5,
     "metadata": {},
     "output_type": "execute_result"
    }
   ],
   "source": [
    "sorted"
   ]
  },
  {
   "cell_type": "code",
   "execution_count": 6,
   "id": "fc7b5cfc",
   "metadata": {},
   "outputs": [
    {
     "data": {
      "text/plain": [
       "['siva', 'rahul', 'ujjwal', 'shweta', 'sameer', 'avantika']"
      ]
     },
     "execution_count": 6,
     "metadata": {},
     "output_type": "execute_result"
    }
   ],
   "source": [
    "sorted(friend_list,key=len)"
   ]
  },
  {
   "cell_type": "code",
   "execution_count": 7,
   "id": "c001116c",
   "metadata": {},
   "outputs": [],
   "source": [
    "def reverse(word):\n",
    "    return word[::-1]\n"
   ]
  },
  {
   "cell_type": "code",
   "execution_count": 8,
   "id": "95f9dac5",
   "metadata": {},
   "outputs": [
    {
     "data": {
      "text/plain": [
       "'avis'"
      ]
     },
     "execution_count": 8,
     "metadata": {},
     "output_type": "execute_result"
    }
   ],
   "source": [
    "reverse('siva')"
   ]
  },
  {
   "cell_type": "markdown",
   "id": "505a28b4",
   "metadata": {},
   "source": [
    "` Why such an output ? `\n"
   ]
  },
  {
   "cell_type": "code",
   "execution_count": 10,
   "id": "38085f2e",
   "metadata": {},
   "outputs": [
    {
     "data": {
      "text/plain": [
       "['avantika', 'shweta', 'siva', 'ujjwal', 'rahul', 'sameer']"
      ]
     },
     "execution_count": 10,
     "metadata": {},
     "output_type": "execute_result"
    }
   ],
   "source": [
    "sorted(friend_list,key=reverse)"
   ]
  },
  {
   "cell_type": "code",
   "execution_count": 11,
   "id": "51f0b4b0",
   "metadata": {},
   "outputs": [],
   "source": [
    "class Example:\n",
    "    val = 10\n",
    "    def __init__(self,n):\n",
    "        self.n = n \n",
    "        \n",
    "       \n",
    "\n",
    "        "
   ]
  },
  {
   "cell_type": "code",
   "execution_count": 12,
   "id": "ee355098",
   "metadata": {},
   "outputs": [],
   "source": [
    "e = Example(10)"
   ]
  },
  {
   "cell_type": "code",
   "execution_count": 14,
   "id": "8f033238",
   "metadata": {},
   "outputs": [
    {
     "data": {
      "text/plain": [
       "mappingproxy({'__module__': '__main__',\n",
       "              'val': 10,\n",
       "              '__init__': <function __main__.Example.__init__(self, n)>,\n",
       "              '__dict__': <attribute '__dict__' of 'Example' objects>,\n",
       "              '__weakref__': <attribute '__weakref__' of 'Example' objects>,\n",
       "              '__doc__': None})"
      ]
     },
     "execution_count": 14,
     "metadata": {},
     "output_type": "execute_result"
    }
   ],
   "source": [
    "Example.__dict__"
   ]
  },
  {
   "cell_type": "code",
   "execution_count": 15,
   "id": "5ac23167",
   "metadata": {},
   "outputs": [
    {
     "data": {
      "text/plain": [
       "{'n': 10}"
      ]
     },
     "execution_count": 15,
     "metadata": {},
     "output_type": "execute_result"
    }
   ],
   "source": [
    "e.__dict__"
   ]
  },
  {
   "cell_type": "code",
   "execution_count": 16,
   "id": "386283c5",
   "metadata": {},
   "outputs": [],
   "source": [
    "class Example:\n",
    "    val = 10\n",
    "    def __init__(self,n):\n",
    "        self.n = n \n",
    "        result = self.n **2 \n",
    "        "
   ]
  },
  {
   "cell_type": "code",
   "execution_count": 17,
   "id": "816b299e",
   "metadata": {},
   "outputs": [],
   "source": [
    "e = Example(10)"
   ]
  },
  {
   "cell_type": "code",
   "execution_count": 18,
   "id": "60dacab1",
   "metadata": {},
   "outputs": [
    {
     "data": {
      "text/plain": [
       "mappingproxy({'__module__': '__main__',\n",
       "              'val': 10,\n",
       "              '__init__': <function __main__.Example.__init__(self, n)>,\n",
       "              '__dict__': <attribute '__dict__' of 'Example' objects>,\n",
       "              '__weakref__': <attribute '__weakref__' of 'Example' objects>,\n",
       "              '__doc__': None})"
      ]
     },
     "execution_count": 18,
     "metadata": {},
     "output_type": "execute_result"
    }
   ],
   "source": [
    "Example.__dict__"
   ]
  },
  {
   "cell_type": "code",
   "execution_count": 19,
   "id": "11933442",
   "metadata": {},
   "outputs": [
    {
     "data": {
      "text/plain": [
       "{'n': 10}"
      ]
     },
     "execution_count": 19,
     "metadata": {},
     "output_type": "execute_result"
    }
   ],
   "source": [
    "e.__dict__"
   ]
  },
  {
   "cell_type": "code",
   "execution_count": 20,
   "id": "625cab64",
   "metadata": {},
   "outputs": [],
   "source": [
    "class Example:\n",
    "    val = 10\n",
    "    def __init__(self,n):\n",
    "        self.n = n \n",
    "        self.result = self.n **2 \n",
    "        "
   ]
  },
  {
   "cell_type": "code",
   "execution_count": 21,
   "id": "f661b607",
   "metadata": {},
   "outputs": [],
   "source": [
    "e = Example(10)"
   ]
  },
  {
   "cell_type": "code",
   "execution_count": 22,
   "id": "c70c9391",
   "metadata": {},
   "outputs": [
    {
     "data": {
      "text/plain": [
       "{'n': 10, 'result': 100}"
      ]
     },
     "execution_count": 22,
     "metadata": {},
     "output_type": "execute_result"
    }
   ],
   "source": [
    "e.__dict__"
   ]
  },
  {
   "cell_type": "code",
   "execution_count": 23,
   "id": "1acdadb0",
   "metadata": {},
   "outputs": [
    {
     "ename": "NameError",
     "evalue": "name 'self' is not defined",
     "output_type": "error",
     "traceback": [
      "\u001b[1;31m---------------------------------------------------------------------------\u001b[0m",
      "\u001b[1;31mNameError\u001b[0m                                 Traceback (most recent call last)",
      "\u001b[1;32m<ipython-input-23-400505546ddd>\u001b[0m in \u001b[0;36m<module>\u001b[1;34m\u001b[0m\n\u001b[1;32m----> 1\u001b[1;33m \u001b[1;32mclass\u001b[0m \u001b[0mExample\u001b[0m\u001b[1;33m:\u001b[0m\u001b[1;33m\u001b[0m\u001b[1;33m\u001b[0m\u001b[0m\n\u001b[0m\u001b[0;32m      2\u001b[0m     \u001b[0mself\u001b[0m\u001b[1;33m.\u001b[0m\u001b[0mval\u001b[0m \u001b[1;33m=\u001b[0m \u001b[1;36m10\u001b[0m\u001b[1;33m\u001b[0m\u001b[1;33m\u001b[0m\u001b[0m\n\u001b[0;32m      3\u001b[0m     \u001b[1;32mdef\u001b[0m \u001b[0m__init__\u001b[0m\u001b[1;33m(\u001b[0m\u001b[0mself\u001b[0m\u001b[1;33m,\u001b[0m\u001b[0mn\u001b[0m\u001b[1;33m)\u001b[0m\u001b[1;33m:\u001b[0m\u001b[1;33m\u001b[0m\u001b[1;33m\u001b[0m\u001b[0m\n\u001b[0;32m      4\u001b[0m         \u001b[0mself\u001b[0m\u001b[1;33m.\u001b[0m\u001b[0mn\u001b[0m \u001b[1;33m=\u001b[0m \u001b[0mn\u001b[0m\u001b[1;33m\u001b[0m\u001b[1;33m\u001b[0m\u001b[0m\n\u001b[0;32m      5\u001b[0m         \u001b[0mself\u001b[0m\u001b[1;33m.\u001b[0m\u001b[0mresult\u001b[0m \u001b[1;33m=\u001b[0m \u001b[0mself\u001b[0m\u001b[1;33m.\u001b[0m\u001b[0mn\u001b[0m \u001b[1;33m**\u001b[0m\u001b[1;36m2\u001b[0m\u001b[1;33m\u001b[0m\u001b[1;33m\u001b[0m\u001b[0m\n",
      "\u001b[1;32m<ipython-input-23-400505546ddd>\u001b[0m in \u001b[0;36mExample\u001b[1;34m()\u001b[0m\n\u001b[0;32m      1\u001b[0m \u001b[1;32mclass\u001b[0m \u001b[0mExample\u001b[0m\u001b[1;33m:\u001b[0m\u001b[1;33m\u001b[0m\u001b[1;33m\u001b[0m\u001b[0m\n\u001b[1;32m----> 2\u001b[1;33m     \u001b[0mself\u001b[0m\u001b[1;33m.\u001b[0m\u001b[0mval\u001b[0m \u001b[1;33m=\u001b[0m \u001b[1;36m10\u001b[0m\u001b[1;33m\u001b[0m\u001b[1;33m\u001b[0m\u001b[0m\n\u001b[0m\u001b[0;32m      3\u001b[0m     \u001b[1;32mdef\u001b[0m \u001b[0m__init__\u001b[0m\u001b[1;33m(\u001b[0m\u001b[0mself\u001b[0m\u001b[1;33m,\u001b[0m\u001b[0mn\u001b[0m\u001b[1;33m)\u001b[0m\u001b[1;33m:\u001b[0m\u001b[1;33m\u001b[0m\u001b[1;33m\u001b[0m\u001b[0m\n\u001b[0;32m      4\u001b[0m         \u001b[0mself\u001b[0m\u001b[1;33m.\u001b[0m\u001b[0mn\u001b[0m \u001b[1;33m=\u001b[0m \u001b[0mn\u001b[0m\u001b[1;33m\u001b[0m\u001b[1;33m\u001b[0m\u001b[0m\n\u001b[0;32m      5\u001b[0m         \u001b[0mself\u001b[0m\u001b[1;33m.\u001b[0m\u001b[0mresult\u001b[0m \u001b[1;33m=\u001b[0m \u001b[0mself\u001b[0m\u001b[1;33m.\u001b[0m\u001b[0mn\u001b[0m \u001b[1;33m**\u001b[0m\u001b[1;36m2\u001b[0m\u001b[1;33m\u001b[0m\u001b[1;33m\u001b[0m\u001b[0m\n",
      "\u001b[1;31mNameError\u001b[0m: name 'self' is not defined"
     ]
    }
   ],
   "source": [
    "class Example:\n",
    "    self.val = 10\n",
    "    def __init__(self,n):\n",
    "        self.n = n \n",
    "        self.result = self.n **2 \n",
    "        "
   ]
  },
  {
   "cell_type": "markdown",
   "id": "74d81911",
   "metadata": {},
   "source": [
    "# class and static methods "
   ]
  },
  {
   "cell_type": "code",
   "execution_count": 24,
   "id": "174730fe",
   "metadata": {},
   "outputs": [],
   "source": [
    "class Worker:\n",
    "    def hello(arg = 'a worker'):\n",
    "        print(f'Hello with {arg}')"
   ]
  },
  {
   "cell_type": "code",
   "execution_count": 25,
   "id": "a4a649bd",
   "metadata": {},
   "outputs": [
    {
     "data": {
      "text/plain": [
       "<function __main__.Worker.hello(arg='a worker')>"
      ]
     },
     "execution_count": 25,
     "metadata": {},
     "output_type": "execute_result"
    }
   ],
   "source": [
    "Worker.hello"
   ]
  },
  {
   "cell_type": "code",
   "execution_count": 26,
   "id": "dc309073",
   "metadata": {},
   "outputs": [
    {
     "name": "stdout",
     "output_type": "stream",
     "text": [
      "Hello with a worker\n"
     ]
    }
   ],
   "source": [
    "Worker.hello()"
   ]
  },
  {
   "cell_type": "code",
   "execution_count": 27,
   "id": "5441939e",
   "metadata": {},
   "outputs": [],
   "source": [
    "w = Worker()"
   ]
  },
  {
   "cell_type": "code",
   "execution_count": 28,
   "id": "e2e9deeb",
   "metadata": {},
   "outputs": [
    {
     "name": "stdout",
     "output_type": "stream",
     "text": [
      "Hello with <__main__.Worker object at 0x000001409A8E5490>\n"
     ]
    }
   ],
   "source": [
    "w.hello()"
   ]
  },
  {
   "cell_type": "code",
   "execution_count": 29,
   "id": "2e2c1438",
   "metadata": {},
   "outputs": [
    {
     "data": {
      "text/plain": [
       "'0x1409a8e5490'"
      ]
     },
     "execution_count": 29,
     "metadata": {},
     "output_type": "execute_result"
    }
   ],
   "source": [
    "hex(id(w))"
   ]
  },
  {
   "cell_type": "code",
   "execution_count": 30,
   "id": "50bcf8fb",
   "metadata": {},
   "outputs": [],
   "source": [
    "class Worker:\n",
    "    def hello():\n",
    "        print(f'Hello from a regular function')"
   ]
  },
  {
   "cell_type": "code",
   "execution_count": 31,
   "id": "b5a4a01f",
   "metadata": {},
   "outputs": [],
   "source": [
    "w = Worker()"
   ]
  },
  {
   "cell_type": "code",
   "execution_count": 32,
   "id": "d48ecae2",
   "metadata": {},
   "outputs": [
    {
     "data": {
      "text/plain": [
       "mappingproxy({'__module__': '__main__',\n",
       "              'hello': <function __main__.Worker.hello()>,\n",
       "              '__dict__': <attribute '__dict__' of 'Worker' objects>,\n",
       "              '__weakref__': <attribute '__weakref__' of 'Worker' objects>,\n",
       "              '__doc__': None})"
      ]
     },
     "execution_count": 32,
     "metadata": {},
     "output_type": "execute_result"
    }
   ],
   "source": [
    "Worker.__dict__"
   ]
  },
  {
   "cell_type": "code",
   "execution_count": 33,
   "id": "a34d3a23",
   "metadata": {},
   "outputs": [
    {
     "ename": "TypeError",
     "evalue": "hello() takes 0 positional arguments but 1 was given",
     "output_type": "error",
     "traceback": [
      "\u001b[1;31m---------------------------------------------------------------------------\u001b[0m",
      "\u001b[1;31mTypeError\u001b[0m                                 Traceback (most recent call last)",
      "\u001b[1;32m<ipython-input-33-8601f9057698>\u001b[0m in \u001b[0;36m<module>\u001b[1;34m\u001b[0m\n\u001b[1;32m----> 1\u001b[1;33m \u001b[0mw\u001b[0m\u001b[1;33m.\u001b[0m\u001b[0mhello\u001b[0m\u001b[1;33m(\u001b[0m\u001b[1;33m)\u001b[0m\u001b[1;33m\u001b[0m\u001b[1;33m\u001b[0m\u001b[0m\n\u001b[0m",
      "\u001b[1;31mTypeError\u001b[0m: hello() takes 0 positional arguments but 1 was given"
     ]
    }
   ],
   "source": [
    "w.hello()"
   ]
  },
  {
   "cell_type": "code",
   "execution_count": 34,
   "id": "be3aa14a",
   "metadata": {},
   "outputs": [],
   "source": [
    "class MyClass:\n",
    "    def hello():\n",
    "        print('Hello World')\n",
    "        \n",
    "    def instance_hello(arg):\n",
    "        print(f'Hello from {arg}')\n",
    "        \n",
    "    @classmethod\n",
    "    def class_hello(arg):\n",
    "        print('Hello from {arg}')\n",
    "    "
   ]
  },
  {
   "cell_type": "code",
   "execution_count": 35,
   "id": "8afedf99",
   "metadata": {},
   "outputs": [],
   "source": [
    "m = MyClass()"
   ]
  },
  {
   "cell_type": "code",
   "execution_count": 36,
   "id": "f1d7668a",
   "metadata": {},
   "outputs": [
    {
     "data": {
      "text/plain": [
       "<__main__.MyClass at 0x1409a840160>"
      ]
     },
     "execution_count": 36,
     "metadata": {},
     "output_type": "execute_result"
    }
   ],
   "source": [
    "m"
   ]
  },
  {
   "cell_type": "code",
   "execution_count": 37,
   "id": "895d32fe",
   "metadata": {},
   "outputs": [
    {
     "data": {
      "text/plain": [
       "__main__.MyClass"
      ]
     },
     "execution_count": 37,
     "metadata": {},
     "output_type": "execute_result"
    }
   ],
   "source": [
    "MyClass"
   ]
  },
  {
   "cell_type": "code",
   "execution_count": 39,
   "id": "aae76ceb",
   "metadata": {},
   "outputs": [
    {
     "name": "stdout",
     "output_type": "stream",
     "text": [
      "Hello World\n"
     ]
    }
   ],
   "source": [
    "MyClass.hello()"
   ]
  },
  {
   "cell_type": "code",
   "execution_count": 40,
   "id": "dea371e3",
   "metadata": {},
   "outputs": [
    {
     "data": {
      "text/plain": [
       "mappingproxy({'__module__': '__main__',\n",
       "              'hello': <function __main__.MyClass.hello()>,\n",
       "              'instance_hello': <function __main__.MyClass.instance_hello(arg)>,\n",
       "              'class_hello': <classmethod at 0x1409a8cfd30>,\n",
       "              '__dict__': <attribute '__dict__' of 'MyClass' objects>,\n",
       "              '__weakref__': <attribute '__weakref__' of 'MyClass' objects>,\n",
       "              '__doc__': None})"
      ]
     },
     "execution_count": 40,
     "metadata": {},
     "output_type": "execute_result"
    }
   ],
   "source": [
    "MyClass.__dict__"
   ]
  },
  {
   "cell_type": "code",
   "execution_count": 42,
   "id": "5daafb03",
   "metadata": {},
   "outputs": [
    {
     "name": "stdout",
     "output_type": "stream",
     "text": [
      "hello() takes 0 positional arguments but 1 was given TypeError('hello() takes 0 positional arguments but 1 was given')\n"
     ]
    }
   ],
   "source": [
    "try:\n",
    "    m.hello()\n",
    "except Exception as e:\n",
    "    print(e,repr(e))"
   ]
  },
  {
   "cell_type": "code",
   "execution_count": 43,
   "id": "8431e684",
   "metadata": {},
   "outputs": [
    {
     "name": "stdout",
     "output_type": "stream",
     "text": [
      "hello() takes 0 positional arguments but 1 was given TypeError('hello() takes 0 positional arguments but 1 was given')\n"
     ]
    }
   ],
   "source": [
    "try:\n",
    "    m.hello()\n",
    "except TypeError as e:\n",
    "    print(e,repr(e))"
   ]
  },
  {
   "cell_type": "code",
   "execution_count": 44,
   "id": "4a746def",
   "metadata": {},
   "outputs": [
    {
     "name": "stdout",
     "output_type": "stream",
     "text": [
      "Hello from <__main__.MyClass object at 0x000001409A840160>\n"
     ]
    }
   ],
   "source": [
    "m.instance_hello()"
   ]
  },
  {
   "cell_type": "code",
   "execution_count": 45,
   "id": "4f248a63",
   "metadata": {},
   "outputs": [
    {
     "name": "stdout",
     "output_type": "stream",
     "text": [
      "Hello from <__main__.MyClass object at 0x000001409A840160>\n"
     ]
    }
   ],
   "source": [
    "MyClass.instance_hello(m)"
   ]
  },
  {
   "cell_type": "code",
   "execution_count": 46,
   "id": "290980fb",
   "metadata": {},
   "outputs": [
    {
     "data": {
      "text/plain": [
       "<bound method MyClass.class_hello of <class '__main__.MyClass'>>"
      ]
     },
     "execution_count": 46,
     "metadata": {},
     "output_type": "execute_result"
    }
   ],
   "source": [
    "MyClass.class_hello"
   ]
  },
  {
   "cell_type": "code",
   "execution_count": 47,
   "id": "b370914d",
   "metadata": {},
   "outputs": [
    {
     "data": {
      "text/plain": [
       "<bound method MyClass.class_hello of <class '__main__.MyClass'>>"
      ]
     },
     "execution_count": 47,
     "metadata": {},
     "output_type": "execute_result"
    }
   ],
   "source": [
    "m.class_hello"
   ]
  },
  {
   "cell_type": "code",
   "execution_count": 48,
   "id": "b1ea7dcc",
   "metadata": {},
   "outputs": [
    {
     "name": "stdout",
     "output_type": "stream",
     "text": [
      "Hello from {arg}\n"
     ]
    }
   ],
   "source": [
    "MyClass.class_hello()"
   ]
  },
  {
   "cell_type": "code",
   "execution_count": 49,
   "id": "eac0ef58",
   "metadata": {},
   "outputs": [
    {
     "name": "stdout",
     "output_type": "stream",
     "text": [
      "Hello from {arg}\n"
     ]
    }
   ],
   "source": [
    "m.class_hello()"
   ]
  },
  {
   "cell_type": "markdown",
   "id": "845f96b2",
   "metadata": {},
   "source": [
    "Sometimes we would want to define functions in a class which are never bound to either the class \n",
    "or the instance, however we call them. Often we do this because we need utility function that is specfic \n",
    "to our class, and we want to keep our class self-container. \n",
    "\n",
    "These are called static methods \n",
    "They can be defined using the `@staticmethod` decorator"
   ]
  },
  {
   "cell_type": "code",
   "execution_count": 51,
   "id": "a267d9ec",
   "metadata": {},
   "outputs": [],
   "source": [
    "class MyClass:\n",
    "    def instance_hi(self):\n",
    "        print(' Instance method bound to {}'.format(self))\n",
    "    \n",
    "    @classmethod\n",
    "    def class_hi(cls):\n",
    "        print('Class method bound to {}'.format(cls))\n",
    "        \n",
    "    @staticmethod\n",
    "    def static_hi():\n",
    "        print('Static method not bound to anything')\n",
    "        "
   ]
  },
  {
   "cell_type": "code",
   "execution_count": 52,
   "id": "7821d6a3",
   "metadata": {},
   "outputs": [],
   "source": [
    "m = MyClass()"
   ]
  },
  {
   "cell_type": "code",
   "execution_count": 53,
   "id": "bd19d4ab",
   "metadata": {},
   "outputs": [
    {
     "name": "stdout",
     "output_type": "stream",
     "text": [
      " Instance method bound to <__main__.MyClass object at 0x000001409A8CFBB0>\n"
     ]
    }
   ],
   "source": [
    "m.instance_hi()"
   ]
  },
  {
   "cell_type": "code",
   "execution_count": 54,
   "id": "af9a1b60",
   "metadata": {},
   "outputs": [
    {
     "data": {
      "text/plain": [
       "'0x1409a8cfbb0'"
      ]
     },
     "execution_count": 54,
     "metadata": {},
     "output_type": "execute_result"
    }
   ],
   "source": [
    "hex(id(m))"
   ]
  },
  {
   "cell_type": "code",
   "execution_count": 55,
   "id": "e698eea1",
   "metadata": {},
   "outputs": [
    {
     "name": "stdout",
     "output_type": "stream",
     "text": [
      "Class method bound to <class '__main__.MyClass'>\n"
     ]
    }
   ],
   "source": [
    "m.class_hi()"
   ]
  },
  {
   "cell_type": "code",
   "execution_count": 56,
   "id": "a8290d00",
   "metadata": {},
   "outputs": [
    {
     "name": "stdout",
     "output_type": "stream",
     "text": [
      "Static method not bound to anything\n"
     ]
    }
   ],
   "source": [
    "m.static_hi()"
   ]
  },
  {
   "cell_type": "code",
   "execution_count": 57,
   "id": "c42ffb02",
   "metadata": {},
   "outputs": [
    {
     "name": "stdout",
     "output_type": "stream",
     "text": [
      "Static method not bound to anything\n"
     ]
    }
   ],
   "source": [
    "MyClass.static_hi()"
   ]
  },
  {
   "cell_type": "code",
   "execution_count": null,
   "id": "2f1d7b58",
   "metadata": {},
   "outputs": [],
   "source": []
  }
 ],
 "metadata": {
  "kernelspec": {
   "display_name": "Python 3",
   "language": "python",
   "name": "python3"
  },
  "language_info": {
   "codemirror_mode": {
    "name": "ipython",
    "version": 3
   },
   "file_extension": ".py",
   "mimetype": "text/x-python",
   "name": "python",
   "nbconvert_exporter": "python",
   "pygments_lexer": "ipython3",
   "version": "3.9.6"
  }
 },
 "nbformat": 4,
 "nbformat_minor": 5
}
